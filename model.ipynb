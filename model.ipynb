{
 "cells": [
  {
   "cell_type": "markdown",
   "metadata": {},
   "source": [
    "# Load Libraries"
   ]
  },
  {
   "cell_type": "code",
   "execution_count": 1,
   "metadata": {},
   "outputs": [],
   "source": [
    "import numpy as np\n",
    "import pandas as pd\n",
    "from sklearn.model_selection import train_test_split\n",
    "from sklearn.preprocessing import StandardScaler, MinMaxScaler"
   ]
  },
  {
   "cell_type": "markdown",
   "metadata": {},
   "source": [
    "# Main Functions"
   ]
  },
  {
   "cell_type": "code",
   "execution_count": 3,
   "metadata": {},
   "outputs": [],
   "source": [
    "def load_data(file):\n",
    "    # Load  data from file and return it as panads dataframe\n",
    "    return pd.read_csv(file)\n",
    "\n",
    "def scale_features(X_train, X_test, scaler='standard'):\n",
    "    # load x data and returned it as a scaled data\n",
    "    if scaler == 'minmax':\n",
    "        scaler = MinMaxScaler()\n",
    "    else:\n",
    "        scaler = StandardScaler()\n",
    "    X_train_scaled = scaler.fit_transform(X_train)\n",
    "    X_test_scaled = scaler.transform(X_test)\n",
    "    \n",
    "    return X_train_scaled, X_test_scaled        \n"
   ]
  },
  {
   "cell_type": "markdown",
   "metadata": {},
   "source": [
    "# NLP Functions"
   ]
  },
  {
   "cell_type": "code",
   "execution_count": 12,
   "metadata": {},
   "outputs": [],
   "source": [
    "def drop_null(train, test):\n",
    "    train = train.dropna()\n",
    "    test  = test.dropna().reset_index(drop=True)    \n",
    "    return train, test"
   ]
  },
  {
   "cell_type": "code",
   "execution_count": 33,
   "metadata": {},
   "outputs": [],
   "source": [
    "def filter_arabic(text):\n",
    "    import re\n",
    "    arabic_pattern = re.compile(r'[\\u0600-\\u06FF\\u0750-\\u077F\\u08A0-\\u08FF\\uFB50-\\uFDFF\\uFE70-\\uFEFF]+')\n",
    "    arabic_text = arabic_pattern.findall(text)\n",
    "    return ' '.join(arabic_text)"
   ]
  },
  {
   "cell_type": "markdown",
   "metadata": {},
   "source": [
    "# Model"
   ]
  },
  {
   "cell_type": "markdown",
   "metadata": {},
   "source": [
    "## Load & Describe Data"
   ]
  },
  {
   "cell_type": "code",
   "execution_count": 7,
   "metadata": {},
   "outputs": [],
   "source": [
    "train_data = load_data('train.csv')\n",
    "test_data  = load_data('val.csv')"
   ]
  },
  {
   "cell_type": "code",
   "execution_count": 8,
   "metadata": {},
   "outputs": [
    {
     "name": "stdout",
     "output_type": "stream",
     "text": [
      "<class 'pandas.core.frame.DataFrame'>\n",
      "RangeIndex: 52758 entries, 0 to 52757\n",
      "Data columns (total 3 columns):\n",
      " #   Column    Non-Null Count  Dtype \n",
      "---  ------    --------------  ----- \n",
      " 0   question  52758 non-null  object\n",
      " 1   answer    52657 non-null  object\n",
      " 2   label     52758 non-null  object\n",
      "dtypes: object(3)\n",
      "memory usage: 1.2+ MB\n"
     ]
    }
   ],
   "source": [
    "train_data.info()"
   ]
  },
  {
   "cell_type": "code",
   "execution_count": 9,
   "metadata": {},
   "outputs": [
    {
     "name": "stdout",
     "output_type": "stream",
     "text": [
      "<class 'pandas.core.frame.DataFrame'>\n",
      "RangeIndex: 17586 entries, 0 to 17585\n",
      "Data columns (total 3 columns):\n",
      " #   Column    Non-Null Count  Dtype \n",
      "---  ------    --------------  ----- \n",
      " 0   question  17586 non-null  object\n",
      " 1   answer    17547 non-null  object\n",
      " 2   label     17586 non-null  object\n",
      "dtypes: object(3)\n",
      "memory usage: 412.3+ KB\n"
     ]
    }
   ],
   "source": [
    "test_data.info()"
   ]
  },
  {
   "cell_type": "markdown",
   "metadata": {},
   "source": [
    "## PreProcessing DATA"
   ]
  },
  {
   "cell_type": "code",
   "execution_count": 34,
   "metadata": {},
   "outputs": [],
   "source": [
    "# 1.Drop Null Data From Train and Test Data   \n",
    "train , test = drop_null(train_data, test_data)"
   ]
  },
  {
   "cell_type": "code",
   "execution_count": 36,
   "metadata": {},
   "outputs": [
    {
     "data": {
      "text/html": [
       "<div>\n",
       "<style scoped>\n",
       "    .dataframe tbody tr th:only-of-type {\n",
       "        vertical-align: middle;\n",
       "    }\n",
       "\n",
       "    .dataframe tbody tr th {\n",
       "        vertical-align: top;\n",
       "    }\n",
       "\n",
       "    .dataframe thead th {\n",
       "        text-align: right;\n",
       "    }\n",
       "</style>\n",
       "<table border=\"1\" class=\"dataframe\">\n",
       "  <thead>\n",
       "    <tr style=\"text-align: right;\">\n",
       "      <th></th>\n",
       "      <th>question</th>\n",
       "      <th>answer</th>\n",
       "      <th>label</th>\n",
       "    </tr>\n",
       "  </thead>\n",
       "  <tbody>\n",
       "    <tr>\n",
       "      <th>0</th>\n",
       "      <td>\\nما هي مميزات و عيوب الدواء جلوكوفانس 500 5 و...</td>\n",
       "      <td>\\n\\nلكل علاج ايجابيته وسلبياته والتي تعتمد على...</td>\n",
       "      <td>الدم</td>\n",
       "    </tr>\n",
       "    <tr>\n",
       "      <th>1</th>\n",
       "      <td>\\nاليك نتيجة تحليل هرمونات الغدة الدرقية علما ...</td>\n",
       "      <td>\\n\\nنعم. يجب تخفيض الجرعة، الا اذا كان سبب است...</td>\n",
       "      <td>الاورام-الخبيثة-والحميدة</td>\n",
       "    </tr>\n",
       "    <tr>\n",
       "      <th>2</th>\n",
       "      <td>\\nحلول منزلية لأعراض ارتفاع ضغط الدم</td>\n",
       "      <td>\\n\\nيفضل عدم الاستغناء عن العلاج الدوائي لمرضى...</td>\n",
       "      <td>جراحة-عامة</td>\n",
       "    </tr>\n",
       "    <tr>\n",
       "      <th>3</th>\n",
       "      <td>\\nعملت عملية دوالي الساقين قسطرة الليزر من شهر...</td>\n",
       "      <td>\\n\\nراجع طبيبك من اجري الجراحه افضل من يجيب لا...</td>\n",
       "      <td>أمراض-الجهاز-التنفسي</td>\n",
       "    </tr>\n",
       "    <tr>\n",
       "      <th>4</th>\n",
       "      <td>\\nما حقيقة ان تمرين العضلة النعلية يخفض السكر ...</td>\n",
       "      <td>\\n\\nإذا قصدت تدليك العضلة فهذا كلام غير صحيح ....</td>\n",
       "      <td>مرض-السكري</td>\n",
       "    </tr>\n",
       "  </tbody>\n",
       "</table>\n",
       "</div>"
      ],
      "text/plain": [
       "                                            question  \\\n",
       "0  \\nما هي مميزات و عيوب الدواء جلوكوفانس 500 5 و...   \n",
       "1  \\nاليك نتيجة تحليل هرمونات الغدة الدرقية علما ...   \n",
       "2              \\nحلول منزلية لأعراض ارتفاع ضغط الدم    \n",
       "3  \\nعملت عملية دوالي الساقين قسطرة الليزر من شهر...   \n",
       "4  \\nما حقيقة ان تمرين العضلة النعلية يخفض السكر ...   \n",
       "\n",
       "                                              answer                     label  \n",
       "0  \\n\\nلكل علاج ايجابيته وسلبياته والتي تعتمد على...                      الدم  \n",
       "1  \\n\\nنعم. يجب تخفيض الجرعة، الا اذا كان سبب است...  الاورام-الخبيثة-والحميدة  \n",
       "2  \\n\\nيفضل عدم الاستغناء عن العلاج الدوائي لمرضى...                جراحة-عامة  \n",
       "3  \\n\\nراجع طبيبك من اجري الجراحه افضل من يجيب لا...      أمراض-الجهاز-التنفسي  \n",
       "4  \\n\\nإذا قصدت تدليك العضلة فهذا كلام غير صحيح ....                مرض-السكري  "
      ]
     },
     "execution_count": 36,
     "metadata": {},
     "output_type": "execute_result"
    }
   ],
   "source": [
    "train.head()"
   ]
  },
  {
   "cell_type": "code",
   "execution_count": 39,
   "metadata": {},
   "outputs": [
    {
     "name": "stderr",
     "output_type": "stream",
     "text": [
      "C:\\Users\\OMAR\\AppData\\Local\\Temp\\ipykernel_19296\\57213588.py:2: SettingWithCopyWarning: \n",
      "A value is trying to be set on a copy of a slice from a DataFrame.\n",
      "Try using .loc[row_indexer,col_indexer] = value instead\n",
      "\n",
      "See the caveats in the documentation: https://pandas.pydata.org/pandas-docs/stable/user_guide/indexing.html#returning-a-view-versus-a-copy\n",
      "  train['question'] = train['question'].apply(filter_arabic)\n",
      "C:\\Users\\OMAR\\AppData\\Local\\Temp\\ipykernel_19296\\57213588.py:3: SettingWithCopyWarning: \n",
      "A value is trying to be set on a copy of a slice from a DataFrame.\n",
      "Try using .loc[row_indexer,col_indexer] = value instead\n",
      "\n",
      "See the caveats in the documentation: https://pandas.pydata.org/pandas-docs/stable/user_guide/indexing.html#returning-a-view-versus-a-copy\n",
      "  train['answer']   = train['answer'].apply(filter_arabic)\n"
     ]
    }
   ],
   "source": [
    "# 2. Filtering Non-Arabic Content: Remove any irrelevant content that is not in Arabic\n",
    "train['question'] = train['question'].apply(filter_arabic)\n",
    "train['answer']   = train['answer'].apply(filter_arabic)\n",
    "test['question']  = test['question'].apply(filter_arabic)\n",
    "test['answer']    = test['answer'].apply(filter_arabic)"
   ]
  },
  {
   "cell_type": "code",
   "execution_count": 21,
   "metadata": {},
   "outputs": [],
   "source": [
    "# 3.Text Segmentation"
   ]
  },
  {
   "cell_type": "code",
   "execution_count": 22,
   "metadata": {},
   "outputs": [],
   "source": [
    "# 4.Normalization"
   ]
  },
  {
   "cell_type": "code",
   "execution_count": 23,
   "metadata": {},
   "outputs": [],
   "source": [
    "# 5.Tokenization"
   ]
  },
  {
   "cell_type": "code",
   "execution_count": null,
   "metadata": {},
   "outputs": [],
   "source": [
    "# 6.Removing Stopwords"
   ]
  },
  {
   "cell_type": "code",
   "execution_count": 24,
   "metadata": {},
   "outputs": [],
   "source": [
    "# 7.Stemming"
   ]
  },
  {
   "cell_type": "code",
   "execution_count": 25,
   "metadata": {},
   "outputs": [],
   "source": [
    "# 8.Part-of-Speech Tagging"
   ]
  },
  {
   "cell_type": "code",
   "execution_count": 26,
   "metadata": {},
   "outputs": [],
   "source": [
    "# 9.Named Entity Recognition"
   ]
  },
  {
   "cell_type": "code",
   "execution_count": 27,
   "metadata": {},
   "outputs": [],
   "source": [
    "# 10.Handling Dialectal Variations\n",
    "# https://medium.com/@neri.vvo/arabic-nlp-how-to-overcome-challenges-in-preprocessing-ed56de0c43e2"
   ]
  },
  {
   "cell_type": "code",
   "execution_count": 28,
   "metadata": {},
   "outputs": [],
   "source": [
    "# 11. Feature Engineering:\n",
    "# Extract relevant features from the text data, such as n-grams, part-of-speech tags, or named entities, depending on the requirements of your chatbot."
   ]
  },
  {
   "cell_type": "code",
   "execution_count": null,
   "metadata": {},
   "outputs": [],
   "source": [
    "# 11. Vectorization:\n",
    "# Convert the preprocessed text data into numerical vectors suitable for machine learning algorithms, such as TF-IDF vectors or word embeddings."
   ]
  }
 ],
 "metadata": {
  "kernelspec": {
   "display_name": "Python 3",
   "language": "python",
   "name": "python3"
  },
  "language_info": {
   "codemirror_mode": {
    "name": "ipython",
    "version": 3
   },
   "file_extension": ".py",
   "mimetype": "text/x-python",
   "name": "python",
   "nbconvert_exporter": "python",
   "pygments_lexer": "ipython3",
   "version": "3.12.2"
  }
 },
 "nbformat": 4,
 "nbformat_minor": 2
}
