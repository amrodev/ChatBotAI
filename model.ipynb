{
 "cells": [
  {
   "cell_type": "markdown",
   "metadata": {},
   "source": [
    "# Load Libraries"
   ]
  },
  {
   "cell_type": "code",
   "execution_count": 93,
   "metadata": {},
   "outputs": [],
   "source": [
    "import numpy as np\n",
    "import pandas as pd\n",
    "import nltk\n",
    "import matplotlib.pyplot as plt\n",
    "from sklearn.model_selection import train_test_split\n",
    "from sklearn.preprocessing import StandardScaler, MinMaxScaler\n",
    "from tensorflow.keras.models import Sequential\n",
    "from tensorflow.keras.layers import LSTM, Dense, Embedding,Dropout\n",
    "from tensorflow.keras.optimizers import SGD\n"
   ]
  },
  {
   "cell_type": "markdown",
   "metadata": {},
   "source": [
    "# Main Functions"
   ]
  },
  {
   "cell_type": "code",
   "execution_count": 2,
   "metadata": {},
   "outputs": [],
   "source": [
    "def load_data(file):\n",
    "    # Load  data from file and return it as panads dataframe\n",
    "    return pd.read_csv(file)\n",
    "\n",
    "def scale_features(X_train, X_test, scaler='standard'):\n",
    "    # load x data and returned it as a scaled data\n",
    "    if scaler == 'minmax':\n",
    "        scaler = MinMaxScaler()\n",
    "    else:\n",
    "        scaler = StandardScaler()\n",
    "    X_train_scaled = scaler.fit_transform(X_train)\n",
    "    X_test_scaled = scaler.transform(X_test)\n",
    "    \n",
    "    return X_train_scaled, X_test_scaled        \n"
   ]
  },
  {
   "cell_type": "code",
   "execution_count": 3,
   "metadata": {},
   "outputs": [],
   "source": [
    "# Dataset Ststics\n",
    "def  data_stats(data,column):\n",
    "    from nltk import FreqDist\n",
    "    \n",
    "    # Number of questions and ansers \n",
    "    print(f\"Number of Questions are  {len(data)}\")\n",
    "\n",
    "    vocabulary_size = len(set(data[column].str.split().explode().dropna()))\n",
    "    print(f\"Number of Vocabulary Size = {vocabulary_size}\")\n",
    "\n",
    "    fdist = FreqDist(data[column].str.split().explode().dropna())\n",
    "    most_frequent = fdist.most_common(10)  \n",
    "    print(f\"Most frequent words (top 10) = {most_frequent}\")\n"
   ]
  },
  {
   "cell_type": "markdown",
   "metadata": {},
   "source": [
    "# NLP Functions"
   ]
  },
  {
   "cell_type": "code",
   "execution_count": 4,
   "metadata": {},
   "outputs": [],
   "source": [
    "# Drop Null Rows\n",
    "def drop_null(train, test):\n",
    "    train = train.dropna()\n",
    "    test  = test.dropna().reset_index(drop=True)    \n",
    "    return train, test"
   ]
  },
  {
   "cell_type": "code",
   "execution_count": 5,
   "metadata": {},
   "outputs": [],
   "source": [
    "# Remove Non-Arabic Letters\n",
    "def filter_arabic(text):\n",
    "    import re\n",
    "    arabic_pattern = re.compile(r'[\\u0600-\\u06FF\\u0750-\\u077F\\u08A0-\\u08FF\\uFB50-\\uFDFF\\uFE70-\\uFEFF]+')\n",
    "    arabic_text = arabic_pattern.findall(text)\n",
    "    return ' '.join(arabic_text)"
   ]
  },
  {
   "cell_type": "code",
   "execution_count": 6,
   "metadata": {},
   "outputs": [],
   "source": [
    "# Remove Dublicate Questions\n",
    "def remove_duplicates_set(dataset):\n",
    "  unique_questions = []\n",
    "  seen_questions = {}\n",
    "  for col in dataset:\n",
    "    if col['question'] not in seen_questions:\n",
    "      seen_questions[question] = True\n",
    "    else:\n",
    "      dataset.drop(axis=0,inplace=True)  \n",
    "  return dataset"
   ]
  },
  {
   "cell_type": "code",
   "execution_count": 7,
   "metadata": {},
   "outputs": [],
   "source": [
    "# Clean text using regular expression\n",
    "def cleanText(text):\n",
    "  import re\n",
    "  text = re.sub(r'@|#\\w+', '', text) # Remove hashtags or mentions\n",
    "  text = re.sub(r'http[s]?://(?:[a-zA-Z]|[0-9]|[$-_@.&+]|[!*\\\\(\\\\),]|(?:%[0-9a-fA-F][0-9a-fA-F]))+', '', text) # Substitute all URLs in the text with an empty string\n",
    "  text = re.sub(r'(\\?|!)+', '', text) # Remove question mark? And another one with an exclamation mark!\n",
    "  text = re.sub(r'\\d+', '', text) # Remove Numbers\n",
    "  text = re.sub(r'[^\\w\\s]', '', text) # Remove punctuation\n",
    "  text = re.sub(r'^\\s+', '', text) # Remove leading spaces\n",
    "  text = re.sub(r'\\s+$', '', text) # Remove trailing spaces\n",
    "  return text"
   ]
  },
  {
   "cell_type": "code",
   "execution_count": 8,
   "metadata": {},
   "outputs": [
    {
     "name": "stderr",
     "output_type": "stream",
     "text": [
      "[nltk_data] Error loading stopwords: <urlopen error [Errno 11001]\n",
      "[nltk_data]     getaddrinfo failed>\n"
     ]
    }
   ],
   "source": [
    "# Stop Words\n",
    "from nltk.corpus import stopwords\n",
    "nltk.download('stopwords')\n",
    "arabic_stopwords = stopwords.words('arabic')\n",
    "\n",
    "def remove_stop_words(text):\n",
    "  return ' '.join([word for word in text.split() if word not in arabic_stopwords])\n"
   ]
  },
  {
   "cell_type": "code",
   "execution_count": 9,
   "metadata": {},
   "outputs": [],
   "source": [
    "# Normalizes Arabic letters in a text by replacing different forms of the latter (أ, آ, إ) to (ا) for example\n",
    "import pyarabic.araby as araby\n",
    "def normalize_arabic_letters(text):\n",
    "    text = araby.strip_tashkeel(text)\n",
    "    text = araby.strip_diacritics(text)\n",
    "    text = araby.strip_shadda(text)\n",
    "    text = araby.normalize_hamza(text,method=\"tasheel\")\n",
    "    return text"
   ]
  },
  {
   "cell_type": "code",
   "execution_count": 10,
   "metadata": {},
   "outputs": [],
   "source": [
    "from nltk import word_tokenize\n",
    "def count_arabic_words(data):\n",
    "  df = pd.DataFrame({})\n",
    "  def count_words(text):\n",
    "    words = word_tokenize(text)  # Tokenize\n",
    "    return len(words) \n",
    "   \n",
    "  df['question'] = data['question']\n",
    "  df['answer'] = data['answer']\n",
    "  #  word_tokenize(text)\n",
    "  df['question_counter'] = data['question'].apply(count_words)\n",
    "  df['answer_counter']   = data['answer'].apply(count_words)\n",
    "  df['label']   = data['label']\n",
    "  \n",
    "  # new_column_order = [*data.columns[:data.columns.get_loc('question')],\n",
    "  #                       'question_counter',\n",
    "  #                       *data.columns[data.columns.get_loc('answer'):data.columns.get_loc(last_column)],\n",
    "  #                       'answer_counter',\n",
    "  #                       last_column]\n",
    "  # df = data[new_column_order]\n",
    "  return df"
   ]
  },
  {
   "cell_type": "markdown",
   "metadata": {},
   "source": [
    "# Model"
   ]
  },
  {
   "cell_type": "markdown",
   "metadata": {},
   "source": [
    "## Load & Describe Data"
   ]
  },
  {
   "cell_type": "code",
   "execution_count": 11,
   "metadata": {},
   "outputs": [],
   "source": [
    "train_data = load_data('train.csv')\n",
    "test_data  = load_data('val.csv')"
   ]
  },
  {
   "cell_type": "code",
   "execution_count": 12,
   "metadata": {},
   "outputs": [
    {
     "name": "stdout",
     "output_type": "stream",
     "text": [
      "<class 'pandas.core.frame.DataFrame'>\n",
      "RangeIndex: 52758 entries, 0 to 52757\n",
      "Data columns (total 3 columns):\n",
      " #   Column    Non-Null Count  Dtype \n",
      "---  ------    --------------  ----- \n",
      " 0   question  52758 non-null  object\n",
      " 1   answer    52657 non-null  object\n",
      " 2   label     52758 non-null  object\n",
      "dtypes: object(3)\n",
      "memory usage: 1.2+ MB\n"
     ]
    }
   ],
   "source": [
    "train_data.info()"
   ]
  },
  {
   "cell_type": "code",
   "execution_count": 13,
   "metadata": {},
   "outputs": [
    {
     "name": "stdout",
     "output_type": "stream",
     "text": [
      "<class 'pandas.core.frame.DataFrame'>\n",
      "RangeIndex: 17586 entries, 0 to 17585\n",
      "Data columns (total 3 columns):\n",
      " #   Column    Non-Null Count  Dtype \n",
      "---  ------    --------------  ----- \n",
      " 0   question  17586 non-null  object\n",
      " 1   answer    17547 non-null  object\n",
      " 2   label     17586 non-null  object\n",
      "dtypes: object(3)\n",
      "memory usage: 412.3+ KB\n"
     ]
    }
   ],
   "source": [
    "test_data.info()"
   ]
  },
  {
   "cell_type": "markdown",
   "metadata": {},
   "source": [
    "## PreProcessing DataSet"
   ]
  },
  {
   "cell_type": "code",
   "execution_count": 14,
   "metadata": {},
   "outputs": [],
   "source": [
    "# 1.Drop Null Data From Train and Test Data   \n",
    "train , test = drop_null(train_data, test_data)"
   ]
  },
  {
   "cell_type": "code",
   "execution_count": 15,
   "metadata": {},
   "outputs": [
    {
     "data": {
      "text/html": [
       "<div>\n",
       "<style scoped>\n",
       "    .dataframe tbody tr th:only-of-type {\n",
       "        vertical-align: middle;\n",
       "    }\n",
       "\n",
       "    .dataframe tbody tr th {\n",
       "        vertical-align: top;\n",
       "    }\n",
       "\n",
       "    .dataframe thead th {\n",
       "        text-align: right;\n",
       "    }\n",
       "</style>\n",
       "<table border=\"1\" class=\"dataframe\">\n",
       "  <thead>\n",
       "    <tr style=\"text-align: right;\">\n",
       "      <th></th>\n",
       "      <th>question</th>\n",
       "      <th>answer</th>\n",
       "      <th>label</th>\n",
       "    </tr>\n",
       "  </thead>\n",
       "  <tbody>\n",
       "    <tr>\n",
       "      <th>0</th>\n",
       "      <td>\\nما هي مميزات و عيوب الدواء جلوكوفانس 500 5 و...</td>\n",
       "      <td>\\n\\nلكل علاج ايجابيته وسلبياته والتي تعتمد على...</td>\n",
       "      <td>الدم</td>\n",
       "    </tr>\n",
       "    <tr>\n",
       "      <th>1</th>\n",
       "      <td>\\nاليك نتيجة تحليل هرمونات الغدة الدرقية علما ...</td>\n",
       "      <td>\\n\\nنعم. يجب تخفيض الجرعة، الا اذا كان سبب است...</td>\n",
       "      <td>الاورام-الخبيثة-والحميدة</td>\n",
       "    </tr>\n",
       "    <tr>\n",
       "      <th>2</th>\n",
       "      <td>\\nحلول منزلية لأعراض ارتفاع ضغط الدم</td>\n",
       "      <td>\\n\\nيفضل عدم الاستغناء عن العلاج الدوائي لمرضى...</td>\n",
       "      <td>جراحة-عامة</td>\n",
       "    </tr>\n",
       "    <tr>\n",
       "      <th>3</th>\n",
       "      <td>\\nعملت عملية دوالي الساقين قسطرة الليزر من شهر...</td>\n",
       "      <td>\\n\\nراجع طبيبك من اجري الجراحه افضل من يجيب لا...</td>\n",
       "      <td>أمراض-الجهاز-التنفسي</td>\n",
       "    </tr>\n",
       "    <tr>\n",
       "      <th>4</th>\n",
       "      <td>\\nما حقيقة ان تمرين العضلة النعلية يخفض السكر ...</td>\n",
       "      <td>\\n\\nإذا قصدت تدليك العضلة فهذا كلام غير صحيح ....</td>\n",
       "      <td>مرض-السكري</td>\n",
       "    </tr>\n",
       "  </tbody>\n",
       "</table>\n",
       "</div>"
      ],
      "text/plain": [
       "                                            question  \\\n",
       "0  \\nما هي مميزات و عيوب الدواء جلوكوفانس 500 5 و...   \n",
       "1  \\nاليك نتيجة تحليل هرمونات الغدة الدرقية علما ...   \n",
       "2              \\nحلول منزلية لأعراض ارتفاع ضغط الدم    \n",
       "3  \\nعملت عملية دوالي الساقين قسطرة الليزر من شهر...   \n",
       "4  \\nما حقيقة ان تمرين العضلة النعلية يخفض السكر ...   \n",
       "\n",
       "                                              answer                     label  \n",
       "0  \\n\\nلكل علاج ايجابيته وسلبياته والتي تعتمد على...                      الدم  \n",
       "1  \\n\\nنعم. يجب تخفيض الجرعة، الا اذا كان سبب است...  الاورام-الخبيثة-والحميدة  \n",
       "2  \\n\\nيفضل عدم الاستغناء عن العلاج الدوائي لمرضى...                جراحة-عامة  \n",
       "3  \\n\\nراجع طبيبك من اجري الجراحه افضل من يجيب لا...      أمراض-الجهاز-التنفسي  \n",
       "4  \\n\\nإذا قصدت تدليك العضلة فهذا كلام غير صحيح ....                مرض-السكري  "
      ]
     },
     "execution_count": 15,
     "metadata": {},
     "output_type": "execute_result"
    }
   ],
   "source": [
    "train.head()"
   ]
  },
  {
   "cell_type": "code",
   "execution_count": 16,
   "metadata": {},
   "outputs": [],
   "source": [
    "# 2. Filtering Non-Arabic Content: Remove any irrelevant content that is not in Arabic\n",
    "train.loc[:, 'question']  = train['question'].apply(filter_arabic)\n",
    "train.loc[:, 'answer'  ]  = train['answer'].apply(filter_arabic)\n",
    "test.loc[: , 'question']  = test['question'].apply(filter_arabic)\n",
    "test.loc[: , 'answer'  ]  = test['answer'].apply(filter_arabic)"
   ]
  },
  {
   "cell_type": "code",
   "execution_count": 17,
   "metadata": {},
   "outputs": [
    {
     "name": "stdout",
     "output_type": "stream",
     "text": [
      "train_unique_dataset :  31616\n",
      "train_question 52657\n",
      "test_unique_dataset :  10594\n",
      "test_question 17547\n"
     ]
    }
   ],
   "source": [
    "# 3. Remove duplicated questions  from dataset \n",
    "train_unique_data = train.drop_duplicates(subset=['question'])\n",
    "test_unique_data  = test.drop_duplicates(subset=['question'])\n",
    "\n",
    "print(\"train_unique_dataset : \",len(train_unique_data)) \n",
    "print(\"train_question\",len(train)) \n",
    "\n",
    "print(\"test_unique_dataset : \",len(test_unique_data)) \n",
    "print(\"test_question\",len(test)) \n"
   ]
  },
  {
   "cell_type": "code",
   "execution_count": 18,
   "metadata": {},
   "outputs": [],
   "source": [
    "# 4 Clean Text from sprecail cahr and so on\n",
    "train_unique_data.loc[:, 'question'] = train_unique_data['question'].apply(cleanText)\n",
    "train_unique_data.loc[:, 'answer'  ] = train_unique_data['answer'].apply(cleanText)\n",
    "test_unique_data.loc[: , 'question'] = test_unique_data['question'].apply(cleanText)\n",
    "test_unique_data.loc[: , 'answer'  ] = test_unique_data['answer'].apply(cleanText)"
   ]
  },
  {
   "cell_type": "code",
   "execution_count": 19,
   "metadata": {},
   "outputs": [],
   "source": [
    "# 5. Remove Arabic Stop Words \n",
    "train_unique_data.loc[:, 'question'] = train_unique_data['question'].apply(remove_stop_words)\n",
    "train_unique_data.loc[:, 'answer'  ] = train_unique_data['answer'].apply(remove_stop_words)\n",
    "test_unique_data.loc[: , 'question'] = test_unique_data['question'].apply(remove_stop_words)\n",
    "test_unique_data.loc[: , 'answer'  ] = test_unique_data['answer'].apply(remove_stop_words)"
   ]
  },
  {
   "cell_type": "code",
   "execution_count": 20,
   "metadata": {},
   "outputs": [],
   "source": [
    "# 6 Normalize arabic letters\n",
    "train_unique_data.loc[:, 'question'] = train_unique_data['question'].apply(normalize_arabic_letters)\n",
    "train_unique_data.loc[:, 'answer'  ] = train_unique_data['answer'].apply(normalize_arabic_letters)\n",
    "test_unique_data.loc[: , 'question'] = test_unique_data['question'].apply(normalize_arabic_letters)\n",
    "test_unique_data.loc[: , 'answer'  ] = test_unique_data['answer'].apply(normalize_arabic_letters)"
   ]
  },
  {
   "cell_type": "code",
   "execution_count": 21,
   "metadata": {},
   "outputs": [
    {
     "name": "stdout",
     "output_type": "stream",
     "text": [
      "Train Data states (Questions) : \n",
      "Number of Questions are  31616\n",
      "Number of Vocabulary Size = 55406\n",
      "Most frequent words (top 10) = [('انا', 5666), ('ان', 4966), ('اعاني', 4302), ('عليكم', 4192), ('السلام', 3925), ('عندي', 3715), ('او', 3506), ('الدم', 3050), ('الم', 2914), ('علاج', 2792)]\n",
      "---------------------------------------------\n",
      "Train Data states (Answers) : \n",
      "Number of Questions are  31616\n",
      "Number of Vocabulary Size = 60991\n",
      "Most frequent words (top 10) = [('الدكتور', 42812), ('طبية', 31817), ('اسيلة', 31641), ('جراحة', 19473), ('الدم', 14712), ('امراض', 14578), ('الغدد', 11807), ('الصماء', 10819), ('محمد', 10401), ('علي', 8197)]\n",
      "=========================================================================\n",
      "Test Data states (Questions) : \n",
      "Number of Questions are  10594\n",
      "Number of Vocabulary Size = 28900\n",
      "Most frequent words (top 10) = [('انا', 1868), ('ان', 1634), ('عليكم', 1433), ('اعاني', 1396), ('السلام', 1306), ('عندي', 1220), ('او', 1173), ('الم', 1057), ('الدم', 1023), ('علاج', 912)]\n",
      "---------------------------------------------\n",
      "Test Data states (Answers) : \n",
      "Number of Questions are  10594\n",
      "Number of Vocabulary Size = 33896\n",
      "Most frequent words (top 10) = [('الدكتور', 14281), ('طبية', 10661), ('اسيلة', 10601), ('جراحة', 6505), ('الدم', 5081), ('امراض', 4834), ('الغدد', 3971), ('الصماء', 3643), ('محمد', 3443), ('علي', 2883)]\n"
     ]
    }
   ],
   "source": [
    "print(\"Train Data states (Questions) : \")\n",
    "data_stats(train_unique_data,'question')\n",
    "print(\"---------------------------------------------\")\n",
    "print(\"Train Data states (Answers) : \")\n",
    "data_stats(train_unique_data,'answer')\n",
    "print(\"=========================================================================\")\n",
    "print(\"Test Data states (Questions) : \")\n",
    "data_stats(test_unique_data,'question')\n",
    "print(\"---------------------------------------------\")\n",
    "print(\"Test Data states (Answers) : \")\n",
    "data_stats(test_unique_data,'answer')"
   ]
  },
  {
   "cell_type": "code",
   "execution_count": 22,
   "metadata": {},
   "outputs": [
    {
     "data": {
      "text/html": [
       "<div>\n",
       "<style scoped>\n",
       "    .dataframe tbody tr th:only-of-type {\n",
       "        vertical-align: middle;\n",
       "    }\n",
       "\n",
       "    .dataframe tbody tr th {\n",
       "        vertical-align: top;\n",
       "    }\n",
       "\n",
       "    .dataframe thead th {\n",
       "        text-align: right;\n",
       "    }\n",
       "</style>\n",
       "<table border=\"1\" class=\"dataframe\">\n",
       "  <thead>\n",
       "    <tr style=\"text-align: right;\">\n",
       "      <th></th>\n",
       "      <th>question</th>\n",
       "      <th>answer</th>\n",
       "      <th>question_counter</th>\n",
       "      <th>answer_counter</th>\n",
       "      <th>label</th>\n",
       "    </tr>\n",
       "  </thead>\n",
       "  <tbody>\n",
       "    <tr>\n",
       "      <th>0</th>\n",
       "      <td>هى الاعراض الاولى لمرض السكر</td>\n",
       "      <td>اعراض مرض السكر كثيره اهمها العطش كثرة ادرار ا...</td>\n",
       "      <td>5</td>\n",
       "      <td>37</td>\n",
       "      <td>جراحة عامة</td>\n",
       "    </tr>\n",
       "    <tr>\n",
       "      <th>1</th>\n",
       "      <td>يمكن علاج الناسور العصعصي بدون جراحة</td>\n",
       "      <td>علاج الناسور العصعصي يكون بالجراحة فقط الدكتور...</td>\n",
       "      <td>6</td>\n",
       "      <td>22</td>\n",
       "      <td>جراحة_العظام</td>\n",
       "    </tr>\n",
       "    <tr>\n",
       "      <th>2</th>\n",
       "      <td>ماهي الاثار الجانبية لستيصال الغده الدرقيه الع...</td>\n",
       "      <td>تغييرات عديدة العمليات الحيوية لمواد عديدة الج...</td>\n",
       "      <td>16</td>\n",
       "      <td>43</td>\n",
       "      <td>ارتفاع_ضغط_الدم</td>\n",
       "    </tr>\n",
       "    <tr>\n",
       "      <th>3</th>\n",
       "      <td>نقص بهرمون الذكورة ووصف الدكتور حقت سيدوتسترون...</td>\n",
       "      <td>يجب اتباع التعليمات الطبية عدم وقف العلاج تستم...</td>\n",
       "      <td>22</td>\n",
       "      <td>32</td>\n",
       "      <td>امراض-الغدد-الصماء</td>\n",
       "    </tr>\n",
       "    <tr>\n",
       "      <th>4</th>\n",
       "      <td>عملت عملية دوالي الساقين قسطرة الليزر شهر احس ...</td>\n",
       "      <td>مرحبا العملية يمكن يحدث الاعراض المشابهة لتلك ...</td>\n",
       "      <td>26</td>\n",
       "      <td>91</td>\n",
       "      <td>أمراض الجهاز التنفسي</td>\n",
       "    </tr>\n",
       "  </tbody>\n",
       "</table>\n",
       "</div>"
      ],
      "text/plain": [
       "                                            question  \\\n",
       "0                       هى الاعراض الاولى لمرض السكر   \n",
       "1               يمكن علاج الناسور العصعصي بدون جراحة   \n",
       "2  ماهي الاثار الجانبية لستيصال الغده الدرقيه الع...   \n",
       "3  نقص بهرمون الذكورة ووصف الدكتور حقت سيدوتسترون...   \n",
       "4  عملت عملية دوالي الساقين قسطرة الليزر شهر احس ...   \n",
       "\n",
       "                                              answer  question_counter  \\\n",
       "0  اعراض مرض السكر كثيره اهمها العطش كثرة ادرار ا...                 5   \n",
       "1  علاج الناسور العصعصي يكون بالجراحة فقط الدكتور...                 6   \n",
       "2  تغييرات عديدة العمليات الحيوية لمواد عديدة الج...                16   \n",
       "3  يجب اتباع التعليمات الطبية عدم وقف العلاج تستم...                22   \n",
       "4  مرحبا العملية يمكن يحدث الاعراض المشابهة لتلك ...                26   \n",
       "\n",
       "   answer_counter                 label  \n",
       "0              37            جراحة عامة  \n",
       "1              22          جراحة_العظام  \n",
       "2              43       ارتفاع_ضغط_الدم  \n",
       "3              32    امراض-الغدد-الصماء  \n",
       "4              91  أمراض الجهاز التنفسي  "
      ]
     },
     "execution_count": 22,
     "metadata": {},
     "output_type": "execute_result"
    }
   ],
   "source": [
    "# 7. Reformate data frame\n",
    "new_train_data = count_arabic_words(train_unique_data)\n",
    "new_test_data = count_arabic_words(test_unique_data)\n",
    "new_test_data.head()"
   ]
  },
  {
   "cell_type": "markdown",
   "metadata": {},
   "source": [
    "## Building Model"
   ]
  },
  {
   "cell_type": "code",
   "execution_count": 38,
   "metadata": {},
   "outputs": [],
   "source": [
    "tag = []\n",
    "patterns = []\n",
    "responses = []\n",
    "for index, row in new_train_data.iterrows():    \n",
    "    for column in new_train_data.columns:  \n",
    "        responses.append(row['answer'])\n",
    "        patterns.append(row['question'])\n",
    "        tag.append(row['label'])\n"
   ]
  },
  {
   "cell_type": "code",
   "execution_count": 69,
   "metadata": {},
   "outputs": [],
   "source": [
    "from sklearn.feature_extraction.text import TfidfVectorizer\n",
    "vectorizer = TfidfVectorizer()\n",
    "X = vectorizer.fit_transform(patterns)\n",
    "y = np.array(tag)"
   ]
  },
  {
   "cell_type": "code",
   "execution_count": 40,
   "metadata": {},
   "outputs": [],
   "source": [
    "from tensorflow.keras.preprocessing.text import Tokenizer\n",
    "from tensorflow.keras.preprocessing.sequence import pad_sequences"
   ]
  },
  {
   "cell_type": "code",
   "execution_count": 70,
   "metadata": {},
   "outputs": [],
   "source": [
    "tokenizer = Tokenizer(num_words=1000, oov_token=\"<UNK>\")\n",
    "tokenizer.fit_on_texts(patterns)"
   ]
  },
  {
   "cell_type": "code",
   "execution_count": 71,
   "metadata": {},
   "outputs": [],
   "source": [
    "sequences = tokenizer.texts_to_sequences(patterns)"
   ]
  },
  {
   "cell_type": "code",
   "execution_count": 72,
   "metadata": {},
   "outputs": [],
   "source": [
    "final_sequences = pad_sequences(sequences,maxlen=25,truncating='post')"
   ]
  },
  {
   "cell_type": "code",
   "execution_count": 73,
   "metadata": {},
   "outputs": [],
   "source": [
    "from tensorflow.keras.utils import to_categorical\n",
    "from sklearn.preprocessing import LabelEncoder\n",
    "le = LabelEncoder()\n",
    "tags = le.fit_transform(tag)\n",
    "labels = to_categorical(tags)"
   ]
  },
  {
   "cell_type": "code",
   "execution_count": 74,
   "metadata": {},
   "outputs": [
    {
     "data": {
      "text/plain": [
       "(158080, 25)"
      ]
     },
     "execution_count": 74,
     "metadata": {},
     "output_type": "execute_result"
    }
   ],
   "source": [
    "final_sequences.shape"
   ]
  },
  {
   "cell_type": "code",
   "execution_count": 75,
   "metadata": {},
   "outputs": [
    {
     "data": {
      "text/plain": [
       "37"
      ]
     },
     "execution_count": 75,
     "metadata": {},
     "output_type": "execute_result"
    }
   ],
   "source": [
    "len(set(tag))"
   ]
  },
  {
   "cell_type": "code",
   "execution_count": 90,
   "metadata": {},
   "outputs": [],
   "source": [
    "import tensorflow as tf\n",
    "\n",
    "# Define LSTM model\n",
    "model = tf.keras.Sequential([\n",
    "    tf.keras.layers.Input(shape=(37,)),      \n",
    "    tf.keras.layers.Embedding(1000,37),\n",
    "    tf.keras.layers.Dense(128, activation='relu'),\n",
    "    tf.keras.layers.Dropout(0.5),  \n",
    "    tf.keras.layers.LSTM(128, return_sequences=True),            \n",
    "    tf.keras.layers.LSTM(64),            \n",
    "    # tf.keras.layers.Dropout(0.5),\n",
    "    # tf.keras.layers.Dense(15, activation='relu'), \n",
    "    tf.keras.layers.Dense(37,activation='softmax') \n",
    "])\n",
    "\n",
    "\n",
    "# Compile model\n",
    "model.compile(loss='categorical_crossentropy', optimizer='adam',metrics=['accuracy'])"
   ]
  },
  {
   "cell_type": "code",
   "execution_count": 88,
   "metadata": {},
   "outputs": [
    {
     "data": {
      "text/html": [
       "<pre style=\"white-space:pre;overflow-x:auto;line-height:normal;font-family:Menlo,'DejaVu Sans Mono',consolas,'Courier New',monospace\"><span style=\"font-weight: bold\">Model: \"sequential_21\"</span>\n",
       "</pre>\n"
      ],
      "text/plain": [
       "\u001b[1mModel: \"sequential_21\"\u001b[0m\n"
      ]
     },
     "metadata": {},
     "output_type": "display_data"
    },
    {
     "data": {
      "text/html": [
       "<pre style=\"white-space:pre;overflow-x:auto;line-height:normal;font-family:Menlo,'DejaVu Sans Mono',consolas,'Courier New',monospace\">┏━━━━━━━━━━━━━━━━━━━━━━━━━━━━━━━━━┳━━━━━━━━━━━━━━━━━━━━━━━━┳━━━━━━━━━━━━━━━┓\n",
       "┃<span style=\"font-weight: bold\"> Layer (type)                    </span>┃<span style=\"font-weight: bold\"> Output Shape           </span>┃<span style=\"font-weight: bold\">       Param # </span>┃\n",
       "┡━━━━━━━━━━━━━━━━━━━━━━━━━━━━━━━━━╇━━━━━━━━━━━━━━━━━━━━━━━━╇━━━━━━━━━━━━━━━┩\n",
       "│ embedding_20 (<span style=\"color: #0087ff; text-decoration-color: #0087ff\">Embedding</span>)        │ (<span style=\"color: #00d7ff; text-decoration-color: #00d7ff\">None</span>, <span style=\"color: #00af00; text-decoration-color: #00af00\">37</span>, <span style=\"color: #00af00; text-decoration-color: #00af00\">37</span>)         │        <span style=\"color: #00af00; text-decoration-color: #00af00\">37,000</span> │\n",
       "├─────────────────────────────────┼────────────────────────┼───────────────┤\n",
       "│ dense_45 (<span style=\"color: #0087ff; text-decoration-color: #0087ff\">Dense</span>)                │ (<span style=\"color: #00d7ff; text-decoration-color: #00d7ff\">None</span>, <span style=\"color: #00af00; text-decoration-color: #00af00\">37</span>, <span style=\"color: #00af00; text-decoration-color: #00af00\">128</span>)        │         <span style=\"color: #00af00; text-decoration-color: #00af00\">4,864</span> │\n",
       "├─────────────────────────────────┼────────────────────────┼───────────────┤\n",
       "│ dropout_23 (<span style=\"color: #0087ff; text-decoration-color: #0087ff\">Dropout</span>)            │ (<span style=\"color: #00d7ff; text-decoration-color: #00d7ff\">None</span>, <span style=\"color: #00af00; text-decoration-color: #00af00\">37</span>, <span style=\"color: #00af00; text-decoration-color: #00af00\">128</span>)        │             <span style=\"color: #00af00; text-decoration-color: #00af00\">0</span> │\n",
       "├─────────────────────────────────┼────────────────────────┼───────────────┤\n",
       "│ lstm_26 (<span style=\"color: #0087ff; text-decoration-color: #0087ff\">LSTM</span>)                  │ (<span style=\"color: #00d7ff; text-decoration-color: #00d7ff\">None</span>, <span style=\"color: #00af00; text-decoration-color: #00af00\">37</span>, <span style=\"color: #00af00; text-decoration-color: #00af00\">128</span>)        │       <span style=\"color: #00af00; text-decoration-color: #00af00\">131,584</span> │\n",
       "├─────────────────────────────────┼────────────────────────┼───────────────┤\n",
       "│ lstm_27 (<span style=\"color: #0087ff; text-decoration-color: #0087ff\">LSTM</span>)                  │ (<span style=\"color: #00d7ff; text-decoration-color: #00d7ff\">None</span>, <span style=\"color: #00af00; text-decoration-color: #00af00\">64</span>)             │        <span style=\"color: #00af00; text-decoration-color: #00af00\">49,408</span> │\n",
       "├─────────────────────────────────┼────────────────────────┼───────────────┤\n",
       "│ dropout_24 (<span style=\"color: #0087ff; text-decoration-color: #0087ff\">Dropout</span>)            │ (<span style=\"color: #00d7ff; text-decoration-color: #00d7ff\">None</span>, <span style=\"color: #00af00; text-decoration-color: #00af00\">64</span>)             │             <span style=\"color: #00af00; text-decoration-color: #00af00\">0</span> │\n",
       "├─────────────────────────────────┼────────────────────────┼───────────────┤\n",
       "│ dense_46 (<span style=\"color: #0087ff; text-decoration-color: #0087ff\">Dense</span>)                │ (<span style=\"color: #00d7ff; text-decoration-color: #00d7ff\">None</span>, <span style=\"color: #00af00; text-decoration-color: #00af00\">15</span>)             │           <span style=\"color: #00af00; text-decoration-color: #00af00\">975</span> │\n",
       "├─────────────────────────────────┼────────────────────────┼───────────────┤\n",
       "│ dense_47 (<span style=\"color: #0087ff; text-decoration-color: #0087ff\">Dense</span>)                │ (<span style=\"color: #00d7ff; text-decoration-color: #00d7ff\">None</span>, <span style=\"color: #00af00; text-decoration-color: #00af00\">37</span>)             │           <span style=\"color: #00af00; text-decoration-color: #00af00\">592</span> │\n",
       "└─────────────────────────────────┴────────────────────────┴───────────────┘\n",
       "</pre>\n"
      ],
      "text/plain": [
       "┏━━━━━━━━━━━━━━━━━━━━━━━━━━━━━━━━━┳━━━━━━━━━━━━━━━━━━━━━━━━┳━━━━━━━━━━━━━━━┓\n",
       "┃\u001b[1m \u001b[0m\u001b[1mLayer (type)                   \u001b[0m\u001b[1m \u001b[0m┃\u001b[1m \u001b[0m\u001b[1mOutput Shape          \u001b[0m\u001b[1m \u001b[0m┃\u001b[1m \u001b[0m\u001b[1m      Param #\u001b[0m\u001b[1m \u001b[0m┃\n",
       "┡━━━━━━━━━━━━━━━━━━━━━━━━━━━━━━━━━╇━━━━━━━━━━━━━━━━━━━━━━━━╇━━━━━━━━━━━━━━━┩\n",
       "│ embedding_20 (\u001b[38;5;33mEmbedding\u001b[0m)        │ (\u001b[38;5;45mNone\u001b[0m, \u001b[38;5;34m37\u001b[0m, \u001b[38;5;34m37\u001b[0m)         │        \u001b[38;5;34m37,000\u001b[0m │\n",
       "├─────────────────────────────────┼────────────────────────┼───────────────┤\n",
       "│ dense_45 (\u001b[38;5;33mDense\u001b[0m)                │ (\u001b[38;5;45mNone\u001b[0m, \u001b[38;5;34m37\u001b[0m, \u001b[38;5;34m128\u001b[0m)        │         \u001b[38;5;34m4,864\u001b[0m │\n",
       "├─────────────────────────────────┼────────────────────────┼───────────────┤\n",
       "│ dropout_23 (\u001b[38;5;33mDropout\u001b[0m)            │ (\u001b[38;5;45mNone\u001b[0m, \u001b[38;5;34m37\u001b[0m, \u001b[38;5;34m128\u001b[0m)        │             \u001b[38;5;34m0\u001b[0m │\n",
       "├─────────────────────────────────┼────────────────────────┼───────────────┤\n",
       "│ lstm_26 (\u001b[38;5;33mLSTM\u001b[0m)                  │ (\u001b[38;5;45mNone\u001b[0m, \u001b[38;5;34m37\u001b[0m, \u001b[38;5;34m128\u001b[0m)        │       \u001b[38;5;34m131,584\u001b[0m │\n",
       "├─────────────────────────────────┼────────────────────────┼───────────────┤\n",
       "│ lstm_27 (\u001b[38;5;33mLSTM\u001b[0m)                  │ (\u001b[38;5;45mNone\u001b[0m, \u001b[38;5;34m64\u001b[0m)             │        \u001b[38;5;34m49,408\u001b[0m │\n",
       "├─────────────────────────────────┼────────────────────────┼───────────────┤\n",
       "│ dropout_24 (\u001b[38;5;33mDropout\u001b[0m)            │ (\u001b[38;5;45mNone\u001b[0m, \u001b[38;5;34m64\u001b[0m)             │             \u001b[38;5;34m0\u001b[0m │\n",
       "├─────────────────────────────────┼────────────────────────┼───────────────┤\n",
       "│ dense_46 (\u001b[38;5;33mDense\u001b[0m)                │ (\u001b[38;5;45mNone\u001b[0m, \u001b[38;5;34m15\u001b[0m)             │           \u001b[38;5;34m975\u001b[0m │\n",
       "├─────────────────────────────────┼────────────────────────┼───────────────┤\n",
       "│ dense_47 (\u001b[38;5;33mDense\u001b[0m)                │ (\u001b[38;5;45mNone\u001b[0m, \u001b[38;5;34m37\u001b[0m)             │           \u001b[38;5;34m592\u001b[0m │\n",
       "└─────────────────────────────────┴────────────────────────┴───────────────┘\n"
      ]
     },
     "metadata": {},
     "output_type": "display_data"
    },
    {
     "data": {
      "text/html": [
       "<pre style=\"white-space:pre;overflow-x:auto;line-height:normal;font-family:Menlo,'DejaVu Sans Mono',consolas,'Courier New',monospace\"><span style=\"font-weight: bold\"> Total params: </span><span style=\"color: #00af00; text-decoration-color: #00af00\">224,423</span> (876.65 KB)\n",
       "</pre>\n"
      ],
      "text/plain": [
       "\u001b[1m Total params: \u001b[0m\u001b[38;5;34m224,423\u001b[0m (876.65 KB)\n"
      ]
     },
     "metadata": {},
     "output_type": "display_data"
    },
    {
     "data": {
      "text/html": [
       "<pre style=\"white-space:pre;overflow-x:auto;line-height:normal;font-family:Menlo,'DejaVu Sans Mono',consolas,'Courier New',monospace\"><span style=\"font-weight: bold\"> Trainable params: </span><span style=\"color: #00af00; text-decoration-color: #00af00\">224,423</span> (876.65 KB)\n",
       "</pre>\n"
      ],
      "text/plain": [
       "\u001b[1m Trainable params: \u001b[0m\u001b[38;5;34m224,423\u001b[0m (876.65 KB)\n"
      ]
     },
     "metadata": {},
     "output_type": "display_data"
    },
    {
     "data": {
      "text/html": [
       "<pre style=\"white-space:pre;overflow-x:auto;line-height:normal;font-family:Menlo,'DejaVu Sans Mono',consolas,'Courier New',monospace\"><span style=\"font-weight: bold\"> Non-trainable params: </span><span style=\"color: #00af00; text-decoration-color: #00af00\">0</span> (0.00 B)\n",
       "</pre>\n"
      ],
      "text/plain": [
       "\u001b[1m Non-trainable params: \u001b[0m\u001b[38;5;34m0\u001b[0m (0.00 B)\n"
      ]
     },
     "metadata": {},
     "output_type": "display_data"
    }
   ],
   "source": [
    "model.summary()"
   ]
  },
  {
   "cell_type": "code",
   "execution_count": 91,
   "metadata": {},
   "outputs": [
    {
     "name": "stdout",
     "output_type": "stream",
     "text": [
      "Epoch 1/100\n"
     ]
    },
    {
     "name": "stdout",
     "output_type": "stream",
     "text": [
      "\u001b[1m1235/1235\u001b[0m \u001b[32m━━━━━━━━━━━━━━━━━━━━\u001b[0m\u001b[37m\u001b[0m \u001b[1m162s\u001b[0m 126ms/step - accuracy: 0.2639 - loss: 2.4596 - val_accuracy: 0.5675 - val_loss: 1.7942\n",
      "Epoch 2/100\n",
      "\u001b[1m1235/1235\u001b[0m \u001b[32m━━━━━━━━━━━━━━━━━━━━\u001b[0m\u001b[37m\u001b[0m \u001b[1m163s\u001b[0m 132ms/step - accuracy: 0.5717 - loss: 1.7754 - val_accuracy: 0.5927 - val_loss: 1.7084\n",
      "Epoch 3/100\n",
      "\u001b[1m1235/1235\u001b[0m \u001b[32m━━━━━━━━━━━━━━━━━━━━\u001b[0m\u001b[37m\u001b[0m \u001b[1m174s\u001b[0m 141ms/step - accuracy: 0.5912 - loss: 1.7117 - val_accuracy: 0.6068 - val_loss: 1.6588\n",
      "Epoch 4/100\n",
      "\u001b[1m1235/1235\u001b[0m \u001b[32m━━━━━━━━━━━━━━━━━━━━\u001b[0m\u001b[37m\u001b[0m \u001b[1m175s\u001b[0m 142ms/step - accuracy: 0.6008 - loss: 1.6735 - val_accuracy: 0.6197 - val_loss: 1.6109\n",
      "Epoch 5/100\n",
      "\u001b[1m1235/1235\u001b[0m \u001b[32m━━━━━━━━━━━━━━━━━━━━\u001b[0m\u001b[37m\u001b[0m \u001b[1m169s\u001b[0m 137ms/step - accuracy: 0.6123 - loss: 1.6292 - val_accuracy: 0.6299 - val_loss: 1.5573\n",
      "Epoch 6/100\n",
      "\u001b[1m1235/1235\u001b[0m \u001b[32m━━━━━━━━━━━━━━━━━━━━\u001b[0m\u001b[37m\u001b[0m \u001b[1m154s\u001b[0m 125ms/step - accuracy: 0.6219 - loss: 1.5827 - val_accuracy: 0.6453 - val_loss: 1.4878\n",
      "Epoch 7/100\n",
      "\u001b[1m1235/1235\u001b[0m \u001b[32m━━━━━━━━━━━━━━━━━━━━\u001b[0m\u001b[37m\u001b[0m \u001b[1m152s\u001b[0m 123ms/step - accuracy: 0.6305 - loss: 1.5353 - val_accuracy: 0.6653 - val_loss: 1.3987\n",
      "Epoch 8/100\n",
      "\u001b[1m1235/1235\u001b[0m \u001b[32m━━━━━━━━━━━━━━━━━━━━\u001b[0m\u001b[37m\u001b[0m \u001b[1m159s\u001b[0m 129ms/step - accuracy: 0.6455 - loss: 1.4554 - val_accuracy: 0.6805 - val_loss: 1.3160\n",
      "Epoch 9/100\n",
      "\u001b[1m1235/1235\u001b[0m \u001b[32m━━━━━━━━━━━━━━━━━━━━\u001b[0m\u001b[37m\u001b[0m \u001b[1m153s\u001b[0m 124ms/step - accuracy: 0.6614 - loss: 1.3763 - val_accuracy: 0.6939 - val_loss: 1.2263\n",
      "Epoch 10/100\n",
      "\u001b[1m1235/1235\u001b[0m \u001b[32m━━━━━━━━━━━━━━━━━━━━\u001b[0m\u001b[37m\u001b[0m \u001b[1m148s\u001b[0m 120ms/step - accuracy: 0.6734 - loss: 1.3085 - val_accuracy: 0.7104 - val_loss: 1.1413\n",
      "Epoch 11/100\n",
      "\u001b[1m1235/1235\u001b[0m \u001b[32m━━━━━━━━━━━━━━━━━━━━\u001b[0m\u001b[37m\u001b[0m \u001b[1m144s\u001b[0m 117ms/step - accuracy: 0.6856 - loss: 1.2331 - val_accuracy: 0.7286 - val_loss: 1.0643\n",
      "Epoch 12/100\n",
      "\u001b[1m1235/1235\u001b[0m \u001b[32m━━━━━━━━━━━━━━━━━━━━\u001b[0m\u001b[37m\u001b[0m \u001b[1m138s\u001b[0m 111ms/step - accuracy: 0.6963 - loss: 1.1733 - val_accuracy: 0.7436 - val_loss: 0.9818\n",
      "Epoch 13/100\n",
      "\u001b[1m1235/1235\u001b[0m \u001b[32m━━━━━━━━━━━━━━━━━━━━\u001b[0m\u001b[37m\u001b[0m \u001b[1m2132s\u001b[0m 2s/step - accuracy: 0.7091 - loss: 1.1105 - val_accuracy: 0.7587 - val_loss: 0.9082\n",
      "Epoch 14/100\n",
      "\u001b[1m1235/1235\u001b[0m \u001b[32m━━━━━━━━━━━━━━━━━━━━\u001b[0m\u001b[37m\u001b[0m \u001b[1m175s\u001b[0m 142ms/step - accuracy: 0.7180 - loss: 1.0580 - val_accuracy: 0.7779 - val_loss: 0.8411\n",
      "Epoch 15/100\n",
      "\u001b[1m1235/1235\u001b[0m \u001b[32m━━━━━━━━━━━━━━━━━━━━\u001b[0m\u001b[37m\u001b[0m \u001b[1m167s\u001b[0m 135ms/step - accuracy: 0.7299 - loss: 1.0016 - val_accuracy: 0.7940 - val_loss: 0.7790\n",
      "Epoch 16/100\n",
      "\u001b[1m1235/1235\u001b[0m \u001b[32m━━━━━━━━━━━━━━━━━━━━\u001b[0m\u001b[37m\u001b[0m \u001b[1m155s\u001b[0m 126ms/step - accuracy: 0.7432 - loss: 0.9434 - val_accuracy: 0.8117 - val_loss: 0.7134\n",
      "Epoch 17/100\n",
      "\u001b[1m1235/1235\u001b[0m \u001b[32m━━━━━━━━━━━━━━━━━━━━\u001b[0m\u001b[37m\u001b[0m \u001b[1m155s\u001b[0m 126ms/step - accuracy: 0.7515 - loss: 0.9039 - val_accuracy: 0.8208 - val_loss: 0.6654\n",
      "Epoch 18/100\n",
      "\u001b[1m1235/1235\u001b[0m \u001b[32m━━━━━━━━━━━━━━━━━━━━\u001b[0m\u001b[37m\u001b[0m \u001b[1m138s\u001b[0m 112ms/step - accuracy: 0.7650 - loss: 0.8451 - val_accuracy: 0.8372 - val_loss: 0.6186\n",
      "Epoch 19/100\n",
      "\u001b[1m1235/1235\u001b[0m \u001b[32m━━━━━━━━━━━━━━━━━━━━\u001b[0m\u001b[37m\u001b[0m \u001b[1m138s\u001b[0m 112ms/step - accuracy: 0.7738 - loss: 0.8063 - val_accuracy: 0.8492 - val_loss: 0.5715\n",
      "Epoch 20/100\n",
      "\u001b[1m1235/1235\u001b[0m \u001b[32m━━━━━━━━━━━━━━━━━━━━\u001b[0m\u001b[37m\u001b[0m \u001b[1m136s\u001b[0m 110ms/step - accuracy: 0.7826 - loss: 0.7711 - val_accuracy: 0.8608 - val_loss: 0.5317\n",
      "Epoch 21/100\n",
      "\u001b[1m1235/1235\u001b[0m \u001b[32m━━━━━━━━━━━━━━━━━━━━\u001b[0m\u001b[37m\u001b[0m \u001b[1m31942s\u001b[0m 26s/step - accuracy: 0.7927 - loss: 0.7310 - val_accuracy: 0.8739 - val_loss: 0.4948\n",
      "Epoch 22/100\n",
      "\u001b[1m1235/1235\u001b[0m \u001b[32m━━━━━━━━━━━━━━━━━━━━\u001b[0m\u001b[37m\u001b[0m \u001b[1m154s\u001b[0m 125ms/step - accuracy: 0.7993 - loss: 0.7019 - val_accuracy: 0.8794 - val_loss: 0.4609\n",
      "Epoch 23/100\n",
      "\u001b[1m1235/1235\u001b[0m \u001b[32m━━━━━━━━━━━━━━━━━━━━\u001b[0m\u001b[37m\u001b[0m \u001b[1m154s\u001b[0m 125ms/step - accuracy: 0.8052 - loss: 0.6769 - val_accuracy: 0.8871 - val_loss: 0.4286\n",
      "Epoch 24/100\n",
      "\u001b[1m1235/1235\u001b[0m \u001b[32m━━━━━━━━━━━━━━━━━━━━\u001b[0m\u001b[37m\u001b[0m \u001b[1m152s\u001b[0m 123ms/step - accuracy: 0.8140 - loss: 0.6449 - val_accuracy: 0.8926 - val_loss: 0.4060\n",
      "Epoch 25/100\n",
      "\u001b[1m1235/1235\u001b[0m \u001b[32m━━━━━━━━━━━━━━━━━━━━\u001b[0m\u001b[37m\u001b[0m \u001b[1m271s\u001b[0m 220ms/step - accuracy: 0.8196 - loss: 0.6172 - val_accuracy: 0.9042 - val_loss: 0.3783\n",
      "Epoch 26/100\n",
      "\u001b[1m1235/1235\u001b[0m \u001b[32m━━━━━━━━━━━━━━━━━━━━\u001b[0m\u001b[37m\u001b[0m \u001b[1m298s\u001b[0m 241ms/step - accuracy: 0.8247 - loss: 0.5948 - val_accuracy: 0.9121 - val_loss: 0.3443\n",
      "Epoch 27/100\n",
      "\u001b[1m1235/1235\u001b[0m \u001b[32m━━━━━━━━━━━━━━━━━━━━\u001b[0m\u001b[37m\u001b[0m \u001b[1m207s\u001b[0m 167ms/step - accuracy: 0.8326 - loss: 0.5692 - val_accuracy: 0.9133 - val_loss: 0.3349\n",
      "Epoch 28/100\n",
      "\u001b[1m1235/1235\u001b[0m \u001b[32m━━━━━━━━━━━━━━━━━━━━\u001b[0m\u001b[37m\u001b[0m \u001b[1m182s\u001b[0m 147ms/step - accuracy: 0.8394 - loss: 0.5430 - val_accuracy: 0.9230 - val_loss: 0.3132\n",
      "Epoch 29/100\n",
      "\u001b[1m1235/1235\u001b[0m \u001b[32m━━━━━━━━━━━━━━━━━━━━\u001b[0m\u001b[37m\u001b[0m \u001b[1m179s\u001b[0m 144ms/step - accuracy: 0.8421 - loss: 0.5308 - val_accuracy: 0.9291 - val_loss: 0.2853\n",
      "Epoch 30/100\n",
      "\u001b[1m1235/1235\u001b[0m \u001b[32m━━━━━━━━━━━━━━━━━━━━\u001b[0m\u001b[37m\u001b[0m \u001b[1m178s\u001b[0m 144ms/step - accuracy: 0.8455 - loss: 0.5173 - val_accuracy: 0.9329 - val_loss: 0.2758\n",
      "Epoch 31/100\n",
      "\u001b[1m1235/1235\u001b[0m \u001b[32m━━━━━━━━━━━━━━━━━━━━\u001b[0m\u001b[37m\u001b[0m \u001b[1m167s\u001b[0m 135ms/step - accuracy: 0.8527 - loss: 0.4916 - val_accuracy: 0.9347 - val_loss: 0.2655\n",
      "Epoch 32/100\n",
      "\u001b[1m1235/1235\u001b[0m \u001b[32m━━━━━━━━━━━━━━━━━━━━\u001b[0m\u001b[37m\u001b[0m \u001b[1m161s\u001b[0m 130ms/step - accuracy: 0.8562 - loss: 0.4806 - val_accuracy: 0.9415 - val_loss: 0.2482\n",
      "Epoch 33/100\n",
      "\u001b[1m1235/1235\u001b[0m \u001b[32m━━━━━━━━━━━━━━━━━━━━\u001b[0m\u001b[37m\u001b[0m \u001b[1m172s\u001b[0m 139ms/step - accuracy: 0.8602 - loss: 0.4613 - val_accuracy: 0.9434 - val_loss: 0.2344\n",
      "Epoch 34/100\n",
      "\u001b[1m1235/1235\u001b[0m \u001b[32m━━━━━━━━━━━━━━━━━━━━\u001b[0m\u001b[37m\u001b[0m \u001b[1m172s\u001b[0m 139ms/step - accuracy: 0.8627 - loss: 0.4527 - val_accuracy: 0.9469 - val_loss: 0.2218\n",
      "Epoch 35/100\n",
      "\u001b[1m1235/1235\u001b[0m \u001b[32m━━━━━━━━━━━━━━━━━━━━\u001b[0m\u001b[37m\u001b[0m \u001b[1m220s\u001b[0m 178ms/step - accuracy: 0.8671 - loss: 0.4391 - val_accuracy: 0.9500 - val_loss: 0.2088\n",
      "Epoch 36/100\n",
      "\u001b[1m1235/1235\u001b[0m \u001b[32m━━━━━━━━━━━━━━━━━━━━\u001b[0m\u001b[37m\u001b[0m \u001b[1m163s\u001b[0m 132ms/step - accuracy: 0.8706 - loss: 0.4245 - val_accuracy: 0.9533 - val_loss: 0.2008\n",
      "Epoch 37/100\n",
      "\u001b[1m1235/1235\u001b[0m \u001b[32m━━━━━━━━━━━━━━━━━━━━\u001b[0m\u001b[37m\u001b[0m \u001b[1m186s\u001b[0m 151ms/step - accuracy: 0.8752 - loss: 0.4109 - val_accuracy: 0.9566 - val_loss: 0.1872\n",
      "Epoch 38/100\n",
      "\u001b[1m1235/1235\u001b[0m \u001b[32m━━━━━━━━━━━━━━━━━━━━\u001b[0m\u001b[37m\u001b[0m \u001b[1m204s\u001b[0m 165ms/step - accuracy: 0.8784 - loss: 0.4006 - val_accuracy: 0.9605 - val_loss: 0.1768\n",
      "Epoch 39/100\n",
      "\u001b[1m1235/1235\u001b[0m \u001b[32m━━━━━━━━━━━━━━━━━━━━\u001b[0m\u001b[37m\u001b[0m \u001b[1m200s\u001b[0m 162ms/step - accuracy: 0.8820 - loss: 0.3882 - val_accuracy: 0.9603 - val_loss: 0.1786\n",
      "Epoch 40/100\n",
      "\u001b[1m1235/1235\u001b[0m \u001b[32m━━━━━━━━━━━━━━━━━━━━\u001b[0m\u001b[37m\u001b[0m \u001b[1m1266s\u001b[0m 1s/step - accuracy: 0.8829 - loss: 0.3822 - val_accuracy: 0.9625 - val_loss: 0.1641\n",
      "Epoch 41/100\n",
      "\u001b[1m1235/1235\u001b[0m \u001b[32m━━━━━━━━━━━━━━━━━━━━\u001b[0m\u001b[37m\u001b[0m \u001b[1m177s\u001b[0m 144ms/step - accuracy: 0.8851 - loss: 0.3756 - val_accuracy: 0.9648 - val_loss: 0.1591\n",
      "Epoch 42/100\n",
      "\u001b[1m1235/1235\u001b[0m \u001b[32m━━━━━━━━━━━━━━━━━━━━\u001b[0m\u001b[37m\u001b[0m \u001b[1m178s\u001b[0m 144ms/step - accuracy: 0.8883 - loss: 0.3642 - val_accuracy: 0.9672 - val_loss: 0.1511\n",
      "Epoch 43/100\n",
      "\u001b[1m1235/1235\u001b[0m \u001b[32m━━━━━━━━━━━━━━━━━━━━\u001b[0m\u001b[37m\u001b[0m \u001b[1m169s\u001b[0m 137ms/step - accuracy: 0.8901 - loss: 0.3556 - val_accuracy: 0.9662 - val_loss: 0.1470\n",
      "Epoch 44/100\n",
      "\u001b[1m1235/1235\u001b[0m \u001b[32m━━━━━━━━━━━━━━━━━━━━\u001b[0m\u001b[37m\u001b[0m \u001b[1m169s\u001b[0m 137ms/step - accuracy: 0.8938 - loss: 0.3500 - val_accuracy: 0.9702 - val_loss: 0.1408\n",
      "Epoch 45/100\n",
      "\u001b[1m1235/1235\u001b[0m \u001b[32m━━━━━━━━━━━━━━━━━━━━\u001b[0m\u001b[37m\u001b[0m \u001b[1m170s\u001b[0m 138ms/step - accuracy: 0.8963 - loss: 0.3355 - val_accuracy: 0.9700 - val_loss: 0.1359\n",
      "Epoch 46/100\n",
      "\u001b[1m1235/1235\u001b[0m \u001b[32m━━━━━━━━━━━━━━━━━━━━\u001b[0m\u001b[37m\u001b[0m \u001b[1m299s\u001b[0m 242ms/step - accuracy: 0.8979 - loss: 0.3318 - val_accuracy: 0.9703 - val_loss: 0.1319\n",
      "Epoch 47/100\n",
      "\u001b[1m1235/1235\u001b[0m \u001b[32m━━━━━━━━━━━━━━━━━━━━\u001b[0m\u001b[37m\u001b[0m \u001b[1m209s\u001b[0m 169ms/step - accuracy: 0.8990 - loss: 0.3303 - val_accuracy: 0.9725 - val_loss: 0.1268\n",
      "Epoch 48/100\n",
      "\u001b[1m1235/1235\u001b[0m \u001b[32m━━━━━━━━━━━━━━━━━━━━\u001b[0m\u001b[37m\u001b[0m \u001b[1m214s\u001b[0m 173ms/step - accuracy: 0.9011 - loss: 0.3198 - val_accuracy: 0.9716 - val_loss: 0.1242\n",
      "Epoch 49/100\n",
      "\u001b[1m1235/1235\u001b[0m \u001b[32m━━━━━━━━━━━━━━━━━━━━\u001b[0m\u001b[37m\u001b[0m \u001b[1m219s\u001b[0m 177ms/step - accuracy: 0.9020 - loss: 0.3152 - val_accuracy: 0.9740 - val_loss: 0.1161\n",
      "Epoch 50/100\n",
      "\u001b[1m1235/1235\u001b[0m \u001b[32m━━━━━━━━━━━━━━━━━━━━\u001b[0m\u001b[37m\u001b[0m \u001b[1m206s\u001b[0m 167ms/step - accuracy: 0.9012 - loss: 0.3212 - val_accuracy: 0.9775 - val_loss: 0.1105\n",
      "Epoch 51/100\n",
      "\u001b[1m1235/1235\u001b[0m \u001b[32m━━━━━━━━━━━━━━━━━━━━\u001b[0m\u001b[37m\u001b[0m \u001b[1m199s\u001b[0m 161ms/step - accuracy: 0.9059 - loss: 0.3076 - val_accuracy: 0.9771 - val_loss: 0.1102\n",
      "Epoch 52/100\n",
      "\u001b[1m1235/1235\u001b[0m \u001b[32m━━━━━━━━━━━━━━━━━━━━\u001b[0m\u001b[37m\u001b[0m \u001b[1m188s\u001b[0m 152ms/step - accuracy: 0.9072 - loss: 0.3000 - val_accuracy: 0.9772 - val_loss: 0.1082\n",
      "Epoch 53/100\n",
      "\u001b[1m1235/1235\u001b[0m \u001b[32m━━━━━━━━━━━━━━━━━━━━\u001b[0m\u001b[37m\u001b[0m \u001b[1m177s\u001b[0m 143ms/step - accuracy: 0.9096 - loss: 0.2923 - val_accuracy: 0.9773 - val_loss: 0.1052\n",
      "Epoch 54/100\n",
      "\u001b[1m1235/1235\u001b[0m \u001b[32m━━━━━━━━━━━━━━━━━━━━\u001b[0m\u001b[37m\u001b[0m \u001b[1m185s\u001b[0m 150ms/step - accuracy: 0.9128 - loss: 0.2817 - val_accuracy: 0.9775 - val_loss: 0.1013\n",
      "Epoch 55/100\n",
      "\u001b[1m1235/1235\u001b[0m \u001b[32m━━━━━━━━━━━━━━━━━━━━\u001b[0m\u001b[37m\u001b[0m \u001b[1m196s\u001b[0m 158ms/step - accuracy: 0.9108 - loss: 0.2856 - val_accuracy: 0.9777 - val_loss: 0.1023\n",
      "Epoch 56/100\n",
      "\u001b[1m1235/1235\u001b[0m \u001b[32m━━━━━━━━━━━━━━━━━━━━\u001b[0m\u001b[37m\u001b[0m \u001b[1m185s\u001b[0m 150ms/step - accuracy: 0.9120 - loss: 0.2849 - val_accuracy: 0.9802 - val_loss: 0.0960\n",
      "Epoch 57/100\n",
      "\u001b[1m1235/1235\u001b[0m \u001b[32m━━━━━━━━━━━━━━━━━━━━\u001b[0m\u001b[37m\u001b[0m \u001b[1m242s\u001b[0m 196ms/step - accuracy: 0.9135 - loss: 0.2775 - val_accuracy: 0.9791 - val_loss: 0.0941\n",
      "Epoch 58/100\n",
      "\u001b[1m1235/1235\u001b[0m \u001b[32m━━━━━━━━━━━━━━━━━━━━\u001b[0m\u001b[37m\u001b[0m \u001b[1m265s\u001b[0m 198ms/step - accuracy: 0.9137 - loss: 0.2789 - val_accuracy: 0.9813 - val_loss: 0.0903\n",
      "Epoch 59/100\n",
      "\u001b[1m1235/1235\u001b[0m \u001b[32m━━━━━━━━━━━━━━━━━━━━\u001b[0m\u001b[37m\u001b[0m \u001b[1m313s\u001b[0m 253ms/step - accuracy: 0.9157 - loss: 0.2717 - val_accuracy: 0.9814 - val_loss: 0.0903\n",
      "Epoch 60/100\n",
      "\u001b[1m1235/1235\u001b[0m \u001b[32m━━━━━━━━━━━━━━━━━━━━\u001b[0m\u001b[37m\u001b[0m \u001b[1m279s\u001b[0m 225ms/step - accuracy: 0.9150 - loss: 0.2715 - val_accuracy: 0.9805 - val_loss: 0.0889\n",
      "Epoch 61/100\n",
      "\u001b[1m1235/1235\u001b[0m \u001b[32m━━━━━━━━━━━━━━━━━━━━\u001b[0m\u001b[37m\u001b[0m \u001b[1m238s\u001b[0m 192ms/step - accuracy: 0.9187 - loss: 0.2621 - val_accuracy: 0.9807 - val_loss: 0.0868\n",
      "Epoch 62/100\n",
      "\u001b[1m1235/1235\u001b[0m \u001b[32m━━━━━━━━━━━━━━━━━━━━\u001b[0m\u001b[37m\u001b[0m \u001b[1m269s\u001b[0m 218ms/step - accuracy: 0.9180 - loss: 0.2626 - val_accuracy: 0.9841 - val_loss: 0.0784\n",
      "Epoch 63/100\n",
      "\u001b[1m1235/1235\u001b[0m \u001b[32m━━━━━━━━━━━━━━━━━━━━\u001b[0m\u001b[37m\u001b[0m \u001b[1m241s\u001b[0m 195ms/step - accuracy: 0.9218 - loss: 0.2524 - val_accuracy: 0.9830 - val_loss: 0.0818\n",
      "Epoch 64/100\n",
      "\u001b[1m1235/1235\u001b[0m \u001b[32m━━━━━━━━━━━━━━━━━━━━\u001b[0m\u001b[37m\u001b[0m \u001b[1m220s\u001b[0m 178ms/step - accuracy: 0.9211 - loss: 0.2555 - val_accuracy: 0.9830 - val_loss: 0.0805\n",
      "Epoch 65/100\n",
      "\u001b[1m1235/1235\u001b[0m \u001b[32m━━━━━━━━━━━━━━━━━━━━\u001b[0m\u001b[37m\u001b[0m \u001b[1m242s\u001b[0m 196ms/step - accuracy: 0.9216 - loss: 0.2513 - val_accuracy: 0.9828 - val_loss: 0.0807\n",
      "Epoch 66/100\n",
      "\u001b[1m1235/1235\u001b[0m \u001b[32m━━━━━━━━━━━━━━━━━━━━\u001b[0m\u001b[37m\u001b[0m \u001b[1m256s\u001b[0m 207ms/step - accuracy: 0.9230 - loss: 0.2496 - val_accuracy: 0.9830 - val_loss: 0.0794\n",
      "Epoch 67/100\n",
      "\u001b[1m1235/1235\u001b[0m \u001b[32m━━━━━━━━━━━━━━━━━━━━\u001b[0m\u001b[37m\u001b[0m \u001b[1m218s\u001b[0m 177ms/step - accuracy: 0.9229 - loss: 0.2477 - val_accuracy: 0.9843 - val_loss: 0.0754\n",
      "Epoch 68/100\n",
      "\u001b[1m1235/1235\u001b[0m \u001b[32m━━━━━━━━━━━━━━━━━━━━\u001b[0m\u001b[37m\u001b[0m \u001b[1m217s\u001b[0m 175ms/step - accuracy: 0.9252 - loss: 0.2417 - val_accuracy: 0.9841 - val_loss: 0.0745\n",
      "Epoch 69/100\n",
      "\u001b[1m1235/1235\u001b[0m \u001b[32m━━━━━━━━━━━━━━━━━━━━\u001b[0m\u001b[37m\u001b[0m \u001b[1m230s\u001b[0m 186ms/step - accuracy: 0.9265 - loss: 0.2408 - val_accuracy: 0.9841 - val_loss: 0.0720\n",
      "Epoch 70/100\n",
      "\u001b[1m1235/1235\u001b[0m \u001b[32m━━━━━━━━━━━━━━━━━━━━\u001b[0m\u001b[37m\u001b[0m \u001b[1m228s\u001b[0m 184ms/step - accuracy: 0.9258 - loss: 0.2393 - val_accuracy: 0.9853 - val_loss: 0.0705\n",
      "Epoch 71/100\n",
      "\u001b[1m1235/1235\u001b[0m \u001b[32m━━━━━━━━━━━━━━━━━━━━\u001b[0m\u001b[37m\u001b[0m \u001b[1m218s\u001b[0m 177ms/step - accuracy: 0.9295 - loss: 0.2294 - val_accuracy: 0.9848 - val_loss: 0.0701\n",
      "Epoch 72/100\n",
      "\u001b[1m1235/1235\u001b[0m \u001b[32m━━━━━━━━━━━━━━━━━━━━\u001b[0m\u001b[37m\u001b[0m \u001b[1m213s\u001b[0m 172ms/step - accuracy: 0.9254 - loss: 0.2392 - val_accuracy: 0.9848 - val_loss: 0.0712\n",
      "Epoch 73/100\n",
      "\u001b[1m1235/1235\u001b[0m \u001b[32m━━━━━━━━━━━━━━━━━━━━\u001b[0m\u001b[37m\u001b[0m \u001b[1m212s\u001b[0m 172ms/step - accuracy: 0.9290 - loss: 0.2281 - val_accuracy: 0.9870 - val_loss: 0.0655\n",
      "Epoch 74/100\n",
      "\u001b[1m1235/1235\u001b[0m \u001b[32m━━━━━━━━━━━━━━━━━━━━\u001b[0m\u001b[37m\u001b[0m \u001b[1m558s\u001b[0m 452ms/step - accuracy: 0.9290 - loss: 0.2284 - val_accuracy: 0.9861 - val_loss: 0.0673\n",
      "Epoch 75/100\n",
      "\u001b[1m1235/1235\u001b[0m \u001b[32m━━━━━━━━━━━━━━━━━━━━\u001b[0m\u001b[37m\u001b[0m \u001b[1m285s\u001b[0m 231ms/step - accuracy: 0.9299 - loss: 0.2253 - val_accuracy: 0.9858 - val_loss: 0.0674\n",
      "Epoch 76/100\n",
      "\u001b[1m1235/1235\u001b[0m \u001b[32m━━━━━━━━━━━━━━━━━━━━\u001b[0m\u001b[37m\u001b[0m \u001b[1m243s\u001b[0m 196ms/step - accuracy: 0.9285 - loss: 0.2271 - val_accuracy: 0.9865 - val_loss: 0.0648\n",
      "Epoch 77/100\n",
      "\u001b[1m1235/1235\u001b[0m \u001b[32m━━━━━━━━━━━━━━━━━━━━\u001b[0m\u001b[37m\u001b[0m \u001b[1m231s\u001b[0m 187ms/step - accuracy: 0.9296 - loss: 0.2243 - val_accuracy: 0.9862 - val_loss: 0.0636\n",
      "Epoch 78/100\n",
      "\u001b[1m1235/1235\u001b[0m \u001b[32m━━━━━━━━━━━━━━━━━━━━\u001b[0m\u001b[37m\u001b[0m \u001b[1m214s\u001b[0m 173ms/step - accuracy: 0.9300 - loss: 0.2281 - val_accuracy: 0.9864 - val_loss: 0.0624\n",
      "Epoch 79/100\n",
      "\u001b[1m1235/1235\u001b[0m \u001b[32m━━━━━━━━━━━━━━━━━━━━\u001b[0m\u001b[37m\u001b[0m \u001b[1m216s\u001b[0m 175ms/step - accuracy: 0.9324 - loss: 0.2192 - val_accuracy: 0.9867 - val_loss: 0.0615\n",
      "Epoch 80/100\n",
      "\u001b[1m1235/1235\u001b[0m \u001b[32m━━━━━━━━━━━━━━━━━━━━\u001b[0m\u001b[37m\u001b[0m \u001b[1m6731s\u001b[0m 5s/step - accuracy: 0.9314 - loss: 0.2220 - val_accuracy: 0.9875 - val_loss: 0.0599\n",
      "Epoch 81/100\n",
      "\u001b[1m1235/1235\u001b[0m \u001b[32m━━━━━━━━━━━━━━━━━━━━\u001b[0m\u001b[37m\u001b[0m \u001b[1m226s\u001b[0m 183ms/step - accuracy: 0.9323 - loss: 0.2176 - val_accuracy: 0.9873 - val_loss: 0.0598\n",
      "Epoch 82/100\n",
      "\u001b[1m1235/1235\u001b[0m \u001b[32m━━━━━━━━━━━━━━━━━━━━\u001b[0m\u001b[37m\u001b[0m \u001b[1m230s\u001b[0m 186ms/step - accuracy: 0.9326 - loss: 0.2157 - val_accuracy: 0.9872 - val_loss: 0.0603\n",
      "Epoch 83/100\n",
      "\u001b[1m1235/1235\u001b[0m \u001b[32m━━━━━━━━━━━━━━━━━━━━\u001b[0m\u001b[37m\u001b[0m \u001b[1m232s\u001b[0m 188ms/step - accuracy: 0.9348 - loss: 0.2124 - val_accuracy: 0.9869 - val_loss: 0.0601\n",
      "Epoch 84/100\n",
      "\u001b[1m1235/1235\u001b[0m \u001b[32m━━━━━━━━━━━━━━━━━━━━\u001b[0m\u001b[37m\u001b[0m \u001b[1m825s\u001b[0m 668ms/step - accuracy: 0.9333 - loss: 0.2156 - val_accuracy: 0.9875 - val_loss: 0.0573\n",
      "Epoch 85/100\n",
      "\u001b[1m1235/1235\u001b[0m \u001b[32m━━━━━━━━━━━━━━━━━━━━\u001b[0m\u001b[37m\u001b[0m \u001b[1m282s\u001b[0m 226ms/step - accuracy: 0.9339 - loss: 0.2130 - val_accuracy: 0.9884 - val_loss: 0.0561\n",
      "Epoch 86/100\n",
      "\u001b[1m1235/1235\u001b[0m \u001b[32m━━━━━━━━━━━━━━━━━━━━\u001b[0m\u001b[37m\u001b[0m \u001b[1m226s\u001b[0m 183ms/step - accuracy: 0.9352 - loss: 0.2074 - val_accuracy: 0.9875 - val_loss: 0.0570\n",
      "Epoch 87/100\n",
      "\u001b[1m1235/1235\u001b[0m \u001b[32m━━━━━━━━━━━━━━━━━━━━\u001b[0m\u001b[37m\u001b[0m \u001b[1m211s\u001b[0m 171ms/step - accuracy: 0.9343 - loss: 0.2104 - val_accuracy: 0.9871 - val_loss: 0.0578\n",
      "Epoch 88/100\n",
      "\u001b[1m1235/1235\u001b[0m \u001b[32m━━━━━━━━━━━━━━━━━━━━\u001b[0m\u001b[37m\u001b[0m \u001b[1m213s\u001b[0m 173ms/step - accuracy: 0.9362 - loss: 0.2056 - val_accuracy: 0.9891 - val_loss: 0.0514\n",
      "Epoch 89/100\n",
      "\u001b[1m1235/1235\u001b[0m \u001b[32m━━━━━━━━━━━━━━━━━━━━\u001b[0m\u001b[37m\u001b[0m \u001b[1m1308s\u001b[0m 1s/step - accuracy: 0.9368 - loss: 0.2023 - val_accuracy: 0.9875 - val_loss: 0.0569\n",
      "Epoch 90/100\n",
      "\u001b[1m1235/1235\u001b[0m \u001b[32m━━━━━━━━━━━━━━━━━━━━\u001b[0m\u001b[37m\u001b[0m \u001b[1m223s\u001b[0m 180ms/step - accuracy: 0.9382 - loss: 0.1990 - val_accuracy: 0.9885 - val_loss: 0.0524\n",
      "Epoch 91/100\n",
      "\u001b[1m1235/1235\u001b[0m \u001b[32m━━━━━━━━━━━━━━━━━━━━\u001b[0m\u001b[37m\u001b[0m \u001b[1m224s\u001b[0m 181ms/step - accuracy: 0.9377 - loss: 0.2019 - val_accuracy: 0.9890 - val_loss: 0.0527\n",
      "Epoch 92/100\n",
      "\u001b[1m1235/1235\u001b[0m \u001b[32m━━━━━━━━━━━━━━━━━━━━\u001b[0m\u001b[37m\u001b[0m \u001b[1m230s\u001b[0m 186ms/step - accuracy: 0.9379 - loss: 0.2019 - val_accuracy: 0.9886 - val_loss: 0.0525\n",
      "Epoch 93/100\n",
      "\u001b[1m1235/1235\u001b[0m \u001b[32m━━━━━━━━━━━━━━━━━━━━\u001b[0m\u001b[37m\u001b[0m \u001b[1m4952s\u001b[0m 4s/step - accuracy: 0.9382 - loss: 0.1987 - val_accuracy: 0.9877 - val_loss: 0.0546\n",
      "Epoch 94/100\n",
      "\u001b[1m1235/1235\u001b[0m \u001b[32m━━━━━━━━━━━━━━━━━━━━\u001b[0m\u001b[37m\u001b[0m \u001b[1m254s\u001b[0m 205ms/step - accuracy: 0.9381 - loss: 0.2005 - val_accuracy: 0.9898 - val_loss: 0.0488\n",
      "Epoch 95/100\n",
      "\u001b[1m1235/1235\u001b[0m \u001b[32m━━━━━━━━━━━━━━━━━━━━\u001b[0m\u001b[37m\u001b[0m \u001b[1m223s\u001b[0m 181ms/step - accuracy: 0.9387 - loss: 0.1952 - val_accuracy: 0.9893 - val_loss: 0.0503\n",
      "Epoch 96/100\n",
      "\u001b[1m1235/1235\u001b[0m \u001b[32m━━━━━━━━━━━━━━━━━━━━\u001b[0m\u001b[37m\u001b[0m \u001b[1m219s\u001b[0m 177ms/step - accuracy: 0.9384 - loss: 0.1964 - val_accuracy: 0.9893 - val_loss: 0.0490\n",
      "Epoch 97/100\n",
      "\u001b[1m1235/1235\u001b[0m \u001b[32m━━━━━━━━━━━━━━━━━━━━\u001b[0m\u001b[37m\u001b[0m \u001b[1m698s\u001b[0m 565ms/step - accuracy: 0.9395 - loss: 0.1964 - val_accuracy: 0.9887 - val_loss: 0.0527\n",
      "Epoch 98/100\n",
      "\u001b[1m1235/1235\u001b[0m \u001b[32m━━━━━━━━━━━━━━━━━━━━\u001b[0m\u001b[37m\u001b[0m \u001b[1m267s\u001b[0m 216ms/step - accuracy: 0.9398 - loss: 0.1944 - val_accuracy: 0.9882 - val_loss: 0.0521\n",
      "Epoch 99/100\n",
      "\u001b[1m1235/1235\u001b[0m \u001b[32m━━━━━━━━━━━━━━━━━━━━\u001b[0m\u001b[37m\u001b[0m \u001b[1m252s\u001b[0m 204ms/step - accuracy: 0.9390 - loss: 0.1937 - val_accuracy: 0.9896 - val_loss: 0.0496\n",
      "Epoch 100/100\n",
      "\u001b[1m1235/1235\u001b[0m \u001b[32m━━━━━━━━━━━━━━━━━━━━\u001b[0m\u001b[37m\u001b[0m \u001b[1m250s\u001b[0m 202ms/step - accuracy: 0.9397 - loss: 0.1924 - val_accuracy: 0.9886 - val_loss: 0.0505\n"
     ]
    }
   ],
   "source": [
    "history = model.fit(final_sequences,labels,epochs=100,batch_size=128,validation_data=(final_sequences,labels),verbose=1)"
   ]
  },
  {
   "cell_type": "code",
   "execution_count": 113,
   "metadata": {},
   "outputs": [
    {
     "data": {
      "image/png": "[encoded data removed]",
      "text/plain": [
       "<Figure size 1000x600 with 2 Axes>"
      ]
     },
     "metadata": {},
     "output_type": "display_data"
    }
   ],
   "source": [
    "train_loss = history.history['loss']\n",
    "val_loss = history.history['val_loss']\n",
    "\n",
    "# Extract training and validation accuracy (if applicable)\n",
    "train_acc = history.history['accuracy']  # Modify key based on your metric\n",
    "val_acc = history.history['val_accuracy']  # Modify key based on your metric\n",
    "\n",
    "# Create the plot\n",
    "plt.figure(figsize=(10, 6))\n",
    "\n",
    "# Plot loss\n",
    "plt.plot(train_loss, label='Training Loss')\n",
    "plt.plot(val_loss, label='Validation Loss')\n",
    "plt.title('Model Loss')\n",
    "plt.ylabel('Loss')\n",
    "plt.xlabel('Epoch')\n",
    "plt.legend()\n",
    "\n",
    "# Plot accuracy (if applicable)\n",
    "plt.twinx()  # Create a second y-axis for accuracy\n",
    "plt.plot(train_acc, 'g-', label='Training Accuracy')\n",
    "plt.plot(val_acc, 'r-', label='Validation Accuracy')\n",
    "plt.ylabel('Accuracy')\n",
    "\n",
    "plt.show()"
   ]
  },
  {
   "cell_type": "code",
   "execution_count": 122,
   "metadata": {},
   "outputs": [
    {
     "name": "stdout",
     "output_type": "stream",
     "text": [
      "\u001b[1m1/1\u001b[0m \u001b[32m━━━━━━━━━━━━━━━━━━━━\u001b[0m\u001b[37m\u001b[0m \u001b[1m0s\u001b[0m 136ms/step\n"
     ]
    },
    {
     "data": {
      "text/plain": [
       "array(['مرض-السكري'], dtype='<U24')"
      ]
     },
     "execution_count": 122,
     "metadata": {},
     "output_type": "execute_result"
    }
   ],
   "source": [
    "test = 'علاج ارتفاغ السكر التراكمي'\n",
    "test = tokenizer.texts_to_sequences([test])\n",
    "test2 = pad_sequences(test,maxlen=20)\n",
    "result = model.predict(test2)\n",
    "output_class = np.argmax(result)\n",
    "le.inverse_transform(np.array([output_class]))"
   ]
  },
  {
   "cell_type": "code",
   "execution_count": 123,
   "metadata": {},
   "outputs": [
    {
     "name": "stderr",
     "output_type": "stream",
     "text": [
      "WARNING:absl:You are saving your model as an HDF5 file via `model.save()` or `keras.saving.save_model(model)`. This file format is considered legacy. We recommend using instead the native Keras format, e.g. `model.save('my_model.keras')` or `keras.saving.save_model(model, 'my_model.keras')`. \n"
     ]
    }
   ],
   "source": [
    "model.save('chatbotClassificationModel.h5')"
   ]
  },
  {
   "cell_type": "code",
   "execution_count": 124,
   "metadata": {},
   "outputs": [],
   "source": [
    "import pickle\n",
    "pickle.dump(tokenizer,open('chatbotTokinizer.pkl','wb'))\n",
    "pickle.dump(le,open('chatbotLabelencoder.pkl','wb'))"
   ]
  },
  {
   "cell_type": "code",
   "execution_count": null,
   "metadata": {},
   "outputs": [],
   "source": []
  }
 ],
 "metadata": {
  "kernelspec": {
   "display_name": "Python 3",
   "language": "python",
   "name": "python3"
  },
  "language_info": {
   "codemirror_mode": {
    "name": "ipython",
    "version": 3
   },
   "file_extension": ".py",
   "mimetype": "text/x-python",
   "name": "python",
   "nbconvert_exporter": "python",
   "pygments_lexer": "ipython3",
   "version": "3.12.2"
  }
 },
 "nbformat": 4,
 "nbformat_minor": 2
}
