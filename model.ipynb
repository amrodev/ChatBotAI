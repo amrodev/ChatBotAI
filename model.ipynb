{
 "cells": [
  {
   "cell_type": "markdown",
   "metadata": {},
   "source": [
    "# Load Libraries"
   ]
  },
  {
   "cell_type": "code",
   "execution_count": 1,
   "metadata": {},
   "outputs": [],
   "source": [
    "import numpy as np\n",
    "import pandas as pd\n",
    "import nltk\n",
    "import matplotlib.pyplot as plt\n",
    "from sklearn.model_selection import train_test_split\n",
    "from sklearn.preprocessing import StandardScaler, MinMaxScaler\n",
    "from tensorflow.keras.models import Sequential\n",
    "from tensorflow.keras.layers import LSTM, Dense, Embedding,Dropout\n",
    "from tensorflow.keras.optimizers import SGD\n"
   ]
  },
  {
   "cell_type": "markdown",
   "metadata": {},
   "source": [
    "# Main Functions"
   ]
  },
  {
   "cell_type": "code",
   "execution_count": 2,
   "metadata": {},
   "outputs": [],
   "source": [
    "def load_data(file):\n",
    "    # Load  data from file and return it as panads dataframe\n",
    "    return pd.read_csv(file)\n",
    "\n",
    "def scale_features(X_train, X_test, scaler='standard'):\n",
    "    # load x data and returned it as a scaled data\n",
    "    if scaler == 'minmax':\n",
    "        scaler = MinMaxScaler()\n",
    "    else:\n",
    "        scaler = StandardScaler()\n",
    "    X_train_scaled = scaler.fit_transform(X_train)\n",
    "    X_test_scaled = scaler.transform(X_test)\n",
    "    \n",
    "    return X_train_scaled, X_test_scaled        \n"
   ]
  },
  {
   "cell_type": "code",
   "execution_count": 3,
   "metadata": {},
   "outputs": [],
   "source": [
    "# Dataset Ststics\n",
    "def  data_stats(data,column):\n",
    "    from nltk import FreqDist\n",
    "    \n",
    "    # Number of questions and ansers \n",
    "    print(f\"Number of Questions are  {len(data)}\")\n",
    "\n",
    "    vocabulary_size = len(set(data[column].str.split().explode().dropna()))\n",
    "    print(f\"Number of Vocabulary Size = {vocabulary_size}\")\n",
    "\n",
    "    fdist = FreqDist(data[column].str.split().explode().dropna())\n",
    "    most_frequent = fdist.most_common(10)  \n",
    "    print(f\"Most frequent words (top 10) = {most_frequent}\")\n"
   ]
  },
  {
   "cell_type": "markdown",
   "metadata": {},
   "source": [
    "# NLP Functions"
   ]
  },
  {
   "cell_type": "code",
   "execution_count": 4,
   "metadata": {},
   "outputs": [],
   "source": [
    "# Drop Null Rows\n",
    "def drop_null(train, test):\n",
    "    train = train.dropna()\n",
    "    test  = test.dropna().reset_index(drop=True)    \n",
    "    return train, test"
   ]
  },
  {
   "cell_type": "code",
   "execution_count": 5,
   "metadata": {},
   "outputs": [],
   "source": [
    "# Remove Non-Arabic Letters\n",
    "def filter_arabic(text):\n",
    "    import re\n",
    "    arabic_pattern = re.compile(r'[\\u0600-\\u06FF\\u0750-\\u077F\\u08A0-\\u08FF\\uFB50-\\uFDFF\\uFE70-\\uFEFF]+')\n",
    "    arabic_text = arabic_pattern.findall(text)\n",
    "    return ' '.join(arabic_text)"
   ]
  },
  {
   "cell_type": "code",
   "execution_count": 6,
   "metadata": {},
   "outputs": [],
   "source": [
    "# Remove Dublicate Questions\n",
    "def remove_duplicates_set(dataset):\n",
    "  unique_questions = []\n",
    "  seen_questions = {}\n",
    "  for col in dataset:\n",
    "    if col['question'] not in seen_questions:\n",
    "      seen_questions[question] = True\n",
    "    else:\n",
    "      dataset.drop(axis=0,inplace=True)  \n",
    "  return dataset"
   ]
  },
  {
   "cell_type": "code",
   "execution_count": 7,
   "metadata": {},
   "outputs": [],
   "source": [
    "# Clean text using regular expression\n",
    "def cleanText(text):\n",
    "  import re\n",
    "  text = re.sub(r'@|#\\w+', '', text) # Remove hashtags or mentions\n",
    "  text = re.sub(r'http[s]?://(?:[a-zA-Z]|[0-9]|[$-_@.&+]|[!*\\\\(\\\\),]|(?:%[0-9a-fA-F][0-9a-fA-F]))+', '', text) # Substitute all URLs in the text with an empty string\n",
    "  text = re.sub(r'(\\?|!)+', '', text) # Remove question mark? And another one with an exclamation mark!\n",
    "  text = re.sub(r'\\d+', '', text) # Remove Numbers\n",
    "  text = re.sub(r'[^\\w\\s]', '', text) # Remove punctuation\n",
    "  text = re.sub(r'^\\s+', '', text) # Remove leading spaces\n",
    "  text = re.sub(r'\\s+$', '', text) # Remove trailing spaces\n",
    "  return text"
   ]
  },
  {
   "cell_type": "code",
   "execution_count": 8,
   "metadata": {},
   "outputs": [
    {
     "name": "stderr",
     "output_type": "stream",
     "text": [
      "[nltk_data] Downloading package stopwords to\n",
      "[nltk_data]     C:\\Users\\OMAR\\AppData\\Roaming\\nltk_data...\n",
      "[nltk_data]   Package stopwords is already up-to-date!\n"
     ]
    }
   ],
   "source": [
    "# Stop Words\n",
    "from nltk.corpus import stopwords\n",
    "nltk.download('stopwords')\n",
    "arabic_stopwords = stopwords.words('arabic')\n",
    "\n",
    "def remove_stop_words(text):\n",
    "  return ' '.join([word for word in text.split() if word not in arabic_stopwords])\n"
   ]
  },
  {
   "cell_type": "code",
   "execution_count": 9,
   "metadata": {},
   "outputs": [],
   "source": [
    "# Normalizes Arabic letters in a text by replacing different forms of the latter (أ, آ, إ) to (ا) for example\n",
    "import pyarabic.araby as araby\n",
    "def normalize_arabic_letters(text):\n",
    "    text = araby.strip_tashkeel(text)\n",
    "    text = araby.strip_diacritics(text)\n",
    "    text = araby.strip_shadda(text)\n",
    "    text = araby.normalize_hamza(text,method=\"tasheel\")\n",
    "    return text"
   ]
  },
  {
   "cell_type": "code",
   "execution_count": 10,
   "metadata": {},
   "outputs": [],
   "source": [
    "from nltk import word_tokenize\n",
    "def count_arabic_words(data):\n",
    "  df = pd.DataFrame({})\n",
    "  def count_words(text):\n",
    "    words = word_tokenize(text)  # Tokenize\n",
    "    return len(words) \n",
    "   \n",
    "  df['question'] = data['question']\n",
    "  df['answer'] = data['answer']\n",
    "  df['question_counter'] = data['question'].apply(count_words)\n",
    "  df['answer_counter']   = data['answer'].apply(count_words)\n",
    "  df['label']   = data['label']\n",
    "  return df"
   ]
  },
  {
   "cell_type": "markdown",
   "metadata": {},
   "source": [
    "# Model"
   ]
  },
  {
   "cell_type": "markdown",
   "metadata": {},
   "source": [
    "## Load & Describe Data"
   ]
  },
  {
   "cell_type": "code",
   "execution_count": 24,
   "metadata": {},
   "outputs": [],
   "source": [
    "train_data = load_data('train.csv')\n",
    "test_data  = load_data('val.csv')"
   ]
  },
  {
   "cell_type": "code",
   "execution_count": 25,
   "metadata": {},
   "outputs": [
    {
     "name": "stdout",
     "output_type": "stream",
     "text": [
      "<class 'pandas.core.frame.DataFrame'>\n",
      "RangeIndex: 87930 entries, 0 to 87929\n",
      "Data columns (total 3 columns):\n",
      " #   Column    Non-Null Count  Dtype \n",
      "---  ------    --------------  ----- \n",
      " 0   question  87930 non-null  object\n",
      " 1   answer    87756 non-null  object\n",
      " 2   label     87930 non-null  object\n",
      "dtypes: object(3)\n",
      "memory usage: 2.0+ MB\n"
     ]
    }
   ],
   "source": [
    "train_data.info()"
   ]
  },
  {
   "cell_type": "code",
   "execution_count": 27,
   "metadata": {},
   "outputs": [
    {
     "name": "stdout",
     "output_type": "stream",
     "text": [
      "<class 'pandas.core.frame.DataFrame'>\n",
      "RangeIndex: 17586 entries, 0 to 17585\n",
      "Data columns (total 3 columns):\n",
      " #   Column    Non-Null Count  Dtype \n",
      "---  ------    --------------  ----- \n",
      " 0   question  17586 non-null  object\n",
      " 1   answer    17547 non-null  object\n",
      " 2   label     17586 non-null  object\n",
      "dtypes: object(3)\n",
      "memory usage: 412.3+ KB\n"
     ]
    }
   ],
   "source": [
    "test_data.info()"
   ]
  },
  {
   "cell_type": "markdown",
   "metadata": {},
   "source": [
    "## PreProcessing DataSet"
   ]
  },
  {
   "cell_type": "code",
   "execution_count": 28,
   "metadata": {},
   "outputs": [],
   "source": [
    "# 1.Drop Null Data From Train and Test Data   \n",
    "train , test = drop_null(train_data, test_data)"
   ]
  },
  {
   "cell_type": "code",
   "execution_count": 29,
   "metadata": {},
   "outputs": [
    {
     "data": {
      "text/html": [
       "<div>\n",
       "<style scoped>\n",
       "    .dataframe tbody tr th:only-of-type {\n",
       "        vertical-align: middle;\n",
       "    }\n",
       "\n",
       "    .dataframe tbody tr th {\n",
       "        vertical-align: top;\n",
       "    }\n",
       "\n",
       "    .dataframe thead th {\n",
       "        text-align: right;\n",
       "    }\n",
       "</style>\n",
       "<table border=\"1\" class=\"dataframe\">\n",
       "  <thead>\n",
       "    <tr style=\"text-align: right;\">\n",
       "      <th></th>\n",
       "      <th>question</th>\n",
       "      <th>answer</th>\n",
       "      <th>label</th>\n",
       "    </tr>\n",
       "  </thead>\n",
       "  <tbody>\n",
       "    <tr>\n",
       "      <th>0</th>\n",
       "      <td>\\nعندي الم مستمر داخل الشرج لا يوجد تشقق ولا ن...</td>\n",
       "      <td>\\n\\nاخي الكريم استخدم أقراص مضادة للالتهاب Pon...</td>\n",
       "      <td>General Surgery</td>\n",
       "    </tr>\n",
       "    <tr>\n",
       "      <th>1</th>\n",
       "      <td>\\nهل يمكن لثوم ان يخفض من الضغظ وماهي الجرعه ا...</td>\n",
       "      <td>\\n\\nنعم يمكن وهناك كثير من الدراسات التي تؤكد ...</td>\n",
       "      <td>Blood diseases</td>\n",
       "    </tr>\n",
       "    <tr>\n",
       "      <th>2</th>\n",
       "      <td>\\nعملت فحص سكر الصائم بعد صيام اكثر من ١٢ساعة\\...</td>\n",
       "      <td>\\n\\nالنتيجة طبيعية\\n2\\n2023-06-03 08:16:44\\n\\n...</td>\n",
       "      <td>respiratory system diseases</td>\n",
       "    </tr>\n",
       "    <tr>\n",
       "      <th>3</th>\n",
       "      <td>\\nعملت ماموجرام وموجات فوق صوتيه فوجدت تضخم فى...</td>\n",
       "      <td>\\n\\nيفضل طبعا عمل رنين لانه ادق بكثير لمعرفه ه...</td>\n",
       "      <td>Tumors</td>\n",
       "    </tr>\n",
       "    <tr>\n",
       "      <th>4</th>\n",
       "      <td>\\nقبل ثلاثة أسابيع أصبت بالتهابات القصبات الهو...</td>\n",
       "      <td>\\n\\nالعودة والكشف عند الطبيب لمعرفة اثار المرض...</td>\n",
       "      <td>Blood diseases</td>\n",
       "    </tr>\n",
       "  </tbody>\n",
       "</table>\n",
       "</div>"
      ],
      "text/plain": [
       "                                            question  \\\n",
       "0  \\nعندي الم مستمر داخل الشرج لا يوجد تشقق ولا ن...   \n",
       "1  \\nهل يمكن لثوم ان يخفض من الضغظ وماهي الجرعه ا...   \n",
       "2  \\nعملت فحص سكر الصائم بعد صيام اكثر من ١٢ساعة\\...   \n",
       "3  \\nعملت ماموجرام وموجات فوق صوتيه فوجدت تضخم فى...   \n",
       "4  \\nقبل ثلاثة أسابيع أصبت بالتهابات القصبات الهو...   \n",
       "\n",
       "                                              answer  \\\n",
       "0  \\n\\nاخي الكريم استخدم أقراص مضادة للالتهاب Pon...   \n",
       "1  \\n\\nنعم يمكن وهناك كثير من الدراسات التي تؤكد ...   \n",
       "2  \\n\\nالنتيجة طبيعية\\n2\\n2023-06-03 08:16:44\\n\\n...   \n",
       "3  \\n\\nيفضل طبعا عمل رنين لانه ادق بكثير لمعرفه ه...   \n",
       "4  \\n\\nالعودة والكشف عند الطبيب لمعرفة اثار المرض...   \n",
       "\n",
       "                         label  \n",
       "0              General Surgery  \n",
       "1               Blood diseases  \n",
       "2  respiratory system diseases  \n",
       "3                       Tumors  \n",
       "4               Blood diseases  "
      ]
     },
     "execution_count": 29,
     "metadata": {},
     "output_type": "execute_result"
    }
   ],
   "source": [
    "train.head()"
   ]
  },
  {
   "cell_type": "code",
   "execution_count": 30,
   "metadata": {},
   "outputs": [
    {
     "data": {
      "text/plain": [
       "label\n",
       "Tumors                         17478\n",
       "General Surgery                17318\n",
       "Endocrine diseases             15713\n",
       "diabetes                       11883\n",
       "Blood diseases                 10698\n",
       "respiratory system diseases    10081\n",
       "Orthopaedic Surgery             4585\n",
       "Name: count, dtype: int64"
      ]
     },
     "execution_count": 30,
     "metadata": {},
     "output_type": "execute_result"
    }
   ],
   "source": [
    "train['label'].value_counts()\n"
   ]
  },
  {
   "cell_type": "code",
   "execution_count": 31,
   "metadata": {},
   "outputs": [],
   "source": [
    "# 2. Filtering Non-Arabic Content: Remove any irrelevant content that is not in Arabic\n",
    "train.loc[:, 'question']  = train['question'].apply(filter_arabic)\n",
    "train.loc[:, 'answer'  ]  = train['answer'].apply(filter_arabic)\n",
    "test.loc[: , 'question']  = test['question'].apply(filter_arabic)\n",
    "test.loc[: , 'answer'  ]  = test['answer'].apply(filter_arabic)"
   ]
  },
  {
   "cell_type": "code",
   "execution_count": 32,
   "metadata": {},
   "outputs": [
    {
     "name": "stdout",
     "output_type": "stream",
     "text": [
      "train_unique_dataset :  52468\n",
      "train_question 87756\n",
      "test_unique_dataset :  10594\n",
      "test_question 17547\n"
     ]
    }
   ],
   "source": [
    "# 3. Remove duplicated questions  from dataset \n",
    "train_unique_data = train.drop_duplicates(subset=['question'])\n",
    "test_unique_data  = test.drop_duplicates(subset=['question'])\n",
    "\n",
    "print(\"train_unique_dataset : \",len(train_unique_data)) \n",
    "print(\"train_question\",len(train)) \n",
    "\n",
    "print(\"test_unique_dataset : \",len(test_unique_data)) \n",
    "print(\"test_question\",len(test)) \n"
   ]
  },
  {
   "cell_type": "code",
   "execution_count": 33,
   "metadata": {},
   "outputs": [],
   "source": [
    "# 4 Clean Text from sprecail cahr and so on\n",
    "train_unique_data.loc[:, 'question'] = train_unique_data['question'].apply(cleanText)\n",
    "train_unique_data.loc[:, 'answer'  ] = train_unique_data['answer'].apply(cleanText)\n",
    "test_unique_data.loc[: , 'question'] = test_unique_data['question'].apply(cleanText)\n",
    "test_unique_data.loc[: , 'answer'  ] = test_unique_data['answer'].apply(cleanText)"
   ]
  },
  {
   "cell_type": "code",
   "execution_count": 34,
   "metadata": {},
   "outputs": [],
   "source": [
    "# 5. Remove Arabic Stop Words \n",
    "train_unique_data.loc[:, 'question'] = train_unique_data['question'].apply(remove_stop_words)\n",
    "train_unique_data.loc[:, 'answer'  ] = train_unique_data['answer'].apply(remove_stop_words)\n",
    "test_unique_data.loc[: , 'question'] = test_unique_data['question'].apply(remove_stop_words)\n",
    "test_unique_data.loc[: , 'answer'  ] = test_unique_data['answer'].apply(remove_stop_words)"
   ]
  },
  {
   "cell_type": "code",
   "execution_count": 35,
   "metadata": {},
   "outputs": [],
   "source": [
    "# 6 Normalize arabic letters\n",
    "train_unique_data.loc[:, 'question'] = train_unique_data['question'].apply(normalize_arabic_letters)\n",
    "train_unique_data.loc[:, 'answer'  ] = train_unique_data['answer'].apply(normalize_arabic_letters)\n",
    "test_unique_data.loc[: , 'question'] = test_unique_data['question'].apply(normalize_arabic_letters)\n",
    "test_unique_data.loc[: , 'answer'  ] = test_unique_data['answer'].apply(normalize_arabic_letters)"
   ]
  },
  {
   "cell_type": "code",
   "execution_count": 36,
   "metadata": {},
   "outputs": [
    {
     "name": "stdout",
     "output_type": "stream",
     "text": [
      "Train Data states (Questions) : \n",
      "Number of Questions are  52468\n",
      "Number of Vocabulary Size = 74974\n",
      "Most frequent words (top 10) = [('انا', 9366), ('ان', 8124), ('اعاني', 7140), ('عليكم', 7014), ('السلام', 6545), ('عندي', 6115), ('او', 5844), ('الدم', 5008), ('الم', 4969), ('علاج', 4549)]\n",
      "---------------------------------------------\n",
      "Train Data states (Answers) : \n",
      "Number of Questions are  52468\n",
      "Number of Vocabulary Size = 79719\n",
      "Most frequent words (top 10) = [('الدكتور', 71201), ('طبية', 52785), ('اسيلة', 52504), ('جراحة', 32276), ('الدم', 24269), ('امراض', 24088), ('الغدد', 19652), ('الصماء', 18007), ('محمد', 17077), ('علي', 13829)]\n",
      "=========================================================================\n",
      "Test Data states (Questions) : \n",
      "Number of Questions are  10594\n",
      "Number of Vocabulary Size = 28900\n",
      "Most frequent words (top 10) = [('انا', 1868), ('ان', 1634), ('عليكم', 1433), ('اعاني', 1396), ('السلام', 1306), ('عندي', 1220), ('او', 1173), ('الم', 1057), ('الدم', 1023), ('علاج', 912)]\n",
      "---------------------------------------------\n",
      "Test Data states (Answers) : \n",
      "Number of Questions are  10594\n",
      "Number of Vocabulary Size = 33896\n",
      "Most frequent words (top 10) = [('الدكتور', 14281), ('طبية', 10661), ('اسيلة', 10601), ('جراحة', 6505), ('الدم', 5081), ('امراض', 4834), ('الغدد', 3971), ('الصماء', 3643), ('محمد', 3443), ('علي', 2883)]\n"
     ]
    }
   ],
   "source": [
    "print(\"Train Data states (Questions) : \")\n",
    "data_stats(train_unique_data,'question')\n",
    "print(\"---------------------------------------------\")\n",
    "print(\"Train Data states (Answers) : \")\n",
    "data_stats(train_unique_data,'answer')\n",
    "print(\"=========================================================================\")\n",
    "print(\"Test Data states (Questions) : \")\n",
    "data_stats(test_unique_data,'question')\n",
    "print(\"---------------------------------------------\")\n",
    "print(\"Test Data states (Answers) : \")\n",
    "data_stats(test_unique_data,'answer')"
   ]
  },
  {
   "cell_type": "code",
   "execution_count": 37,
   "metadata": {},
   "outputs": [
    {
     "data": {
      "text/html": [
       "<div>\n",
       "<style scoped>\n",
       "    .dataframe tbody tr th:only-of-type {\n",
       "        vertical-align: middle;\n",
       "    }\n",
       "\n",
       "    .dataframe tbody tr th {\n",
       "        vertical-align: top;\n",
       "    }\n",
       "\n",
       "    .dataframe thead th {\n",
       "        text-align: right;\n",
       "    }\n",
       "</style>\n",
       "<table border=\"1\" class=\"dataframe\">\n",
       "  <thead>\n",
       "    <tr style=\"text-align: right;\">\n",
       "      <th></th>\n",
       "      <th>question</th>\n",
       "      <th>answer</th>\n",
       "      <th>question_counter</th>\n",
       "      <th>answer_counter</th>\n",
       "      <th>label</th>\n",
       "    </tr>\n",
       "  </thead>\n",
       "  <tbody>\n",
       "    <tr>\n",
       "      <th>0</th>\n",
       "      <td>هى الاعراض الاولى لمرض السكر</td>\n",
       "      <td>اعراض مرض السكر كثيره اهمها العطش كثرة ادرار ا...</td>\n",
       "      <td>5</td>\n",
       "      <td>37</td>\n",
       "      <td>جراحة عامة</td>\n",
       "    </tr>\n",
       "    <tr>\n",
       "      <th>1</th>\n",
       "      <td>يمكن علاج الناسور العصعصي بدون جراحة</td>\n",
       "      <td>علاج الناسور العصعصي يكون بالجراحة فقط الدكتور...</td>\n",
       "      <td>6</td>\n",
       "      <td>22</td>\n",
       "      <td>جراحة_العظام</td>\n",
       "    </tr>\n",
       "    <tr>\n",
       "      <th>2</th>\n",
       "      <td>ماهي الاثار الجانبية لستيصال الغده الدرقيه الع...</td>\n",
       "      <td>تغييرات عديدة العمليات الحيوية لمواد عديدة الج...</td>\n",
       "      <td>16</td>\n",
       "      <td>43</td>\n",
       "      <td>ارتفاع_ضغط_الدم</td>\n",
       "    </tr>\n",
       "    <tr>\n",
       "      <th>3</th>\n",
       "      <td>نقص بهرمون الذكورة ووصف الدكتور حقت سيدوتسترون...</td>\n",
       "      <td>يجب اتباع التعليمات الطبية عدم وقف العلاج تستم...</td>\n",
       "      <td>22</td>\n",
       "      <td>32</td>\n",
       "      <td>امراض-الغدد-الصماء</td>\n",
       "    </tr>\n",
       "    <tr>\n",
       "      <th>4</th>\n",
       "      <td>عملت عملية دوالي الساقين قسطرة الليزر شهر احس ...</td>\n",
       "      <td>مرحبا العملية يمكن يحدث الاعراض المشابهة لتلك ...</td>\n",
       "      <td>26</td>\n",
       "      <td>91</td>\n",
       "      <td>أمراض الجهاز التنفسي</td>\n",
       "    </tr>\n",
       "  </tbody>\n",
       "</table>\n",
       "</div>"
      ],
      "text/plain": [
       "                                            question  \\\n",
       "0                       هى الاعراض الاولى لمرض السكر   \n",
       "1               يمكن علاج الناسور العصعصي بدون جراحة   \n",
       "2  ماهي الاثار الجانبية لستيصال الغده الدرقيه الع...   \n",
       "3  نقص بهرمون الذكورة ووصف الدكتور حقت سيدوتسترون...   \n",
       "4  عملت عملية دوالي الساقين قسطرة الليزر شهر احس ...   \n",
       "\n",
       "                                              answer  question_counter  \\\n",
       "0  اعراض مرض السكر كثيره اهمها العطش كثرة ادرار ا...                 5   \n",
       "1  علاج الناسور العصعصي يكون بالجراحة فقط الدكتور...                 6   \n",
       "2  تغييرات عديدة العمليات الحيوية لمواد عديدة الج...                16   \n",
       "3  يجب اتباع التعليمات الطبية عدم وقف العلاج تستم...                22   \n",
       "4  مرحبا العملية يمكن يحدث الاعراض المشابهة لتلك ...                26   \n",
       "\n",
       "   answer_counter                 label  \n",
       "0              37            جراحة عامة  \n",
       "1              22          جراحة_العظام  \n",
       "2              43       ارتفاع_ضغط_الدم  \n",
       "3              32    امراض-الغدد-الصماء  \n",
       "4              91  أمراض الجهاز التنفسي  "
      ]
     },
     "execution_count": 37,
     "metadata": {},
     "output_type": "execute_result"
    }
   ],
   "source": [
    "# 7. Reformate data frame\n",
    "new_train_data = count_arabic_words(train_unique_data)\n",
    "new_test_data = count_arabic_words(test_unique_data)\n",
    "new_test_data.head()"
   ]
  },
  {
   "cell_type": "markdown",
   "metadata": {},
   "source": [
    "## Building Model"
   ]
  },
  {
   "cell_type": "code",
   "execution_count": 38,
   "metadata": {},
   "outputs": [],
   "source": [
    "tag = []\n",
    "patterns = []\n",
    "responses = []\n",
    "for index, row in new_train_data.iterrows():    \n",
    "    for column in new_train_data.columns:  \n",
    "        responses.append(row['answer'])\n",
    "        patterns.append(row['question'])\n",
    "        tag.append(row['label'])\n"
   ]
  },
  {
   "cell_type": "code",
   "execution_count": 39,
   "metadata": {},
   "outputs": [],
   "source": [
    "from sklearn.feature_extraction.text import TfidfVectorizer\n",
    "vectorizer = TfidfVectorizer()\n",
    "X = vectorizer.fit_transform(patterns)\n",
    "y = np.array(tag)"
   ]
  },
  {
   "cell_type": "code",
   "execution_count": 40,
   "metadata": {},
   "outputs": [],
   "source": [
    "from tensorflow.keras.preprocessing.text import Tokenizer\n",
    "from tensorflow.keras.preprocessing.sequence import pad_sequences"
   ]
  },
  {
   "cell_type": "code",
   "execution_count": 64,
   "metadata": {},
   "outputs": [],
   "source": [
    "tokenizer = Tokenizer(num_words=1000, oov_token=\"<UNK>\")\n",
    "tokenizer.fit_on_texts(patterns)"
   ]
  },
  {
   "cell_type": "code",
   "execution_count": 65,
   "metadata": {},
   "outputs": [],
   "source": [
    "sequences = tokenizer.texts_to_sequences(patterns)"
   ]
  },
  {
   "cell_type": "code",
   "execution_count": 66,
   "metadata": {},
   "outputs": [],
   "source": [
    "final_sequences = pad_sequences(sequences,maxlen=50,truncating='post')"
   ]
  },
  {
   "cell_type": "code",
   "execution_count": 67,
   "metadata": {},
   "outputs": [],
   "source": [
    "from tensorflow.keras.utils import to_categorical\n",
    "from sklearn.preprocessing import LabelEncoder\n",
    "le = LabelEncoder()\n",
    "tags = le.fit_transform(tag)\n",
    "labels = to_categorical(tags)"
   ]
  },
  {
   "cell_type": "code",
   "execution_count": 68,
   "metadata": {},
   "outputs": [
    {
     "data": {
      "text/plain": [
       "(262340, 50)"
      ]
     },
     "execution_count": 68,
     "metadata": {},
     "output_type": "execute_result"
    }
   ],
   "source": [
    "final_sequences.shape"
   ]
  },
  {
   "cell_type": "code",
   "execution_count": 60,
   "metadata": {},
   "outputs": [
    {
     "data": {
      "text/plain": [
       "7"
      ]
     },
     "execution_count": 60,
     "metadata": {},
     "output_type": "execute_result"
    }
   ],
   "source": [
    "len(set(tag))"
   ]
  },
  {
   "cell_type": "code",
   "execution_count": 69,
   "metadata": {},
   "outputs": [],
   "source": [
    "import tensorflow as tf\n",
    "\n",
    "# Define LSTM model\n",
    "model = tf.keras.Sequential([\n",
    "    tf.keras.layers.Input(shape=(7,)),      \n",
    "    tf.keras.layers.Embedding(1000,7),\n",
    "    tf.keras.layers.Dense(128, activation='relu'),\n",
    "    tf.keras.layers.Dropout(0.5),  \n",
    "    tf.keras.layers.LSTM(128, return_sequences=True),            \n",
    "    tf.keras.layers.LSTM(64),            \n",
    "    tf.keras.layers.Dropout(0.2),\n",
    "    tf.keras.layers.Dense(7,activation='softmax') \n",
    "])\n",
    "\n",
    "\n",
    "# Compile model\n",
    "model.compile(loss='categorical_crossentropy', optimizer='adam',metrics=['accuracy'])"
   ]
  },
  {
   "cell_type": "code",
   "execution_count": 70,
   "metadata": {},
   "outputs": [
    {
     "data": {
      "text/html": [
       "<pre style=\"white-space:pre;overflow-x:auto;line-height:normal;font-family:Menlo,'DejaVu Sans Mono',consolas,'Courier New',monospace\"><span style=\"font-weight: bold\">Model: \"sequential_3\"</span>\n",
       "</pre>\n"
      ],
      "text/plain": [
       "\u001b[1mModel: \"sequential_3\"\u001b[0m\n"
      ]
     },
     "metadata": {},
     "output_type": "display_data"
    },
    {
     "data": {
      "text/html": [
       "<pre style=\"white-space:pre;overflow-x:auto;line-height:normal;font-family:Menlo,'DejaVu Sans Mono',consolas,'Courier New',monospace\">┏━━━━━━━━━━━━━━━━━━━━━━━━━━━━━━━━━┳━━━━━━━━━━━━━━━━━━━━━━━━┳━━━━━━━━━━━━━━━┓\n",
       "┃<span style=\"font-weight: bold\"> Layer (type)                    </span>┃<span style=\"font-weight: bold\"> Output Shape           </span>┃<span style=\"font-weight: bold\">       Param # </span>┃\n",
       "┡━━━━━━━━━━━━━━━━━━━━━━━━━━━━━━━━━╇━━━━━━━━━━━━━━━━━━━━━━━━╇━━━━━━━━━━━━━━━┩\n",
       "│ embedding_3 (<span style=\"color: #0087ff; text-decoration-color: #0087ff\">Embedding</span>)         │ (<span style=\"color: #00d7ff; text-decoration-color: #00d7ff\">None</span>, <span style=\"color: #00af00; text-decoration-color: #00af00\">7</span>, <span style=\"color: #00af00; text-decoration-color: #00af00\">7</span>)           │         <span style=\"color: #00af00; text-decoration-color: #00af00\">7,000</span> │\n",
       "├─────────────────────────────────┼────────────────────────┼───────────────┤\n",
       "│ dense_6 (<span style=\"color: #0087ff; text-decoration-color: #0087ff\">Dense</span>)                 │ (<span style=\"color: #00d7ff; text-decoration-color: #00d7ff\">None</span>, <span style=\"color: #00af00; text-decoration-color: #00af00\">7</span>, <span style=\"color: #00af00; text-decoration-color: #00af00\">128</span>)         │         <span style=\"color: #00af00; text-decoration-color: #00af00\">1,024</span> │\n",
       "├─────────────────────────────────┼────────────────────────┼───────────────┤\n",
       "│ dropout_6 (<span style=\"color: #0087ff; text-decoration-color: #0087ff\">Dropout</span>)             │ (<span style=\"color: #00d7ff; text-decoration-color: #00d7ff\">None</span>, <span style=\"color: #00af00; text-decoration-color: #00af00\">7</span>, <span style=\"color: #00af00; text-decoration-color: #00af00\">128</span>)         │             <span style=\"color: #00af00; text-decoration-color: #00af00\">0</span> │\n",
       "├─────────────────────────────────┼────────────────────────┼───────────────┤\n",
       "│ lstm_6 (<span style=\"color: #0087ff; text-decoration-color: #0087ff\">LSTM</span>)                   │ (<span style=\"color: #00d7ff; text-decoration-color: #00d7ff\">None</span>, <span style=\"color: #00af00; text-decoration-color: #00af00\">7</span>, <span style=\"color: #00af00; text-decoration-color: #00af00\">128</span>)         │       <span style=\"color: #00af00; text-decoration-color: #00af00\">131,584</span> │\n",
       "├─────────────────────────────────┼────────────────────────┼───────────────┤\n",
       "│ lstm_7 (<span style=\"color: #0087ff; text-decoration-color: #0087ff\">LSTM</span>)                   │ (<span style=\"color: #00d7ff; text-decoration-color: #00d7ff\">None</span>, <span style=\"color: #00af00; text-decoration-color: #00af00\">64</span>)             │        <span style=\"color: #00af00; text-decoration-color: #00af00\">49,408</span> │\n",
       "├─────────────────────────────────┼────────────────────────┼───────────────┤\n",
       "│ dropout_7 (<span style=\"color: #0087ff; text-decoration-color: #0087ff\">Dropout</span>)             │ (<span style=\"color: #00d7ff; text-decoration-color: #00d7ff\">None</span>, <span style=\"color: #00af00; text-decoration-color: #00af00\">64</span>)             │             <span style=\"color: #00af00; text-decoration-color: #00af00\">0</span> │\n",
       "├─────────────────────────────────┼────────────────────────┼───────────────┤\n",
       "│ dense_7 (<span style=\"color: #0087ff; text-decoration-color: #0087ff\">Dense</span>)                 │ (<span style=\"color: #00d7ff; text-decoration-color: #00d7ff\">None</span>, <span style=\"color: #00af00; text-decoration-color: #00af00\">7</span>)              │           <span style=\"color: #00af00; text-decoration-color: #00af00\">455</span> │\n",
       "└─────────────────────────────────┴────────────────────────┴───────────────┘\n",
       "</pre>\n"
      ],
      "text/plain": [
       "┏━━━━━━━━━━━━━━━━━━━━━━━━━━━━━━━━━┳━━━━━━━━━━━━━━━━━━━━━━━━┳━━━━━━━━━━━━━━━┓\n",
       "┃\u001b[1m \u001b[0m\u001b[1mLayer (type)                   \u001b[0m\u001b[1m \u001b[0m┃\u001b[1m \u001b[0m\u001b[1mOutput Shape          \u001b[0m\u001b[1m \u001b[0m┃\u001b[1m \u001b[0m\u001b[1m      Param #\u001b[0m\u001b[1m \u001b[0m┃\n",
       "┡━━━━━━━━━━━━━━━━━━━━━━━━━━━━━━━━━╇━━━━━━━━━━━━━━━━━━━━━━━━╇━━━━━━━━━━━━━━━┩\n",
       "│ embedding_3 (\u001b[38;5;33mEmbedding\u001b[0m)         │ (\u001b[38;5;45mNone\u001b[0m, \u001b[38;5;34m7\u001b[0m, \u001b[38;5;34m7\u001b[0m)           │         \u001b[38;5;34m7,000\u001b[0m │\n",
       "├─────────────────────────────────┼────────────────────────┼───────────────┤\n",
       "│ dense_6 (\u001b[38;5;33mDense\u001b[0m)                 │ (\u001b[38;5;45mNone\u001b[0m, \u001b[38;5;34m7\u001b[0m, \u001b[38;5;34m128\u001b[0m)         │         \u001b[38;5;34m1,024\u001b[0m │\n",
       "├─────────────────────────────────┼────────────────────────┼───────────────┤\n",
       "│ dropout_6 (\u001b[38;5;33mDropout\u001b[0m)             │ (\u001b[38;5;45mNone\u001b[0m, \u001b[38;5;34m7\u001b[0m, \u001b[38;5;34m128\u001b[0m)         │             \u001b[38;5;34m0\u001b[0m │\n",
       "├─────────────────────────────────┼────────────────────────┼───────────────┤\n",
       "│ lstm_6 (\u001b[38;5;33mLSTM\u001b[0m)                   │ (\u001b[38;5;45mNone\u001b[0m, \u001b[38;5;34m7\u001b[0m, \u001b[38;5;34m128\u001b[0m)         │       \u001b[38;5;34m131,584\u001b[0m │\n",
       "├─────────────────────────────────┼────────────────────────┼───────────────┤\n",
       "│ lstm_7 (\u001b[38;5;33mLSTM\u001b[0m)                   │ (\u001b[38;5;45mNone\u001b[0m, \u001b[38;5;34m64\u001b[0m)             │        \u001b[38;5;34m49,408\u001b[0m │\n",
       "├─────────────────────────────────┼────────────────────────┼───────────────┤\n",
       "│ dropout_7 (\u001b[38;5;33mDropout\u001b[0m)             │ (\u001b[38;5;45mNone\u001b[0m, \u001b[38;5;34m64\u001b[0m)             │             \u001b[38;5;34m0\u001b[0m │\n",
       "├─────────────────────────────────┼────────────────────────┼───────────────┤\n",
       "│ dense_7 (\u001b[38;5;33mDense\u001b[0m)                 │ (\u001b[38;5;45mNone\u001b[0m, \u001b[38;5;34m7\u001b[0m)              │           \u001b[38;5;34m455\u001b[0m │\n",
       "└─────────────────────────────────┴────────────────────────┴───────────────┘\n"
      ]
     },
     "metadata": {},
     "output_type": "display_data"
    },
    {
     "data": {
      "text/html": [
       "<pre style=\"white-space:pre;overflow-x:auto;line-height:normal;font-family:Menlo,'DejaVu Sans Mono',consolas,'Courier New',monospace\"><span style=\"font-weight: bold\"> Total params: </span><span style=\"color: #00af00; text-decoration-color: #00af00\">189,471</span> (740.12 KB)\n",
       "</pre>\n"
      ],
      "text/plain": [
       "\u001b[1m Total params: \u001b[0m\u001b[38;5;34m189,471\u001b[0m (740.12 KB)\n"
      ]
     },
     "metadata": {},
     "output_type": "display_data"
    },
    {
     "data": {
      "text/html": [
       "<pre style=\"white-space:pre;overflow-x:auto;line-height:normal;font-family:Menlo,'DejaVu Sans Mono',consolas,'Courier New',monospace\"><span style=\"font-weight: bold\"> Trainable params: </span><span style=\"color: #00af00; text-decoration-color: #00af00\">189,471</span> (740.12 KB)\n",
       "</pre>\n"
      ],
      "text/plain": [
       "\u001b[1m Trainable params: \u001b[0m\u001b[38;5;34m189,471\u001b[0m (740.12 KB)\n"
      ]
     },
     "metadata": {},
     "output_type": "display_data"
    },
    {
     "data": {
      "text/html": [
       "<pre style=\"white-space:pre;overflow-x:auto;line-height:normal;font-family:Menlo,'DejaVu Sans Mono',consolas,'Courier New',monospace\"><span style=\"font-weight: bold\"> Non-trainable params: </span><span style=\"color: #00af00; text-decoration-color: #00af00\">0</span> (0.00 B)\n",
       "</pre>\n"
      ],
      "text/plain": [
       "\u001b[1m Non-trainable params: \u001b[0m\u001b[38;5;34m0\u001b[0m (0.00 B)\n"
      ]
     },
     "metadata": {},
     "output_type": "display_data"
    }
   ],
   "source": [
    "model.summary()"
   ]
  },
  {
   "cell_type": "code",
   "execution_count": 73,
   "metadata": {},
   "outputs": [
    {
     "name": "stdout",
     "output_type": "stream",
     "text": [
      "Epoch 1/50\n",
      "\u001b[1m2050/2050\u001b[0m \u001b[32m━━━━━━━━━━━━━━━━━━━━\u001b[0m\u001b[37m\u001b[0m \u001b[1m498s\u001b[0m 243ms/step - accuracy: 0.6034 - loss: 1.2619 - val_accuracy: 0.6167 - val_loss: 1.2184\n",
      "Epoch 2/50\n",
      "\u001b[1m2050/2050\u001b[0m \u001b[32m━━━━━━━━━━━━━━━━━━━━\u001b[0m\u001b[37m\u001b[0m \u001b[1m487s\u001b[0m 237ms/step - accuracy: 0.6111 - loss: 1.2399 - val_accuracy: 0.6217 - val_loss: 1.2043\n",
      "Epoch 3/50\n",
      "\u001b[1m2050/2050\u001b[0m \u001b[32m━━━━━━━━━━━━━━━━━━━━\u001b[0m\u001b[37m\u001b[0m \u001b[1m648s\u001b[0m 316ms/step - accuracy: 0.6185 - loss: 1.2172 - val_accuracy: 0.6282 - val_loss: 1.1809\n",
      "Epoch 4/50\n",
      "\u001b[1m2050/2050\u001b[0m \u001b[32m━━━━━━━━━━━━━━━━━━━━\u001b[0m\u001b[37m\u001b[0m \u001b[1m609s\u001b[0m 297ms/step - accuracy: 0.6225 - loss: 1.2008 - val_accuracy: 0.6388 - val_loss: 1.1438\n",
      "Epoch 5/50\n",
      "\u001b[1m2050/2050\u001b[0m \u001b[32m━━━━━━━━━━━━━━━━━━━━\u001b[0m\u001b[37m\u001b[0m \u001b[1m613s\u001b[0m 299ms/step - accuracy: 0.6315 - loss: 1.1729 - val_accuracy: 0.6511 - val_loss: 1.1024\n",
      "Epoch 6/50\n",
      "\u001b[1m2050/2050\u001b[0m \u001b[32m━━━━━━━━━━━━━━━━━━━━\u001b[0m\u001b[37m\u001b[0m \u001b[1m580s\u001b[0m 283ms/step - accuracy: 0.6410 - loss: 1.1351 - val_accuracy: 0.6658 - val_loss: 1.0448\n",
      "Epoch 7/50\n",
      "\u001b[1m2050/2050\u001b[0m \u001b[32m━━━━━━━━━━━━━━━━━━━━\u001b[0m\u001b[37m\u001b[0m \u001b[1m521s\u001b[0m 254ms/step - accuracy: 0.6506 - loss: 1.0901 - val_accuracy: 0.6809 - val_loss: 0.9844\n",
      "Epoch 8/50\n",
      "\u001b[1m2050/2050\u001b[0m \u001b[32m━━━━━━━━━━━━━━━━━━━━\u001b[0m\u001b[37m\u001b[0m \u001b[1m524s\u001b[0m 256ms/step - accuracy: 0.6627 - loss: 1.0465 - val_accuracy: 0.6943 - val_loss: 0.9291\n",
      "Epoch 9/50\n",
      "\u001b[1m2050/2050\u001b[0m \u001b[32m━━━━━━━━━━━━━━━━━━━━\u001b[0m\u001b[37m\u001b[0m \u001b[1m532s\u001b[0m 259ms/step - accuracy: 0.6723 - loss: 1.0045 - val_accuracy: 0.7088 - val_loss: 0.8748\n",
      "Epoch 10/50\n",
      "\u001b[1m2050/2050\u001b[0m \u001b[32m━━━━━━━━━━━━━━━━━━━━\u001b[0m\u001b[37m\u001b[0m \u001b[1m534s\u001b[0m 260ms/step - accuracy: 0.6794 - loss: 0.9702 - val_accuracy: 0.7218 - val_loss: 0.8269\n",
      "Epoch 11/50\n",
      "\u001b[1m2050/2050\u001b[0m \u001b[32m━━━━━━━━━━━━━━━━━━━━\u001b[0m\u001b[37m\u001b[0m \u001b[1m734s\u001b[0m 358ms/step - accuracy: 0.6919 - loss: 0.9277 - val_accuracy: 0.7363 - val_loss: 0.7820\n",
      "Epoch 12/50\n",
      "\u001b[1m2050/2050\u001b[0m \u001b[32m━━━━━━━━━━━━━━━━━━━━\u001b[0m\u001b[37m\u001b[0m \u001b[1m604s\u001b[0m 295ms/step - accuracy: 0.6989 - loss: 0.8983 - val_accuracy: 0.7499 - val_loss: 0.7306\n",
      "Epoch 13/50\n",
      "\u001b[1m2050/2050\u001b[0m \u001b[32m━━━━━━━━━━━━━━━━━━━━\u001b[0m\u001b[37m\u001b[0m \u001b[1m573s\u001b[0m 280ms/step - accuracy: 0.7078 - loss: 0.8645 - val_accuracy: 0.7594 - val_loss: 0.7043\n",
      "Epoch 14/50\n",
      "\u001b[1m2050/2050\u001b[0m \u001b[32m━━━━━━━━━━━━━━━━━━━━\u001b[0m\u001b[37m\u001b[0m \u001b[1m630s\u001b[0m 307ms/step - accuracy: 0.7137 - loss: 0.8396 - val_accuracy: 0.7743 - val_loss: 0.6659\n",
      "Epoch 15/50\n",
      "\u001b[1m2050/2050\u001b[0m \u001b[32m━━━━━━━━━━━━━━━━━━━━\u001b[0m\u001b[37m\u001b[0m \u001b[1m572s\u001b[0m 279ms/step - accuracy: 0.7209 - loss: 0.8144 - val_accuracy: 0.7819 - val_loss: 0.6318\n",
      "Epoch 16/50\n",
      "\u001b[1m2050/2050\u001b[0m \u001b[32m━━━━━━━━━━━━━━━━━━━━\u001b[0m\u001b[37m\u001b[0m \u001b[1m630s\u001b[0m 307ms/step - accuracy: 0.7296 - loss: 0.7875 - val_accuracy: 0.7912 - val_loss: 0.6021\n",
      "Epoch 17/50\n",
      "\u001b[1m2050/2050\u001b[0m \u001b[32m━━━━━━━━━━━━━━━━━━━━\u001b[0m\u001b[37m\u001b[0m \u001b[1m639s\u001b[0m 311ms/step - accuracy: 0.7334 - loss: 0.7746 - val_accuracy: 0.7953 - val_loss: 0.5871\n",
      "Epoch 18/50\n",
      "\u001b[1m2050/2050\u001b[0m \u001b[32m━━━━━━━━━━━━━━━━━━━━\u001b[0m\u001b[37m\u001b[0m \u001b[1m727s\u001b[0m 355ms/step - accuracy: 0.7414 - loss: 0.7480 - val_accuracy: 0.8086 - val_loss: 0.5530\n",
      "Epoch 19/50\n",
      "\u001b[1m2050/2050\u001b[0m \u001b[32m━━━━━━━━━━━━━━━━━━━━\u001b[0m\u001b[37m\u001b[0m \u001b[1m761s\u001b[0m 371ms/step - accuracy: 0.7453 - loss: 0.7331 - val_accuracy: 0.8168 - val_loss: 0.5320\n",
      "Epoch 20/50\n",
      "\u001b[1m2050/2050\u001b[0m \u001b[32m━━━━━━━━━━━━━━━━━━━━\u001b[0m\u001b[37m\u001b[0m \u001b[1m621s\u001b[0m 303ms/step - accuracy: 0.7521 - loss: 0.7148 - val_accuracy: 0.8234 - val_loss: 0.5187\n",
      "Epoch 21/50\n",
      "\u001b[1m2050/2050\u001b[0m \u001b[32m━━━━━━━━━━━━━━━━━━━━\u001b[0m\u001b[37m\u001b[0m \u001b[1m670s\u001b[0m 327ms/step - accuracy: 0.7549 - loss: 0.7035 - val_accuracy: 0.8278 - val_loss: 0.5000\n",
      "Epoch 22/50\n",
      "\u001b[1m2050/2050\u001b[0m \u001b[32m━━━━━━━━━━━━━━━━━━━━\u001b[0m\u001b[37m\u001b[0m \u001b[1m708s\u001b[0m 345ms/step - accuracy: 0.7605 - loss: 0.6877 - val_accuracy: 0.8374 - val_loss: 0.4773\n",
      "Epoch 23/50\n",
      "\u001b[1m2050/2050\u001b[0m \u001b[32m━━━━━━━━━━━━━━━━━━━━\u001b[0m\u001b[37m\u001b[0m \u001b[1m710s\u001b[0m 346ms/step - accuracy: 0.7679 - loss: 0.6659 - val_accuracy: 0.8405 - val_loss: 0.4635\n",
      "Epoch 24/50\n",
      "\u001b[1m2050/2050\u001b[0m \u001b[32m━━━━━━━━━━━━━━━━━━━━\u001b[0m\u001b[37m\u001b[0m \u001b[1m709s\u001b[0m 346ms/step - accuracy: 0.7684 - loss: 0.6620 - val_accuracy: 0.8480 - val_loss: 0.4529\n",
      "Epoch 25/50\n",
      "\u001b[1m2050/2050\u001b[0m \u001b[32m━━━━━━━━━━━━━━━━━━━━\u001b[0m\u001b[37m\u001b[0m \u001b[1m744s\u001b[0m 363ms/step - accuracy: 0.7712 - loss: 0.6536 - val_accuracy: 0.8542 - val_loss: 0.4351\n",
      "Epoch 26/50\n",
      "\u001b[1m2050/2050\u001b[0m \u001b[32m━━━━━━━━━━━━━━━━━━━━\u001b[0m\u001b[37m\u001b[0m \u001b[1m772s\u001b[0m 377ms/step - accuracy: 0.7784 - loss: 0.6341 - val_accuracy: 0.8554 - val_loss: 0.4284\n",
      "Epoch 27/50\n",
      "\u001b[1m2050/2050\u001b[0m \u001b[32m━━━━━━━━━━━━━━━━━━━━\u001b[0m\u001b[37m\u001b[0m \u001b[1m658s\u001b[0m 319ms/step - accuracy: 0.7821 - loss: 0.6249 - val_accuracy: 0.8643 - val_loss: 0.4102\n",
      "Epoch 28/50\n",
      "\u001b[1m2050/2050\u001b[0m \u001b[32m━━━━━━━━━━━━━━━━━━━━\u001b[0m\u001b[37m\u001b[0m \u001b[1m668s\u001b[0m 326ms/step - accuracy: 0.7849 - loss: 0.6164 - val_accuracy: 0.8647 - val_loss: 0.4015\n",
      "Epoch 29/50\n",
      "\u001b[1m2050/2050\u001b[0m \u001b[32m━━━━━━━━━━━━━━━━━━━━\u001b[0m\u001b[37m\u001b[0m \u001b[1m674s\u001b[0m 329ms/step - accuracy: 0.7880 - loss: 0.6054 - val_accuracy: 0.8687 - val_loss: 0.3883\n",
      "Epoch 30/50\n",
      "\u001b[1m2050/2050\u001b[0m \u001b[32m━━━━━━━━━━━━━━━━━━━━\u001b[0m\u001b[37m\u001b[0m \u001b[1m677s\u001b[0m 330ms/step - accuracy: 0.7896 - loss: 0.5957 - val_accuracy: 0.8779 - val_loss: 0.3782\n",
      "Epoch 31/50\n",
      "\u001b[1m2050/2050\u001b[0m \u001b[32m━━━━━━━━━━━━━━━━━━━━\u001b[0m\u001b[37m\u001b[0m \u001b[1m675s\u001b[0m 329ms/step - accuracy: 0.7927 - loss: 0.5884 - val_accuracy: 0.8783 - val_loss: 0.3684\n",
      "Epoch 32/50\n",
      "\u001b[1m2050/2050\u001b[0m \u001b[32m━━━━━━━━━━━━━━━━━━━━\u001b[0m\u001b[37m\u001b[0m \u001b[1m780s\u001b[0m 380ms/step - accuracy: 0.7968 - loss: 0.5840 - val_accuracy: 0.8778 - val_loss: 0.3670\n",
      "Epoch 33/50\n",
      "\u001b[1m2050/2050\u001b[0m \u001b[32m━━━━━━━━━━━━━━━━━━━━\u001b[0m\u001b[37m\u001b[0m \u001b[1m796s\u001b[0m 388ms/step - accuracy: 0.7984 - loss: 0.5758 - val_accuracy: 0.8798 - val_loss: 0.3580\n",
      "Epoch 34/50\n",
      "\u001b[1m2050/2050\u001b[0m \u001b[32m━━━━━━━━━━━━━━━━━━━━\u001b[0m\u001b[37m\u001b[0m \u001b[1m796s\u001b[0m 388ms/step - accuracy: 0.7991 - loss: 0.5724 - val_accuracy: 0.8882 - val_loss: 0.3397\n",
      "Epoch 35/50\n",
      "\u001b[1m2050/2050\u001b[0m \u001b[32m━━━━━━━━━━━━━━━━━━━━\u001b[0m\u001b[37m\u001b[0m \u001b[1m802s\u001b[0m 391ms/step - accuracy: 0.8058 - loss: 0.5543 - val_accuracy: 0.8884 - val_loss: 0.3376\n",
      "Epoch 36/50\n",
      "\u001b[1m2050/2050\u001b[0m \u001b[32m━━━━━━━━━━━━━━━━━━━━\u001b[0m\u001b[37m\u001b[0m \u001b[1m809s\u001b[0m 395ms/step - accuracy: 0.8056 - loss: 0.5548 - val_accuracy: 0.8940 - val_loss: 0.3281\n",
      "Epoch 37/50\n",
      "\u001b[1m2050/2050\u001b[0m \u001b[32m━━━━━━━━━━━━━━━━━━━━\u001b[0m\u001b[37m\u001b[0m \u001b[1m806s\u001b[0m 393ms/step - accuracy: 0.8055 - loss: 0.5520 - val_accuracy: 0.8926 - val_loss: 0.3281\n",
      "Epoch 38/50\n",
      "\u001b[1m2050/2050\u001b[0m \u001b[32m━━━━━━━━━━━━━━━━━━━━\u001b[0m\u001b[37m\u001b[0m \u001b[1m811s\u001b[0m 395ms/step - accuracy: 0.8081 - loss: 0.5435 - val_accuracy: 0.8926 - val_loss: 0.3281\n",
      "Epoch 39/50\n",
      "\u001b[1m2050/2050\u001b[0m \u001b[32m━━━━━━━━━━━━━━━━━━━━\u001b[0m\u001b[37m\u001b[0m \u001b[1m812s\u001b[0m 396ms/step - accuracy: 0.8110 - loss: 0.5364 - val_accuracy: 0.8990 - val_loss: 0.3124\n",
      "Epoch 40/50\n",
      "\u001b[1m2050/2050\u001b[0m \u001b[32m━━━━━━━━━━━━━━━━━━━━\u001b[0m\u001b[37m\u001b[0m \u001b[1m791s\u001b[0m 386ms/step - accuracy: 0.8133 - loss: 0.5305 - val_accuracy: 0.8997 - val_loss: 0.3064\n",
      "Epoch 41/50\n",
      "\u001b[1m2050/2050\u001b[0m \u001b[32m━━━━━━━━━━━━━━━━━━━━\u001b[0m\u001b[37m\u001b[0m \u001b[1m786s\u001b[0m 383ms/step - accuracy: 0.8151 - loss: 0.5253 - val_accuracy: 0.9065 - val_loss: 0.2917\n",
      "Epoch 42/50\n",
      "\u001b[1m2050/2050\u001b[0m \u001b[32m━━━━━━━━━━━━━━━━━━━━\u001b[0m\u001b[37m\u001b[0m \u001b[1m29981s\u001b[0m 15s/step - accuracy: 0.8186 - loss: 0.5182 - val_accuracy: 0.9083 - val_loss: 0.2926\n",
      "Epoch 43/50\n",
      "\u001b[1m2050/2050\u001b[0m \u001b[32m━━━━━━━━━━━━━━━━━━━━\u001b[0m\u001b[37m\u001b[0m \u001b[1m686s\u001b[0m 335ms/step - accuracy: 0.8198 - loss: 0.5127 - val_accuracy: 0.9082 - val_loss: 0.2901\n",
      "Epoch 44/50\n",
      "\u001b[1m2050/2050\u001b[0m \u001b[32m━━━━━━━━━━━━━━━━━━━━\u001b[0m\u001b[37m\u001b[0m \u001b[1m661s\u001b[0m 323ms/step - accuracy: 0.8196 - loss: 0.5106 - val_accuracy: 0.9102 - val_loss: 0.2844\n",
      "Epoch 45/50\n",
      "\u001b[1m2050/2050\u001b[0m \u001b[32m━━━━━━━━━━━━━━━━━━━━\u001b[0m\u001b[37m\u001b[0m \u001b[1m694s\u001b[0m 338ms/step - accuracy: 0.8235 - loss: 0.5034 - val_accuracy: 0.9131 - val_loss: 0.2770\n",
      "Epoch 46/50\n",
      "\u001b[1m2050/2050\u001b[0m \u001b[32m━━━━━━━━━━━━━━━━━━━━\u001b[0m\u001b[37m\u001b[0m \u001b[1m657s\u001b[0m 320ms/step - accuracy: 0.8236 - loss: 0.5015 - val_accuracy: 0.9157 - val_loss: 0.2725\n",
      "Epoch 47/50\n",
      "\u001b[1m2050/2050\u001b[0m \u001b[32m━━━━━━━━━━━━━━━━━━━━\u001b[0m\u001b[37m\u001b[0m \u001b[1m798s\u001b[0m 389ms/step - accuracy: 0.8239 - loss: 0.4976 - val_accuracy: 0.9174 - val_loss: 0.2640\n",
      "Epoch 48/50\n",
      "\u001b[1m2050/2050\u001b[0m \u001b[32m━━━━━━━━━━━━━━━━━━━━\u001b[0m\u001b[37m\u001b[0m \u001b[1m780s\u001b[0m 380ms/step - accuracy: 0.8278 - loss: 0.4910 - val_accuracy: 0.9176 - val_loss: 0.2632\n",
      "Epoch 49/50\n",
      "\u001b[1m2050/2050\u001b[0m \u001b[32m━━━━━━━━━━━━━━━━━━━━\u001b[0m\u001b[37m\u001b[0m \u001b[1m687s\u001b[0m 335ms/step - accuracy: 0.8297 - loss: 0.4859 - val_accuracy: 0.9180 - val_loss: 0.2652\n",
      "Epoch 50/50\n",
      "\u001b[1m2050/2050\u001b[0m \u001b[32m━━━━━━━━━━━━━━━━━━━━\u001b[0m\u001b[37m\u001b[0m \u001b[1m655s\u001b[0m 319ms/step - accuracy: 0.8284 - loss: 0.4864 - val_accuracy: 0.9192 - val_loss: 0.2549\n"
     ]
    }
   ],
   "source": [
    "history = model.fit(final_sequences,labels,epochs=50,batch_size=128,validation_data=(final_sequences,labels),verbose=1\n",
    ")"
   ]
  },
  {
   "cell_type": "code",
   "execution_count": 74,
   "metadata": {},
   "outputs": [
    {
     "data": {
      "image/png": "[encoded data removed]",
      "text/plain": [
       "<Figure size 1000x600 with 2 Axes>"
      ]
     },
     "metadata": {},
     "output_type": "display_data"
    }
   ],
   "source": [
    "train_loss = history.history['loss']\n",
    "val_loss = history.history['val_loss']\n",
    "\n",
    "# Extract training and validation accuracy (if applicable)\n",
    "train_acc = history.history['accuracy']  # Modify key based on your metric\n",
    "val_acc = history.history['val_accuracy']  # Modify key based on your metric\n",
    "\n",
    "# Create the plot\n",
    "plt.figure(figsize=(10, 6))\n",
    "\n",
    "# Plot loss\n",
    "plt.plot(train_loss, label='Training Loss')\n",
    "plt.plot(val_loss, label='Validation Loss')\n",
    "plt.title('Model Loss')\n",
    "plt.ylabel('Loss')\n",
    "plt.xlabel('Epoch')\n",
    "plt.legend()\n",
    "\n",
    "# Plot accuracy (if applicable)\n",
    "plt.twinx()  # Create a second y-axis for accuracy\n",
    "plt.plot(train_acc, 'g-', label='Training Accuracy')\n",
    "plt.plot(val_acc, 'r-', label='Validation Accuracy')\n",
    "plt.ylabel('Accuracy')\n",
    "\n",
    "plt.show()"
   ]
  },
  {
   "cell_type": "code",
   "execution_count": 75,
   "metadata": {},
   "outputs": [
    {
     "name": "stdout",
     "output_type": "stream",
     "text": [
      "\u001b[1m1/1\u001b[0m \u001b[32m━━━━━━━━━━━━━━━━━━━━\u001b[0m\u001b[37m\u001b[0m \u001b[1m5s\u001b[0m 5s/step\n"
     ]
    },
    {
     "data": {
      "text/plain": [
       "array(['diabetes'], dtype='<U27')"
      ]
     },
     "execution_count": 75,
     "metadata": {},
     "output_type": "execute_result"
    }
   ],
   "source": [
    "test = 'علاج ارتفاغ السكر التراكمي'\n",
    "test = tokenizer.texts_to_sequences([test])\n",
    "test2 = pad_sequences(test,maxlen=20)\n",
    "result = model.predict(test2)\n",
    "output_class = np.argmax(result)\n",
    "le.inverse_transform(np.array([output_class]))"
   ]
  },
  {
   "cell_type": "code",
   "execution_count": 125,
   "metadata": {},
   "outputs": [],
   "source": [
    "model.save('chatbotClassificationModel.keras')"
   ]
  },
  {
   "cell_type": "code",
   "execution_count": 124,
   "metadata": {},
   "outputs": [],
   "source": [
    "import pickle\n",
    "pickle.dump(tokenizer,open('chatbotTokinizer.pkl','wb'))\n",
    "pickle.dump(le,open('chatbotLabelencoder.pkl','wb'))"
   ]
  },
  {
   "cell_type": "code",
   "execution_count": null,
   "metadata": {},
   "outputs": [],
   "source": []
  }
 ],
 "metadata": {
  "kernelspec": {
   "display_name": "Python 3",
   "language": "python",
   "name": "python3"
  },
  "language_info": {
   "codemirror_mode": {
    "name": "ipython",
    "version": 3
   },
   "file_extension": ".py",
   "mimetype": "text/x-python",
   "name": "python",
   "nbconvert_exporter": "python",
   "pygments_lexer": "ipython3",
   "version": "3.12.2"
  }
 },
 "nbformat": 4,
 "nbformat_minor": 2
}
