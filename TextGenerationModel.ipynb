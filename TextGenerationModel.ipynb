{
 "cells": [
  {
   "cell_type": "markdown",
   "metadata": {},
   "source": [
    "# Load Libraries"
   ]
  },
  {
   "cell_type": "code",
   "execution_count": 1,
   "metadata": {},
   "outputs": [],
   "source": [
    "import numpy as np\n",
    "import pandas as pd\n",
    "import nltk\n",
    "from sklearn.model_selection import train_test_split\n",
    "from sklearn.preprocessing import StandardScaler, MinMaxScaler"
   ]
  },
  {
   "cell_type": "markdown",
   "metadata": {},
   "source": [
    "# Main Functions"
   ]
  },
  {
   "cell_type": "code",
   "execution_count": 2,
   "metadata": {},
   "outputs": [],
   "source": [
    "def load_data(file):\n",
    "    # Load  data from file and return it as panads dataframe\n",
    "    return pd.read_csv(file)\n",
    "\n",
    "def scale_features(X_train, X_test, scaler='standard'):\n",
    "    # load x data and returned it as a scaled data\n",
    "    if scaler == 'minmax':\n",
    "        scaler = MinMaxScaler()\n",
    "    else:\n",
    "        scaler = StandardScaler()\n",
    "    X_train_scaled = scaler.fit_transform(X_train)\n",
    "    X_test_scaled = scaler.transform(X_test)\n",
    "    \n",
    "    return X_train_scaled, X_test_scaled        \n"
   ]
  },
  {
   "cell_type": "markdown",
   "metadata": {},
   "source": [
    "# NLP Functions"
   ]
  },
  {
   "cell_type": "code",
   "execution_count": 3,
   "metadata": {},
   "outputs": [],
   "source": [
    "# Drop Null Rows\n",
    "def drop_null(train, test):\n",
    "    train = train.dropna()\n",
    "    test  = test.dropna().reset_index(drop=True)    \n",
    "    return train, test"
   ]
  },
  {
   "cell_type": "code",
   "execution_count": 4,
   "metadata": {},
   "outputs": [],
   "source": [
    "# Remove Non-Arabic Letters\n",
    "def filter_arabic(text):\n",
    "    import re\n",
    "    arabic_pattern = re.compile(r'[\\u0600-\\u06FF\\u0750-\\u077F\\u08A0-\\u08FF\\uFB50-\\uFDFF\\uFE70-\\uFEFF]+')\n",
    "    arabic_text = arabic_pattern.findall(text)\n",
    "    return ' '.join(arabic_text)"
   ]
  },
  {
   "cell_type": "code",
   "execution_count": 5,
   "metadata": {},
   "outputs": [],
   "source": [
    "# Remove Dublicate Questions\n",
    "def remove_duplicates_set(dataset):\n",
    "  unique_questions = []\n",
    "  seen_questions = {}\n",
    "  for col in dataset:\n",
    "    if col['question'] not in seen_questions:\n",
    "      seen_questions[question] = True\n",
    "    else:\n",
    "      dataset.drop(axis=0,inplace=True)  \n",
    "  return dataset"
   ]
  },
  {
   "cell_type": "code",
   "execution_count": 6,
   "metadata": {},
   "outputs": [],
   "source": [
    "# Clean text using regular expression\n",
    "def cleanText(text):\n",
    "  import re\n",
    "  text = re.sub(r'@|#\\w+', '', text) # Remove hashtags or mentions\n",
    "  text = re.sub(r'http[s]?://(?:[a-zA-Z]|[0-9]|[$-_@.&+]|[!*\\\\(\\\\),]|(?:%[0-9a-fA-F][0-9a-fA-F]))+', '', text) # Substitute all URLs in the text with an empty string\n",
    "  text = re.sub(r'(\\?|!)+', '', text) # Remove question mark? And another one with an exclamation mark!\n",
    "  text = re.sub(r'\\d+', '', text) # Remove Numbers\n",
    "  text = re.sub(r'[^\\w\\s]', '', text) # Remove punctuation\n",
    "  text = re.sub(r'^\\s+', '', text) # Remove leading spaces\n",
    "  text = re.sub(r'\\s+$', '', text) # Remove trailing spaces\n",
    "  return text"
   ]
  },
  {
   "cell_type": "code",
   "execution_count": 7,
   "metadata": {},
   "outputs": [
    {
     "name": "stderr",
     "output_type": "stream",
     "text": [
      "[nltk_data] Downloading package stopwords to\n",
      "[nltk_data]     C:\\Users\\OMAR\\AppData\\Roaming\\nltk_data...\n",
      "[nltk_data]   Package stopwords is already up-to-date!\n"
     ]
    }
   ],
   "source": [
    "# Stop Words\n",
    "from nltk.corpus import stopwords\n",
    "nltk.download('stopwords')\n",
    "arabic_stopwords = stopwords.words('arabic')\n",
    "\n",
    "def remove_stop_words(text):\n",
    "  return ' '.join([word for word in text.split() if word not in arabic_stopwords])\n"
   ]
  },
  {
   "cell_type": "code",
   "execution_count": 8,
   "metadata": {},
   "outputs": [],
   "source": [
    "# Normalizes Arabic letters in a text by replacing different forms of the latter (أ, آ, إ) to (ا) for example\n",
    "import pyarabic.araby as araby\n",
    "def normalize_arabic_letters(text):\n",
    "    text = araby.strip_tashkeel(text)\n",
    "    text = araby.strip_diacritics(text)\n",
    "    text = araby.strip_shadda(text)\n",
    "    text = araby.normalize_hamza(text,method=\"tasheel\")\n",
    "    return text"
   ]
  },
  {
   "cell_type": "code",
   "execution_count": 9,
   "metadata": {},
   "outputs": [],
   "source": [
    "from nltk import word_tokenize\n",
    "def count_arabic_words(data):\n",
    "  df = pd.DataFrame({})\n",
    "  def count_words(text):\n",
    "    words = word_tokenize(text)  # Tokenize\n",
    "    return len(words) \n",
    "   \n",
    "  df['question'] = data['question']\n",
    "  df['answer'] = data['answer']\n",
    "  df['question_counter'] = data['question'].apply(count_words)\n",
    "  df['answer_counter']   = data['answer'].apply(count_words)\n",
    "  df['label']   = data['label']\n",
    "  return df"
   ]
  },
  {
   "cell_type": "code",
   "execution_count": 94,
   "metadata": {},
   "outputs": [],
   "source": [
    "# Generate Vocabularies List\n",
    "from pyarabic.araby import tokenize\n",
    "def generateVocabulary(data):\n",
    "    words = tokenize(data)\n",
    "    return words     \n"
   ]
  },
  {
   "cell_type": "markdown",
   "metadata": {},
   "source": [
    "# Model"
   ]
  },
  {
   "cell_type": "markdown",
   "metadata": {},
   "source": [
    "## Load & Describe Data"
   ]
  },
  {
   "cell_type": "code",
   "execution_count": 100,
   "metadata": {},
   "outputs": [],
   "source": [
    "train_data = load_data('train.csv')\n",
    "test_data  = load_data('val.csv')"
   ]
  },
  {
   "cell_type": "markdown",
   "metadata": {},
   "source": [
    "## PreProcessing DataSet"
   ]
  },
  {
   "cell_type": "code",
   "execution_count": 101,
   "metadata": {},
   "outputs": [],
   "source": [
    "# 1.Drop Null Data From Train and Test Data   \n",
    "train , test = drop_null(train_data, test_data)"
   ]
  },
  {
   "cell_type": "code",
   "execution_count": 102,
   "metadata": {},
   "outputs": [],
   "source": [
    "# 2. Filtering Non-Arabic Content: Remove any irrelevant content that is not in Arabic\n",
    "train.loc[:, 'question']  = train['question'].apply(filter_arabic)\n",
    "train.loc[:, 'answer'  ]  = train['answer'].apply(filter_arabic)\n",
    "test.loc[: , 'question']  = test['question'].apply(filter_arabic)\n",
    "test.loc[: , 'answer'  ]  = test['answer'].apply(filter_arabic)"
   ]
  },
  {
   "cell_type": "code",
   "execution_count": 103,
   "metadata": {},
   "outputs": [],
   "source": [
    "# 3. Remove duplicated questions  from dataset \n",
    "train_unique_data = train.drop_duplicates(subset=['question'])\n",
    "test_unique_data  = test.drop_duplicates(subset=['question'])\n"
   ]
  },
  {
   "cell_type": "code",
   "execution_count": 104,
   "metadata": {},
   "outputs": [],
   "source": [
    "# 4 Clean Text from sprecail cahr and so on\n",
    "train_unique_data.loc[:, 'question'] = train_unique_data['question'].apply(cleanText)\n",
    "train_unique_data.loc[:, 'answer'  ] = train_unique_data['answer'].apply(cleanText)\n",
    "test_unique_data.loc[: , 'question'] = test_unique_data['question'].apply(cleanText)\n",
    "test_unique_data.loc[: , 'answer'  ] = test_unique_data['answer'].apply(cleanText)"
   ]
  },
  {
   "cell_type": "code",
   "execution_count": 105,
   "metadata": {},
   "outputs": [],
   "source": [
    "# 6 Normalize arabic letters\n",
    "train_unique_data.loc[:, 'question'] = train_unique_data['question'].apply(normalize_arabic_letters)\n",
    "train_unique_data.loc[:, 'answer'  ] = train_unique_data['answer'].apply(normalize_arabic_letters)\n",
    "test_unique_data.loc[: , 'question'] = test_unique_data['question'].apply(normalize_arabic_letters)\n",
    "test_unique_data.loc[: , 'answer'  ] = test_unique_data['answer'].apply(normalize_arabic_letters)"
   ]
  },
  {
   "cell_type": "markdown",
   "metadata": {},
   "source": [
    "## Building Model"
   ]
  },
  {
   "cell_type": "code",
   "execution_count": 106,
   "metadata": {},
   "outputs": [
    {
     "data": {
      "text/html": [
       "<div>\n",
       "<style scoped>\n",
       "    .dataframe tbody tr th:only-of-type {\n",
       "        vertical-align: middle;\n",
       "    }\n",
       "\n",
       "    .dataframe tbody tr th {\n",
       "        vertical-align: top;\n",
       "    }\n",
       "\n",
       "    .dataframe thead th {\n",
       "        text-align: right;\n",
       "    }\n",
       "</style>\n",
       "<table border=\"1\" class=\"dataframe\">\n",
       "  <thead>\n",
       "    <tr style=\"text-align: right;\">\n",
       "      <th></th>\n",
       "      <th>question</th>\n",
       "      <th>answer</th>\n",
       "      <th>label</th>\n",
       "    </tr>\n",
       "  </thead>\n",
       "  <tbody>\n",
       "    <tr>\n",
       "      <th>0</th>\n",
       "      <td>ما هي مميزات و عيوب الدواء جلوكوفانس و ايضا ال...</td>\n",
       "      <td>لكل علاج ايجابيته وسلبياته والتي تعتمد على حال...</td>\n",
       "      <td>الدم</td>\n",
       "    </tr>\n",
       "    <tr>\n",
       "      <th>1</th>\n",
       "      <td>اليك نتيجة تحليل هرمونات الغدة الدرقية علما با...</td>\n",
       "      <td>نعم يجب تخفيض الجرعة الا اذا كان سبب استيصال ا...</td>\n",
       "      <td>الاورام-الخبيثة-والحميدة</td>\n",
       "    </tr>\n",
       "    <tr>\n",
       "      <th>2</th>\n",
       "      <td>حلول منزلية لاعراض ارتفاع ضغط الدم</td>\n",
       "      <td>يفضل عدم الاستغناء عن العلاج الدوايي لمرضى الض...</td>\n",
       "      <td>جراحة-عامة</td>\n",
       "    </tr>\n",
       "    <tr>\n",
       "      <th>3</th>\n",
       "      <td>عملت عملية دوالي الساقين قسطرة الليزر من شهر و...</td>\n",
       "      <td>راجع طبيبك من اجري الجراحه افضل من يجيب لانه ش...</td>\n",
       "      <td>أمراض-الجهاز-التنفسي</td>\n",
       "    </tr>\n",
       "    <tr>\n",
       "      <th>4</th>\n",
       "      <td>ما حقيقة ان تمرين العضلة النعلية يخفض السكر بالدم</td>\n",
       "      <td>اذا قصدت تدليك العضلة فهذا كلام غير صحيح ولكن ...</td>\n",
       "      <td>مرض-السكري</td>\n",
       "    </tr>\n",
       "  </tbody>\n",
       "</table>\n",
       "</div>"
      ],
      "text/plain": [
       "                                            question  \\\n",
       "0  ما هي مميزات و عيوب الدواء جلوكوفانس و ايضا ال...   \n",
       "1  اليك نتيجة تحليل هرمونات الغدة الدرقية علما با...   \n",
       "2                 حلول منزلية لاعراض ارتفاع ضغط الدم   \n",
       "3  عملت عملية دوالي الساقين قسطرة الليزر من شهر و...   \n",
       "4  ما حقيقة ان تمرين العضلة النعلية يخفض السكر بالدم   \n",
       "\n",
       "                                              answer                     label  \n",
       "0  لكل علاج ايجابيته وسلبياته والتي تعتمد على حال...                      الدم  \n",
       "1  نعم يجب تخفيض الجرعة الا اذا كان سبب استيصال ا...  الاورام-الخبيثة-والحميدة  \n",
       "2  يفضل عدم الاستغناء عن العلاج الدوايي لمرضى الض...                جراحة-عامة  \n",
       "3  راجع طبيبك من اجري الجراحه افضل من يجيب لانه ش...      أمراض-الجهاز-التنفسي  \n",
       "4  اذا قصدت تدليك العضلة فهذا كلام غير صحيح ولكن ...                مرض-السكري  "
      ]
     },
     "execution_count": 106,
     "metadata": {},
     "output_type": "execute_result"
    }
   ],
   "source": [
    "train_unique_data.head()"
   ]
  },
  {
   "cell_type": "code",
   "execution_count": 107,
   "metadata": {},
   "outputs": [
    {
     "name": "stderr",
     "output_type": "stream",
     "text": [
      "C:\\Users\\OMAR\\AppData\\Local\\Temp\\ipykernel_9996\\329683929.py:1: SettingWithCopyWarning: \n",
      "A value is trying to be set on a copy of a slice from a DataFrame.\n",
      "Try using .loc[row_indexer,col_indexer] = value instead\n",
      "\n",
      "See the caveats in the documentation: https://pandas.pydata.org/pandas-docs/stable/user_guide/indexing.html#returning-a-view-versus-a-copy\n",
      "  train_unique_data.loc[:,'arabic_tokens'] = train_unique_data['answer'].apply(generateVocabulary)\n"
     ]
    }
   ],
   "source": [
    "train_unique_data.loc[:,'arabic_tokens'] = train_unique_data['answer'].apply(generateVocabulary)\n"
   ]
  },
  {
   "cell_type": "code",
   "execution_count": 121,
   "metadata": {},
   "outputs": [
    {
     "data": {
      "text/html": [
       "<div>\n",
       "<style scoped>\n",
       "    .dataframe tbody tr th:only-of-type {\n",
       "        vertical-align: middle;\n",
       "    }\n",
       "\n",
       "    .dataframe tbody tr th {\n",
       "        vertical-align: top;\n",
       "    }\n",
       "\n",
       "    .dataframe thead th {\n",
       "        text-align: right;\n",
       "    }\n",
       "</style>\n",
       "<table border=\"1\" class=\"dataframe\">\n",
       "  <thead>\n",
       "    <tr style=\"text-align: right;\">\n",
       "      <th></th>\n",
       "      <th>question</th>\n",
       "      <th>answer</th>\n",
       "      <th>label</th>\n",
       "      <th>arabic_tokens</th>\n",
       "    </tr>\n",
       "  </thead>\n",
       "  <tbody>\n",
       "    <tr>\n",
       "      <th>52725</th>\n",
       "      <td>ماهو علاج مرض ذيل الثدي</td>\n",
       "      <td>ذيل الثدي ليس مرض وهو جزء من الثدي نفسه ولا يح...</td>\n",
       "      <td>الاورام-الخبيثة-والحميدة</td>\n",
       "      <td>[ذيل, الثدي, ليس, مرض, وهو, جزء, من, الثدي, نف...</td>\n",
       "    </tr>\n",
       "    <tr>\n",
       "      <th>52728</th>\n",
       "      <td>السلام عليكم اعانى من ولرم ليفى فى ثدي اريد مع...</td>\n",
       "      <td>الورم الليفي في الثدي حميد ولا داعي لاستيصاله ...</td>\n",
       "      <td>الاورام-الخبيثة-والحميدة</td>\n",
       "      <td>[الورم, الليفي, في, الثدي, حميد, ولا, داعي, لا...</td>\n",
       "    </tr>\n",
       "    <tr>\n",
       "      <th>52729</th>\n",
       "      <td>انا كان عندي زي نقطه سودا ناحيه صدري ف هرشتها ...</td>\n",
       "      <td>يجب الفحص من قبل طبيب جراح للوصول لتشخيص واستب...</td>\n",
       "      <td>جراحة-عامة</td>\n",
       "      <td>[يجب, الفحص, من, قبل, طبيب, جراح, للوصول, لتشخ...</td>\n",
       "    </tr>\n",
       "    <tr>\n",
       "      <th>52730</th>\n",
       "      <td>عمتي كبيره ف السن تعاني من عدم النوم وتوهم حاج...</td>\n",
       "      <td>ننصحك بمراجعة طبيب امراض نفسية ضخامة الغدة تحت...</td>\n",
       "      <td>امراض-الغدد-الصماء</td>\n",
       "      <td>[ننصحك, بمراجعة, طبيب, امراض, نفسية, ضخامة, ال...</td>\n",
       "    </tr>\n",
       "    <tr>\n",
       "      <th>52731</th>\n",
       "      <td>انا بعاني من النحافة الزايدة وقبل سنتين صار مع...</td>\n",
       "      <td>السلام عليكم اذا عندك فرط في نشاط العده تحتاج ...</td>\n",
       "      <td>امراض-الغدد-الصماء</td>\n",
       "      <td>[السلام, عليكم, اذا, عندك, فرط, في, نشاط, العد...</td>\n",
       "    </tr>\n",
       "    <tr>\n",
       "      <th>52732</th>\n",
       "      <td>لدي صعوبة التنفس واعطس كثيرا و كثيرا ما اصاب ب...</td>\n",
       "      <td>لا دواء قبل مراجعة اخصايي الامراض الصدرية والح...</td>\n",
       "      <td>امراض-الجهاز-التنفسي</td>\n",
       "      <td>[لا, دواء, قبل, مراجعة, اخصايي, الامراض, الصدر...</td>\n",
       "    </tr>\n",
       "    <tr>\n",
       "      <th>52735</th>\n",
       "      <td>اعاني من الام في الجانب الايسر في منطقة الثدي ...</td>\n",
       "      <td>الالم الذي تصف به هو الم عضلي يزول بمضادات الا...</td>\n",
       "      <td>امراض-الجهاز-التنفسي</td>\n",
       "      <td>[الالم, الذي, تصف, به, هو, الم, عضلي, يزول, بم...</td>\n",
       "    </tr>\n",
       "    <tr>\n",
       "      <th>52736</th>\n",
       "      <td>الناسور بتشاف بالعين</td>\n",
       "      <td>في بعض الاحيان يكون سهل رويته ولكن ليس دايما ا...</td>\n",
       "      <td>جراحة-عامة</td>\n",
       "      <td>[في, بعض, الاحيان, يكون, سهل, رويته, ولكن, ليس...</td>\n",
       "    </tr>\n",
       "    <tr>\n",
       "      <th>52737</th>\n",
       "      <td>كان عندي سكر حمل ولدت واختفى السكر حللت صايم ب...</td>\n",
       "      <td>عادة يختفي مرض السكر بعد الولادة لفترة تعتمد ع...</td>\n",
       "      <td>امراض-الغدد-الصماء</td>\n",
       "      <td>[عادة, يختفي, مرض, السكر, بعد, الولادة, لفترة,...</td>\n",
       "    </tr>\n",
       "    <tr>\n",
       "      <th>52738</th>\n",
       "      <td>هل هناك علاقه او سيستفاد منها الطبيب المعالج ل...</td>\n",
       "      <td>نعم يوجد هناك علاقة وسوف تفيد في التوجه نحو خط...</td>\n",
       "      <td>ارتفاع-ضغط-الدم</td>\n",
       "      <td>[نعم, يوجد, هناك, علاقة, وسوف, تفيد, في, التوج...</td>\n",
       "    </tr>\n",
       "    <tr>\n",
       "      <th>52739</th>\n",
       "      <td>اخي منذ ثلاث سنوات يعاني من ظهور كتلة مدورة با...</td>\n",
       "      <td>هذا ورم كيسي ليس خطرا ولا ضرورة لاستيصاله للمت...</td>\n",
       "      <td>الاورام-الخبيثة-والحميدة</td>\n",
       "      <td>[هذا, ورم, كيسي, ليس, خطرا, ولا, ضرورة, لاستيص...</td>\n",
       "    </tr>\n",
       "    <tr>\n",
       "      <th>52741</th>\n",
       "      <td>اصبت في الكتف الايمن بخلع وتهتك بالاربطةوالعضل...</td>\n",
       "      <td>حالتك تستدعي الفحص السريري واجراء صور الرنين ا...</td>\n",
       "      <td>جراحة-العظام</td>\n",
       "      <td>[حالتك, تستدعي, الفحص, السريري, واجراء, صور, ا...</td>\n",
       "    </tr>\n",
       "    <tr>\n",
       "      <th>52743</th>\n",
       "      <td>وجدت زايدة جلدية بعد  ايام من ازالة البواسير ب...</td>\n",
       "      <td>الزوايد الجلدية تحصل بعد عملية البواسير وهي عب...</td>\n",
       "      <td>جراحة-عامة</td>\n",
       "      <td>[الزوايد, الجلدية, تحصل, بعد, عملية, البواسير,...</td>\n",
       "    </tr>\n",
       "    <tr>\n",
       "      <th>52744</th>\n",
       "      <td>مخزون الحديد جدا ضعيف نسبته ابغى حبوب يرفع نسب...</td>\n",
       "      <td>يجب مراجعة طبيب باطنية ليعرف اولا سبب هذا النق...</td>\n",
       "      <td>امراض-الدم</td>\n",
       "      <td>[يجب, مراجعة, طبيب, باطنية, ليعرف, اولا, سبب, ...</td>\n",
       "    </tr>\n",
       "    <tr>\n",
       "      <th>52746</th>\n",
       "      <td>عند اخي عظم زايد يضغط على عصب اليد جعل الرقبة ...</td>\n",
       "      <td>النتوءات العظمية بالانجليزية هي بروز في العظم ...</td>\n",
       "      <td>جراحة-العظام</td>\n",
       "      <td>[النتوءات, العظمية, بالانجليزية, هي, بروز, في,...</td>\n",
       "    </tr>\n",
       "    <tr>\n",
       "      <th>52748</th>\n",
       "      <td>السلام عليكم انا عمري  سنه عملت تحاليل طلع نسب...</td>\n",
       "      <td>لاعلاقة لنقص الفيتامين او بالتوتر ولكن يجب الم...</td>\n",
       "      <td>امراض-الغدد-الصماء</td>\n",
       "      <td>[لاعلاقة, لنقص, الفيتامين, او, بالتوتر, ولكن, ...</td>\n",
       "    </tr>\n",
       "    <tr>\n",
       "      <th>52750</th>\n",
       "      <td>دكتور انا برضع طبيعي وحسيت ان فى صدرى الايمن ك...</td>\n",
       "      <td>في الغالب تكون هذه غدة حليبية اذا كان الالم خف...</td>\n",
       "      <td>الاورام-الخبيثة-والحميدة</td>\n",
       "      <td>[في, الغالب, تكون, هذه, غدة, حليبية, اذا, كان,...</td>\n",
       "    </tr>\n",
       "    <tr>\n",
       "      <th>52754</th>\n",
       "      <td>هل يمكن ان يرتفع السكر الى دون اعراض مع العلم ...</td>\n",
       "      <td>ليس بالضرورة وجود اعراض ويجب المتابعة عن طريق ...</td>\n",
       "      <td>مرض-السكري</td>\n",
       "      <td>[ليس, بالضرورة, وجود, اعراض, ويجب, المتابعة, ع...</td>\n",
       "    </tr>\n",
       "    <tr>\n",
       "      <th>52755</th>\n",
       "      <td>هل يمكن علاج سرطان الثدى المرحله الثانيه فى اح...</td>\n",
       "      <td>طبعا هناك بروتوكول يجب اتباعه ولكنه بالنهاية ل...</td>\n",
       "      <td>الاورام-الخبيثة-والحميدة</td>\n",
       "      <td>[طبعا, هناك, بروتوكول, يجب, اتباعه, ولكنه, بال...</td>\n",
       "    </tr>\n",
       "    <tr>\n",
       "      <th>52757</th>\n",
       "      <td>تم تركيب شريحه و مساميرفي العضد التيم الكسر  ب...</td>\n",
       "      <td>هذا يعتمد على الوزن اذا كان الوزن كبيرا وهناك ...</td>\n",
       "      <td>جراحة-العظام</td>\n",
       "      <td>[هذا, يعتمد, على, الوزن, اذا, كان, الوزن, كبير...</td>\n",
       "    </tr>\n",
       "  </tbody>\n",
       "</table>\n",
       "</div>"
      ],
      "text/plain": [
       "                                                question  \\\n",
       "52725                            ماهو علاج مرض ذيل الثدي   \n",
       "52728  السلام عليكم اعانى من ولرم ليفى فى ثدي اريد مع...   \n",
       "52729  انا كان عندي زي نقطه سودا ناحيه صدري ف هرشتها ...   \n",
       "52730  عمتي كبيره ف السن تعاني من عدم النوم وتوهم حاج...   \n",
       "52731  انا بعاني من النحافة الزايدة وقبل سنتين صار مع...   \n",
       "52732  لدي صعوبة التنفس واعطس كثيرا و كثيرا ما اصاب ب...   \n",
       "52735  اعاني من الام في الجانب الايسر في منطقة الثدي ...   \n",
       "52736                               الناسور بتشاف بالعين   \n",
       "52737  كان عندي سكر حمل ولدت واختفى السكر حللت صايم ب...   \n",
       "52738  هل هناك علاقه او سيستفاد منها الطبيب المعالج ل...   \n",
       "52739  اخي منذ ثلاث سنوات يعاني من ظهور كتلة مدورة با...   \n",
       "52741  اصبت في الكتف الايمن بخلع وتهتك بالاربطةوالعضل...   \n",
       "52743  وجدت زايدة جلدية بعد  ايام من ازالة البواسير ب...   \n",
       "52744  مخزون الحديد جدا ضعيف نسبته ابغى حبوب يرفع نسب...   \n",
       "52746  عند اخي عظم زايد يضغط على عصب اليد جعل الرقبة ...   \n",
       "52748  السلام عليكم انا عمري  سنه عملت تحاليل طلع نسب...   \n",
       "52750  دكتور انا برضع طبيعي وحسيت ان فى صدرى الايمن ك...   \n",
       "52754  هل يمكن ان يرتفع السكر الى دون اعراض مع العلم ...   \n",
       "52755  هل يمكن علاج سرطان الثدى المرحله الثانيه فى اح...   \n",
       "52757  تم تركيب شريحه و مساميرفي العضد التيم الكسر  ب...   \n",
       "\n",
       "                                                  answer  \\\n",
       "52725  ذيل الثدي ليس مرض وهو جزء من الثدي نفسه ولا يح...   \n",
       "52728  الورم الليفي في الثدي حميد ولا داعي لاستيصاله ...   \n",
       "52729  يجب الفحص من قبل طبيب جراح للوصول لتشخيص واستب...   \n",
       "52730  ننصحك بمراجعة طبيب امراض نفسية ضخامة الغدة تحت...   \n",
       "52731  السلام عليكم اذا عندك فرط في نشاط العده تحتاج ...   \n",
       "52732  لا دواء قبل مراجعة اخصايي الامراض الصدرية والح...   \n",
       "52735  الالم الذي تصف به هو الم عضلي يزول بمضادات الا...   \n",
       "52736  في بعض الاحيان يكون سهل رويته ولكن ليس دايما ا...   \n",
       "52737  عادة يختفي مرض السكر بعد الولادة لفترة تعتمد ع...   \n",
       "52738  نعم يوجد هناك علاقة وسوف تفيد في التوجه نحو خط...   \n",
       "52739  هذا ورم كيسي ليس خطرا ولا ضرورة لاستيصاله للمت...   \n",
       "52741  حالتك تستدعي الفحص السريري واجراء صور الرنين ا...   \n",
       "52743  الزوايد الجلدية تحصل بعد عملية البواسير وهي عب...   \n",
       "52744  يجب مراجعة طبيب باطنية ليعرف اولا سبب هذا النق...   \n",
       "52746  النتوءات العظمية بالانجليزية هي بروز في العظم ...   \n",
       "52748  لاعلاقة لنقص الفيتامين او بالتوتر ولكن يجب الم...   \n",
       "52750  في الغالب تكون هذه غدة حليبية اذا كان الالم خف...   \n",
       "52754  ليس بالضرورة وجود اعراض ويجب المتابعة عن طريق ...   \n",
       "52755  طبعا هناك بروتوكول يجب اتباعه ولكنه بالنهاية ل...   \n",
       "52757  هذا يعتمد على الوزن اذا كان الوزن كبيرا وهناك ...   \n",
       "\n",
       "                          label  \\\n",
       "52725  الاورام-الخبيثة-والحميدة   \n",
       "52728  الاورام-الخبيثة-والحميدة   \n",
       "52729                جراحة-عامة   \n",
       "52730        امراض-الغدد-الصماء   \n",
       "52731        امراض-الغدد-الصماء   \n",
       "52732      امراض-الجهاز-التنفسي   \n",
       "52735      امراض-الجهاز-التنفسي   \n",
       "52736                جراحة-عامة   \n",
       "52737        امراض-الغدد-الصماء   \n",
       "52738           ارتفاع-ضغط-الدم   \n",
       "52739  الاورام-الخبيثة-والحميدة   \n",
       "52741              جراحة-العظام   \n",
       "52743                جراحة-عامة   \n",
       "52744                امراض-الدم   \n",
       "52746              جراحة-العظام   \n",
       "52748        امراض-الغدد-الصماء   \n",
       "52750  الاورام-الخبيثة-والحميدة   \n",
       "52754                مرض-السكري   \n",
       "52755  الاورام-الخبيثة-والحميدة   \n",
       "52757              جراحة-العظام   \n",
       "\n",
       "                                           arabic_tokens  \n",
       "52725  [ذيل, الثدي, ليس, مرض, وهو, جزء, من, الثدي, نف...  \n",
       "52728  [الورم, الليفي, في, الثدي, حميد, ولا, داعي, لا...  \n",
       "52729  [يجب, الفحص, من, قبل, طبيب, جراح, للوصول, لتشخ...  \n",
       "52730  [ننصحك, بمراجعة, طبيب, امراض, نفسية, ضخامة, ال...  \n",
       "52731  [السلام, عليكم, اذا, عندك, فرط, في, نشاط, العد...  \n",
       "52732  [لا, دواء, قبل, مراجعة, اخصايي, الامراض, الصدر...  \n",
       "52735  [الالم, الذي, تصف, به, هو, الم, عضلي, يزول, بم...  \n",
       "52736  [في, بعض, الاحيان, يكون, سهل, رويته, ولكن, ليس...  \n",
       "52737  [عادة, يختفي, مرض, السكر, بعد, الولادة, لفترة,...  \n",
       "52738  [نعم, يوجد, هناك, علاقة, وسوف, تفيد, في, التوج...  \n",
       "52739  [هذا, ورم, كيسي, ليس, خطرا, ولا, ضرورة, لاستيص...  \n",
       "52741  [حالتك, تستدعي, الفحص, السريري, واجراء, صور, ا...  \n",
       "52743  [الزوايد, الجلدية, تحصل, بعد, عملية, البواسير,...  \n",
       "52744  [يجب, مراجعة, طبيب, باطنية, ليعرف, اولا, سبب, ...  \n",
       "52746  [النتوءات, العظمية, بالانجليزية, هي, بروز, في,...  \n",
       "52748  [لاعلاقة, لنقص, الفيتامين, او, بالتوتر, ولكن, ...  \n",
       "52750  [في, الغالب, تكون, هذه, غدة, حليبية, اذا, كان,...  \n",
       "52754  [ليس, بالضرورة, وجود, اعراض, ويجب, المتابعة, ع...  \n",
       "52755  [طبعا, هناك, بروتوكول, يجب, اتباعه, ولكنه, بال...  \n",
       "52757  [هذا, يعتمد, على, الوزن, اذا, كان, الوزن, كبير...  "
      ]
     },
     "execution_count": 121,
     "metadata": {},
     "output_type": "execute_result"
    }
   ],
   "source": [
    "train_unique_data.tail(20)"
   ]
  },
  {
   "cell_type": "code",
   "execution_count": 119,
   "metadata": {},
   "outputs": [
    {
     "name": "stderr",
     "output_type": "stream",
     "text": [
      "[nltk_data] Error loading wordpunct_tokenizer: Package\n",
      "[nltk_data]     'wordpunct_tokenizer' not found in index\n"
     ]
    },
    {
     "ename": "AttributeError",
     "evalue": "module 'nltk' has no attribute 'wordpunct_tokenizer'",
     "output_type": "error",
     "traceback": [
      "\u001b[1;31m---------------------------------------------------------------------------\u001b[0m",
      "\u001b[1;31mAttributeError\u001b[0m                            Traceback (most recent call last)",
      "Cell \u001b[1;32mIn[119], line 6\u001b[0m\n\u001b[0;32m      4\u001b[0m nltk\u001b[38;5;241m.\u001b[39mdownload(\u001b[38;5;124m'\u001b[39m\u001b[38;5;124mwordpunct_tokenizer\u001b[39m\u001b[38;5;124m'\u001b[39m)\n\u001b[0;32m      5\u001b[0m series \u001b[38;5;241m=\u001b[39m vocs\u001b[38;5;241m.\u001b[39mstr\u001b[38;5;241m.\u001b[39mlower()\n\u001b[1;32m----> 6\u001b[0m tokens \u001b[38;5;241m=\u001b[39m \u001b[43mseries\u001b[49m\u001b[38;5;241;43m.\u001b[39;49m\u001b[43mapply\u001b[49m\u001b[43m(\u001b[49m\u001b[38;5;28;43;01mlambda\u001b[39;49;00m\u001b[43m \u001b[49m\u001b[43mx\u001b[49m\u001b[43m:\u001b[49m\u001b[43m \u001b[49m\u001b[43mnltk\u001b[49m\u001b[38;5;241;43m.\u001b[39;49m\u001b[43mwordpunct_tokenizer\u001b[49m\u001b[38;5;241;43m.\u001b[39;49m\u001b[43mtokenize\u001b[49m\u001b[43m(\u001b[49m\u001b[43mx\u001b[49m\u001b[43m)\u001b[49m\u001b[43m)\u001b[49m\n",
      "File \u001b[1;32mc:\\Users\\OMAR\\AppData\\Local\\Programs\\Python\\Python312\\Lib\\site-packages\\pandas\\core\\series.py:4915\u001b[0m, in \u001b[0;36mSeries.apply\u001b[1;34m(self, func, convert_dtype, args, by_row, **kwargs)\u001b[0m\n\u001b[0;32m   4780\u001b[0m \u001b[38;5;28;01mdef\u001b[39;00m \u001b[38;5;21mapply\u001b[39m(\n\u001b[0;32m   4781\u001b[0m     \u001b[38;5;28mself\u001b[39m,\n\u001b[0;32m   4782\u001b[0m     func: AggFuncType,\n\u001b[1;32m   (...)\u001b[0m\n\u001b[0;32m   4787\u001b[0m     \u001b[38;5;241m*\u001b[39m\u001b[38;5;241m*\u001b[39mkwargs,\n\u001b[0;32m   4788\u001b[0m ) \u001b[38;5;241m-\u001b[39m\u001b[38;5;241m>\u001b[39m DataFrame \u001b[38;5;241m|\u001b[39m Series:\n\u001b[0;32m   4789\u001b[0m \u001b[38;5;250m    \u001b[39m\u001b[38;5;124;03m\"\"\"\u001b[39;00m\n\u001b[0;32m   4790\u001b[0m \u001b[38;5;124;03m    Invoke function on values of Series.\u001b[39;00m\n\u001b[0;32m   4791\u001b[0m \n\u001b[1;32m   (...)\u001b[0m\n\u001b[0;32m   4906\u001b[0m \u001b[38;5;124;03m    dtype: float64\u001b[39;00m\n\u001b[0;32m   4907\u001b[0m \u001b[38;5;124;03m    \"\"\"\u001b[39;00m\n\u001b[0;32m   4908\u001b[0m     \u001b[38;5;28;01mreturn\u001b[39;00m \u001b[43mSeriesApply\u001b[49m\u001b[43m(\u001b[49m\n\u001b[0;32m   4909\u001b[0m \u001b[43m        \u001b[49m\u001b[38;5;28;43mself\u001b[39;49m\u001b[43m,\u001b[49m\n\u001b[0;32m   4910\u001b[0m \u001b[43m        \u001b[49m\u001b[43mfunc\u001b[49m\u001b[43m,\u001b[49m\n\u001b[0;32m   4911\u001b[0m \u001b[43m        \u001b[49m\u001b[43mconvert_dtype\u001b[49m\u001b[38;5;241;43m=\u001b[39;49m\u001b[43mconvert_dtype\u001b[49m\u001b[43m,\u001b[49m\n\u001b[0;32m   4912\u001b[0m \u001b[43m        \u001b[49m\u001b[43mby_row\u001b[49m\u001b[38;5;241;43m=\u001b[39;49m\u001b[43mby_row\u001b[49m\u001b[43m,\u001b[49m\n\u001b[0;32m   4913\u001b[0m \u001b[43m        \u001b[49m\u001b[43margs\u001b[49m\u001b[38;5;241;43m=\u001b[39;49m\u001b[43margs\u001b[49m\u001b[43m,\u001b[49m\n\u001b[0;32m   4914\u001b[0m \u001b[43m        \u001b[49m\u001b[43mkwargs\u001b[49m\u001b[38;5;241;43m=\u001b[39;49m\u001b[43mkwargs\u001b[49m\u001b[43m,\u001b[49m\n\u001b[1;32m-> 4915\u001b[0m \u001b[43m    \u001b[49m\u001b[43m)\u001b[49m\u001b[38;5;241;43m.\u001b[39;49m\u001b[43mapply\u001b[49m\u001b[43m(\u001b[49m\u001b[43m)\u001b[49m\n",
      "File \u001b[1;32mc:\\Users\\OMAR\\AppData\\Local\\Programs\\Python\\Python312\\Lib\\site-packages\\pandas\\core\\apply.py:1427\u001b[0m, in \u001b[0;36mSeriesApply.apply\u001b[1;34m(self)\u001b[0m\n\u001b[0;32m   1424\u001b[0m     \u001b[38;5;28;01mreturn\u001b[39;00m \u001b[38;5;28mself\u001b[39m\u001b[38;5;241m.\u001b[39mapply_compat()\n\u001b[0;32m   1426\u001b[0m \u001b[38;5;66;03m# self.func is Callable\u001b[39;00m\n\u001b[1;32m-> 1427\u001b[0m \u001b[38;5;28;01mreturn\u001b[39;00m \u001b[38;5;28;43mself\u001b[39;49m\u001b[38;5;241;43m.\u001b[39;49m\u001b[43mapply_standard\u001b[49m\u001b[43m(\u001b[49m\u001b[43m)\u001b[49m\n",
      "File \u001b[1;32mc:\\Users\\OMAR\\AppData\\Local\\Programs\\Python\\Python312\\Lib\\site-packages\\pandas\\core\\apply.py:1507\u001b[0m, in \u001b[0;36mSeriesApply.apply_standard\u001b[1;34m(self)\u001b[0m\n\u001b[0;32m   1501\u001b[0m \u001b[38;5;66;03m# row-wise access\u001b[39;00m\n\u001b[0;32m   1502\u001b[0m \u001b[38;5;66;03m# apply doesn't have a `na_action` keyword and for backward compat reasons\u001b[39;00m\n\u001b[0;32m   1503\u001b[0m \u001b[38;5;66;03m# we need to give `na_action=\"ignore\"` for categorical data.\u001b[39;00m\n\u001b[0;32m   1504\u001b[0m \u001b[38;5;66;03m# TODO: remove the `na_action=\"ignore\"` when that default has been changed in\u001b[39;00m\n\u001b[0;32m   1505\u001b[0m \u001b[38;5;66;03m#  Categorical (GH51645).\u001b[39;00m\n\u001b[0;32m   1506\u001b[0m action \u001b[38;5;241m=\u001b[39m \u001b[38;5;124m\"\u001b[39m\u001b[38;5;124mignore\u001b[39m\u001b[38;5;124m\"\u001b[39m \u001b[38;5;28;01mif\u001b[39;00m \u001b[38;5;28misinstance\u001b[39m(obj\u001b[38;5;241m.\u001b[39mdtype, CategoricalDtype) \u001b[38;5;28;01melse\u001b[39;00m \u001b[38;5;28;01mNone\u001b[39;00m\n\u001b[1;32m-> 1507\u001b[0m mapped \u001b[38;5;241m=\u001b[39m \u001b[43mobj\u001b[49m\u001b[38;5;241;43m.\u001b[39;49m\u001b[43m_map_values\u001b[49m\u001b[43m(\u001b[49m\n\u001b[0;32m   1508\u001b[0m \u001b[43m    \u001b[49m\u001b[43mmapper\u001b[49m\u001b[38;5;241;43m=\u001b[39;49m\u001b[43mcurried\u001b[49m\u001b[43m,\u001b[49m\u001b[43m \u001b[49m\u001b[43mna_action\u001b[49m\u001b[38;5;241;43m=\u001b[39;49m\u001b[43maction\u001b[49m\u001b[43m,\u001b[49m\u001b[43m \u001b[49m\u001b[43mconvert\u001b[49m\u001b[38;5;241;43m=\u001b[39;49m\u001b[38;5;28;43mself\u001b[39;49m\u001b[38;5;241;43m.\u001b[39;49m\u001b[43mconvert_dtype\u001b[49m\n\u001b[0;32m   1509\u001b[0m \u001b[43m\u001b[49m\u001b[43m)\u001b[49m\n\u001b[0;32m   1511\u001b[0m \u001b[38;5;28;01mif\u001b[39;00m \u001b[38;5;28mlen\u001b[39m(mapped) \u001b[38;5;129;01mand\u001b[39;00m \u001b[38;5;28misinstance\u001b[39m(mapped[\u001b[38;5;241m0\u001b[39m], ABCSeries):\n\u001b[0;32m   1512\u001b[0m     \u001b[38;5;66;03m# GH#43986 Need to do list(mapped) in order to get treated as nested\u001b[39;00m\n\u001b[0;32m   1513\u001b[0m     \u001b[38;5;66;03m#  See also GH#25959 regarding EA support\u001b[39;00m\n\u001b[0;32m   1514\u001b[0m     \u001b[38;5;28;01mreturn\u001b[39;00m obj\u001b[38;5;241m.\u001b[39m_constructor_expanddim(\u001b[38;5;28mlist\u001b[39m(mapped), index\u001b[38;5;241m=\u001b[39mobj\u001b[38;5;241m.\u001b[39mindex)\n",
      "File \u001b[1;32mc:\\Users\\OMAR\\AppData\\Local\\Programs\\Python\\Python312\\Lib\\site-packages\\pandas\\core\\base.py:921\u001b[0m, in \u001b[0;36mIndexOpsMixin._map_values\u001b[1;34m(self, mapper, na_action, convert)\u001b[0m\n\u001b[0;32m    918\u001b[0m \u001b[38;5;28;01mif\u001b[39;00m \u001b[38;5;28misinstance\u001b[39m(arr, ExtensionArray):\n\u001b[0;32m    919\u001b[0m     \u001b[38;5;28;01mreturn\u001b[39;00m arr\u001b[38;5;241m.\u001b[39mmap(mapper, na_action\u001b[38;5;241m=\u001b[39mna_action)\n\u001b[1;32m--> 921\u001b[0m \u001b[38;5;28;01mreturn\u001b[39;00m \u001b[43malgorithms\u001b[49m\u001b[38;5;241;43m.\u001b[39;49m\u001b[43mmap_array\u001b[49m\u001b[43m(\u001b[49m\u001b[43marr\u001b[49m\u001b[43m,\u001b[49m\u001b[43m \u001b[49m\u001b[43mmapper\u001b[49m\u001b[43m,\u001b[49m\u001b[43m \u001b[49m\u001b[43mna_action\u001b[49m\u001b[38;5;241;43m=\u001b[39;49m\u001b[43mna_action\u001b[49m\u001b[43m,\u001b[49m\u001b[43m \u001b[49m\u001b[43mconvert\u001b[49m\u001b[38;5;241;43m=\u001b[39;49m\u001b[43mconvert\u001b[49m\u001b[43m)\u001b[49m\n",
      "File \u001b[1;32mc:\\Users\\OMAR\\AppData\\Local\\Programs\\Python\\Python312\\Lib\\site-packages\\pandas\\core\\algorithms.py:1743\u001b[0m, in \u001b[0;36mmap_array\u001b[1;34m(arr, mapper, na_action, convert)\u001b[0m\n\u001b[0;32m   1741\u001b[0m values \u001b[38;5;241m=\u001b[39m arr\u001b[38;5;241m.\u001b[39mastype(\u001b[38;5;28mobject\u001b[39m, copy\u001b[38;5;241m=\u001b[39m\u001b[38;5;28;01mFalse\u001b[39;00m)\n\u001b[0;32m   1742\u001b[0m \u001b[38;5;28;01mif\u001b[39;00m na_action \u001b[38;5;129;01mis\u001b[39;00m \u001b[38;5;28;01mNone\u001b[39;00m:\n\u001b[1;32m-> 1743\u001b[0m     \u001b[38;5;28;01mreturn\u001b[39;00m \u001b[43mlib\u001b[49m\u001b[38;5;241;43m.\u001b[39;49m\u001b[43mmap_infer\u001b[49m\u001b[43m(\u001b[49m\u001b[43mvalues\u001b[49m\u001b[43m,\u001b[49m\u001b[43m \u001b[49m\u001b[43mmapper\u001b[49m\u001b[43m,\u001b[49m\u001b[43m \u001b[49m\u001b[43mconvert\u001b[49m\u001b[38;5;241;43m=\u001b[39;49m\u001b[43mconvert\u001b[49m\u001b[43m)\u001b[49m\n\u001b[0;32m   1744\u001b[0m \u001b[38;5;28;01melse\u001b[39;00m:\n\u001b[0;32m   1745\u001b[0m     \u001b[38;5;28;01mreturn\u001b[39;00m lib\u001b[38;5;241m.\u001b[39mmap_infer_mask(\n\u001b[0;32m   1746\u001b[0m         values, mapper, mask\u001b[38;5;241m=\u001b[39misna(values)\u001b[38;5;241m.\u001b[39mview(np\u001b[38;5;241m.\u001b[39muint8), convert\u001b[38;5;241m=\u001b[39mconvert\n\u001b[0;32m   1747\u001b[0m     )\n",
      "File \u001b[1;32mlib.pyx:2972\u001b[0m, in \u001b[0;36mpandas._libs.lib.map_infer\u001b[1;34m()\u001b[0m\n",
      "Cell \u001b[1;32mIn[119], line 6\u001b[0m, in \u001b[0;36m<lambda>\u001b[1;34m(x)\u001b[0m\n\u001b[0;32m      4\u001b[0m nltk\u001b[38;5;241m.\u001b[39mdownload(\u001b[38;5;124m'\u001b[39m\u001b[38;5;124mwordpunct_tokenizer\u001b[39m\u001b[38;5;124m'\u001b[39m)\n\u001b[0;32m      5\u001b[0m series \u001b[38;5;241m=\u001b[39m vocs\u001b[38;5;241m.\u001b[39mstr\u001b[38;5;241m.\u001b[39mlower()\n\u001b[1;32m----> 6\u001b[0m tokens \u001b[38;5;241m=\u001b[39m series\u001b[38;5;241m.\u001b[39mapply(\u001b[38;5;28;01mlambda\u001b[39;00m x: \u001b[43mnltk\u001b[49m\u001b[38;5;241;43m.\u001b[39;49m\u001b[43mwordpunct_tokenizer\u001b[49m\u001b[38;5;241m.\u001b[39mtokenize(x))\n",
      "\u001b[1;31mAttributeError\u001b[0m: module 'nltk' has no attribute 'wordpunct_tokenizer'"
     ]
    }
   ],
   "source": [
    "vocs = train_unique_data['arabic_tokens']\n",
    "from collections import Counter\n",
    "import nltk\n",
    "nltk.download('wordpunct_tokenizer')\n",
    "series = vocs.str.lower()\n",
    "tokens = series.apply(lambda x: nltk.wordpunct_tokenizer.tokenize(x))\n"
   ]
  },
  {
   "cell_type": "code",
   "execution_count": 115,
   "metadata": {},
   "outputs": [
    {
     "data": {
      "text/plain": [
       "[]"
      ]
     },
     "execution_count": 115,
     "metadata": {},
     "output_type": "execute_result"
    }
   ],
   "source": [
    "unique_words"
   ]
  },
  {
   "cell_type": "code",
   "execution_count": 110,
   "metadata": {},
   "outputs": [
    {
     "data": {
      "text/plain": [
       "[]"
      ]
     },
     "execution_count": 110,
     "metadata": {},
     "output_type": "execute_result"
    }
   ],
   "source": [
    "unique_words"
   ]
  },
  {
   "cell_type": "code",
   "execution_count": null,
   "metadata": {},
   "outputs": [],
   "source": []
  }
 ],
 "metadata": {
  "kernelspec": {
   "display_name": "Python 3",
   "language": "python",
   "name": "python3"
  },
  "language_info": {
   "codemirror_mode": {
    "name": "ipython",
    "version": 3
   },
   "file_extension": ".py",
   "mimetype": "text/x-python",
   "name": "python",
   "nbconvert_exporter": "python",
   "pygments_lexer": "ipython3",
   "version": "3.12.2"
  }
 },
 "nbformat": 4,
 "nbformat_minor": 2
}
