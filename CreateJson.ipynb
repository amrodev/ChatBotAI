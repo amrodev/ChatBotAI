{
 "cells": [
  {
   "cell_type": "code",
   "execution_count": 42,
   "metadata": {},
   "outputs": [],
   "source": [
    "import csv\n",
    "import json\n",
    "import pandas as pd\n",
    "import numpy as np"
   ]
  },
  {
   "cell_type": "code",
   "execution_count": 3,
   "metadata": {},
   "outputs": [
    {
     "data": {
      "text/html": [
       "<div>\n",
       "<style scoped>\n",
       "    .dataframe tbody tr th:only-of-type {\n",
       "        vertical-align: middle;\n",
       "    }\n",
       "\n",
       "    .dataframe tbody tr th {\n",
       "        vertical-align: top;\n",
       "    }\n",
       "\n",
       "    .dataframe thead th {\n",
       "        text-align: right;\n",
       "    }\n",
       "</style>\n",
       "<table border=\"1\" class=\"dataframe\">\n",
       "  <thead>\n",
       "    <tr style=\"text-align: right;\">\n",
       "      <th></th>\n",
       "      <th>question</th>\n",
       "      <th>answer</th>\n",
       "      <th>label</th>\n",
       "    </tr>\n",
       "  </thead>\n",
       "  <tbody>\n",
       "    <tr>\n",
       "      <th>0</th>\n",
       "      <td>\\nعندي الم مستمر داخل الشرج لا يوجد تشقق ولا ن...</td>\n",
       "      <td>\\n\\nاخي الكريم استخدم أقراص مضادة للالتهاب Pon...</td>\n",
       "      <td>جراحة-عامة</td>\n",
       "    </tr>\n",
       "    <tr>\n",
       "      <th>1</th>\n",
       "      <td>\\nهل يمكن لثوم ان يخفض من الضغظ وماهي الجرعه ا...</td>\n",
       "      <td>\\n\\nنعم يمكن وهناك كثير من الدراسات التي تؤكد ...</td>\n",
       "      <td>ارتفاع-ضغط-الدم</td>\n",
       "    </tr>\n",
       "    <tr>\n",
       "      <th>2</th>\n",
       "      <td>\\nعملت فحص سكر الصائم بعد صيام اكثر من ١٢ساعة\\...</td>\n",
       "      <td>\\n\\nالنتيجة طبيعية\\n2\\n2023-06-03 08:16:44\\n\\n...</td>\n",
       "      <td>امراض_الجهاز_التنفسي</td>\n",
       "    </tr>\n",
       "    <tr>\n",
       "      <th>3</th>\n",
       "      <td>\\nعملت ماموجرام وموجات فوق صوتيه فوجدت تضخم فى...</td>\n",
       "      <td>\\n\\nيفضل طبعا عمل رنين لانه ادق بكثير لمعرفه ه...</td>\n",
       "      <td>الاورام-الخبيثة-والحميدة</td>\n",
       "    </tr>\n",
       "    <tr>\n",
       "      <th>4</th>\n",
       "      <td>\\nقبل ثلاثة أسابيع أصبت بالتهابات القصبات الهو...</td>\n",
       "      <td>\\n\\nالعودة والكشف عند الطبيب لمعرفة اثار المرض...</td>\n",
       "      <td>ارتفاع-ضغط-الدم</td>\n",
       "    </tr>\n",
       "  </tbody>\n",
       "</table>\n",
       "</div>"
      ],
      "text/plain": [
       "                                            question  \\\n",
       "0  \\nعندي الم مستمر داخل الشرج لا يوجد تشقق ولا ن...   \n",
       "1  \\nهل يمكن لثوم ان يخفض من الضغظ وماهي الجرعه ا...   \n",
       "2  \\nعملت فحص سكر الصائم بعد صيام اكثر من ١٢ساعة\\...   \n",
       "3  \\nعملت ماموجرام وموجات فوق صوتيه فوجدت تضخم فى...   \n",
       "4  \\nقبل ثلاثة أسابيع أصبت بالتهابات القصبات الهو...   \n",
       "\n",
       "                                              answer                     label  \n",
       "0  \\n\\nاخي الكريم استخدم أقراص مضادة للالتهاب Pon...                جراحة-عامة  \n",
       "1  \\n\\nنعم يمكن وهناك كثير من الدراسات التي تؤكد ...           ارتفاع-ضغط-الدم  \n",
       "2  \\n\\nالنتيجة طبيعية\\n2\\n2023-06-03 08:16:44\\n\\n...      امراض_الجهاز_التنفسي  \n",
       "3  \\n\\nيفضل طبعا عمل رنين لانه ادق بكثير لمعرفه ه...  الاورام-الخبيثة-والحميدة  \n",
       "4  \\n\\nالعودة والكشف عند الطبيب لمعرفة اثار المرض...           ارتفاع-ضغط-الدم  "
      ]
     },
     "execution_count": 3,
     "metadata": {},
     "output_type": "execute_result"
    }
   ],
   "source": [
    "train_data = pd.read_csv('train.csv')\n",
    "val_data = pd.read_csv('val.csv')\n",
    "test_data = pd.read_csv('test.csv')\n",
    "test_data.head()"
   ]
  },
  {
   "cell_type": "code",
   "execution_count": 41,
   "metadata": {},
   "outputs": [
    {
     "name": "stdout",
     "output_type": "stream",
     "text": [
      "No row found with label equal to 'orange'\n"
     ]
    }
   ],
   "source": [
    "column_name = 'label'\n",
    "random_row = train_data.sample(n=2)\n",
    "filtered_row = random_row[random_row[column_name] == 'جراحة-عامة']\n",
    "if not filtered_row.empty:\n",
    "      print(filtered_row['answer'])\n",
    "else:\n",
    "  print(\"No row found with\", column_name, \"equal to 'orange'\")"
   ]
  },
  {
   "cell_type": "code",
   "execution_count": 47,
   "metadata": {},
   "outputs": [
    {
     "name": "stdout",
     "output_type": "stream",
     "text": [
      "\n",
      "\n",
      "من الضروري مراجعة الطبيب للفحص وإجراء التصوير اللازم\n",
      "0\n",
      "2018-07-18 07:28:34\n",
      "\n",
      "\n",
      "الدكتور اسامة العبدالله\n",
      "\n",
      "\n",
      "\n",
      "\n",
      "\n",
      "\n",
      "\n",
      "/اسئلة-طبية/جراحة-عامة/فتره-احسست-بوجود-شي-ب-الثدي-الايسر-كتله-دائريه-1185523\n",
      "\n",
      "الدكتور اسامة العبدالله \n",
      "\n",
      "\n",
      "جراحة عامة \n",
      "\n",
      "\n",
      "\n"
     ]
    }
   ],
   "source": []
  },
  {
   "cell_type": "code",
   "execution_count": null,
   "metadata": {},
   "outputs": [],
   "source": []
  }
 ],
 "metadata": {
  "kernelspec": {
   "display_name": "Python 3",
   "language": "python",
   "name": "python3"
  },
  "language_info": {
   "codemirror_mode": {
    "name": "ipython",
    "version": 3
   },
   "file_extension": ".py",
   "mimetype": "text/x-python",
   "name": "python",
   "nbconvert_exporter": "python",
   "pygments_lexer": "ipython3",
   "version": "3.12.2"
  }
 },
 "nbformat": 4,
 "nbformat_minor": 2
}
