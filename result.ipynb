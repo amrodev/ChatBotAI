{
 "cells": [
  {
   "cell_type": "code",
   "execution_count": 1,
   "metadata": {},
   "outputs": [],
   "source": [
    "from tensorflow.keras.preprocessing.text import Tokenizer\n",
    "from tensorflow.keras.preprocessing.sequence import pad_sequences\n",
    "from tensorflow.keras.models import load_model\n",
    "import numpy as np\n",
    "import pickle\n",
    "import pandas as pd\n"
   ]
  },
  {
   "cell_type": "code",
   "execution_count": 2,
   "metadata": {},
   "outputs": [],
   "source": [
    "data = pd.read_csv('train.csv')"
   ]
  },
  {
   "cell_type": "code",
   "execution_count": null,
   "metadata": {},
   "outputs": [],
   "source": []
  },
  {
   "cell_type": "code",
   "execution_count": 3,
   "metadata": {},
   "outputs": [
    {
     "name": "stderr",
     "output_type": "stream",
     "text": [
      "WARNING:absl:Compiled the loaded model, but the compiled metrics have yet to be built. `model.compile_metrics` will be empty until you train or evaluate the model.\n"
     ]
    }
   ],
   "source": [
    "model = load_model('chatbotClassificationModel.h5')\n",
    "tokenizer = pickle.load(open('chatbotTokinizer.pkl','rb'))\n",
    "le = pickle.load(open('chatbotLabelencoder.pkl','rb'))"
   ]
  },
  {
   "cell_type": "code",
   "execution_count": 17,
   "metadata": {},
   "outputs": [],
   "source": [
    "def chat(user_input):\n",
    "    if user_input.lower() == 'exit':\n",
    "        print(\"الي اللقاء سعيد بخدمتك\")\n",
    "    else:\n",
    "        text = tokenizer.texts_to_sequences([user_input])\n",
    "        text = pad_sequences(text,maxlen=20)\n",
    "        result = model.predict(text)\n",
    "        output_class = np.argmax(result)\n",
    "        print(output_class)\n",
    "        # output = le.inverse_transform(np.array([output_class]))\n",
    "        \n",
    "        # try:\n",
    "        #     mask = data['label'] == output[0]\n",
    "        #     if mask.any():\n",
    "        #         random_index = np.random.choice(mask[mask].index)\n",
    "        #         random_row = data.iloc[random_index]\n",
    "        #         print(f\"المساعد الشخصي: {random_row['answer']}\")\n",
    "        #     else:\n",
    "        #         print(f\"المساعد الشخصي: عفوا لم افهم السوال\")\n",
    "        # except ValueError as e:\n",
    "        #     print(\"Error:\", e)\n",
    "        #     print(f\"المساعد الشخصي: عفوا لم افهم السوال\")"
   ]
  },
  {
   "cell_type": "code",
   "execution_count": 18,
   "metadata": {},
   "outputs": [
    {
     "name": "stdout",
     "output_type": "stream",
     "text": [
      "\u001b[1m1/1\u001b[0m \u001b[32m━━━━━━━━━━━━━━━━━━━━\u001b[0m\u001b[37m\u001b[0m \u001b[1m0s\u001b[0m 33ms/step\n",
      "12\n"
     ]
    }
   ],
   "source": [
    "chat(\"علاج ارتفاغ السكر التراكمي\")"
   ]
  },
  {
   "cell_type": "code",
   "execution_count": 19,
   "metadata": {},
   "outputs": [
    {
     "name": "stdout",
     "output_type": "stream",
     "text": [
      "Number of labels encoded: 7\n"
     ]
    }
   ],
   "source": [
    "num_labels = len(le.classes_)\n",
    "print(\"Number of labels encoded:\", num_labels)"
   ]
  },
  {
   "cell_type": "code",
   "execution_count": null,
   "metadata": {},
   "outputs": [],
   "source": []
  }
 ],
 "metadata": {
  "kernelspec": {
   "display_name": "Python 3",
   "language": "python",
   "name": "python3"
  },
  "language_info": {
   "codemirror_mode": {
    "name": "ipython",
    "version": 3
   },
   "file_extension": ".py",
   "mimetype": "text/x-python",
   "name": "python",
   "nbconvert_exporter": "python",
   "pygments_lexer": "ipython3",
   "version": "3.12.2"
  }
 },
 "nbformat": 4,
 "nbformat_minor": 2
}
