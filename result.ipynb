{
 "cells": [
  {
   "cell_type": "code",
   "execution_count": 3,
   "metadata": {},
   "outputs": [],
   "source": [
    "from tensorflow.keras.preprocessing.text import Tokenizer\n",
    "from tensorflow.keras.preprocessing.sequence import pad_sequences\n",
    "from tensorflow.keras.models import load_model\n",
    "import numpy as np\n",
    "import pickle\n",
    "import pandas as pd\n"
   ]
  },
  {
   "cell_type": "code",
   "execution_count": 4,
   "metadata": {},
   "outputs": [],
   "source": [
    "data = pd.read_csv('train.csv')"
   ]
  },
  {
   "cell_type": "code",
   "execution_count": null,
   "metadata": {},
   "outputs": [],
   "source": []
  },
  {
   "cell_type": "code",
   "execution_count": 5,
   "metadata": {},
   "outputs": [
    {
     "name": "stderr",
     "output_type": "stream",
     "text": [
      "WARNING:absl:Compiled the loaded model, but the compiled metrics have yet to be built. `model.compile_metrics` will be empty until you train or evaluate the model.\n"
     ]
    }
   ],
   "source": [
    "model = load_model('chatbotClassificationModel.h5')\n",
    "tokenizer = pickle.load(open('chatbotTokinizer.pkl','rb'))\n",
    "le = pickle.load(open('chatbotLabelencoder.pkl','rb'))"
   ]
  },
  {
   "cell_type": "code",
   "execution_count": 21,
   "metadata": {},
   "outputs": [],
   "source": [
    "def chatbot():\n",
    "    while True:\n",
    "        user_input = input(\"User: \")\n",
    "        if user_input.lower() == 'exit':\n",
    "            print(\"الي اللقاء سعيد بخدمتك\")\n",
    "            break\n",
    "        else:\n",
    "            text = tokenizer.texts_to_sequences([user_input])\n",
    "            text = pad_sequences(text,maxlen=20)\n",
    "            result = model.predict(text)\n",
    "            output_class = np.argmax(result)\n",
    "            output = le.inverse_transform(np.array([output_class]))\n",
    "            # predicted_answer = data[data['label'] == data]['answer'].iloc[0]\n",
    "            mask = data['label'] == output[0]\n",
    "            if mask.any():\n",
    "              random_index = np.random.choice(mask[mask].index)\n",
    "              random_row = data.iloc[random_index]\n",
    "              # print(random_row['answer'])\n",
    "              print(output[0])\n",
    "              print(\"----------------\")\n",
    "              print(random_row['answer'] )\n",
    "            else:\n",
    "              print(\"----------------\")\n",
    "            "
   ]
  },
  {
   "cell_type": "code",
   "execution_count": 22,
   "metadata": {},
   "outputs": [
    {
     "name": "stdout",
     "output_type": "stream",
     "text": [
      "\u001b[1m1/1\u001b[0m \u001b[32m━━━━━━━━━━━━━━━━━━━━\u001b[0m\u001b[37m\u001b[0m \u001b[1m0s\u001b[0m 16ms/step\n",
      "امراض-الجهاز-التنفسي\n",
      "----------------\n",
      "\n",
      "\n",
      "لابد أن تعرض حالته على طبيب أطفال لاحتمال وجود حساسية بالصدر\n",
      "0\n",
      "2023-06-12 00:14:12\n",
      "\n",
      "\n",
      "د. ابو الحسن سعد الدين غنيم\n",
      "\n",
      "\n",
      "\n",
      "\n",
      "\n",
      "\n",
      "\n",
      "/اسئلة-طبية/امراض-الجهاز-التنفسي/لديه-اعراض-تتمتل-في-مشكلة-في-التنفس-عبارة-عن-اختناق-1713195\n",
      "\n",
      "د. ابو الحسن سعد الدين غنيم \n",
      "\n",
      "\n",
      "صدرية \n",
      "\n",
      "\n",
      "\n",
      "\u001b[1m1/1\u001b[0m \u001b[32m━━━━━━━━━━━━━━━━━━━━\u001b[0m\u001b[37m\u001b[0m \u001b[1m0s\u001b[0m 37ms/step\n",
      "جراحة عامة\n",
      "----------------\n",
      "\n",
      "\n",
      "قد يكون من تأثيرات الأدوية التي تستخدمها لعلاج الضغط وبتعديل الجرعة أو تغير الدواء من قبل طبيبك المعالج ستتلاشى\n",
      "0\n",
      "2013-03-11 10:55:57\n",
      "\n",
      "\n",
      "الدكتور انور سالم العواودة\n",
      "\n",
      "\n",
      "\n",
      "\n",
      "\n",
      "\n",
      "\n",
      "/اسئلة-طبية/ارتفاع-ضغط-الدم/ما-هو-سبب-وجود-الم-في-فروة-الراس-في-الجهه-اليسرى-في-139736\n",
      "\n",
      "الدكتور انور سالم العواودة \n",
      "\n",
      "\n",
      "القلب والاوعية الدموية \n",
      "\n",
      "\n",
      "\n",
      "الي اللقاء سعيد بخدمتك\n"
     ]
    }
   ],
   "source": [
    "chatbot()"
   ]
  },
  {
   "cell_type": "code",
   "execution_count": null,
   "metadata": {},
   "outputs": [],
   "source": []
  }
 ],
 "metadata": {
  "kernelspec": {
   "display_name": "Python 3",
   "language": "python",
   "name": "python3"
  },
  "language_info": {
   "codemirror_mode": {
    "name": "ipython",
    "version": 3
   },
   "file_extension": ".py",
   "mimetype": "text/x-python",
   "name": "python",
   "nbconvert_exporter": "python",
   "pygments_lexer": "ipython3",
   "version": "3.12.2"
  }
 },
 "nbformat": 4,
 "nbformat_minor": 2
}
